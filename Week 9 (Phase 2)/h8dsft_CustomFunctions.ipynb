{
  "nbformat": 4,
  "nbformat_minor": 0,
  "metadata": {
    "colab": {
      "name": "h8dsft_CustomFunctions.ipynb",
      "provenance": [],
      "collapsed_sections": []
    },
    "kernelspec": {
      "name": "python3",
      "display_name": "Python 3"
    },
    "language_info": {
      "name": "python"
    }
  },
  "cells": [
    {
      "cell_type": "markdown",
      "metadata": {
        "id": "ONbazpBwrJ6f"
      },
      "source": [
        "##**NON GRADED CHALLENGE 2**\n",
        "\n",
        "##**BY : M RIZKI HERFIAN**\n",
        "\n",
        "##**MATERI : Custom Functions**"
      ]
    },
    {
      "cell_type": "markdown",
      "metadata": {
        "id": "Wz_n9969ruWG"
      },
      "source": [
        "##**STEP 1 : IMPORT LIBRARY**"
      ]
    },
    {
      "cell_type": "code",
      "metadata": {
        "id": "UbFn7Bo2q1sY"
      },
      "source": [
        "import pandas as pd\n",
        "import numpy as np\n",
        "import matplotlib as mpl\n",
        "import matplotlib.pyplot as plt\n",
        "%matplotlib inline\n",
        "import tensorflow as tf\n",
        "from tensorflow import keras"
      ],
      "execution_count": 1,
      "outputs": []
    },
    {
      "cell_type": "markdown",
      "metadata": {
        "id": "yA-c_kASwdTQ"
      },
      "source": [
        "**Formating**"
      ]
    },
    {
      "cell_type": "code",
      "metadata": {
        "id": "aFeB5dwmwXe7"
      },
      "source": [
        "np.random.seed(77)\n",
        "pd.options.display.float_format='{:.4f}'.format"
      ],
      "execution_count": 2,
      "outputs": []
    },
    {
      "cell_type": "markdown",
      "metadata": {
        "id": "AVFeyQ7Fr5fp"
      },
      "source": [
        "## **STEP 2 : PROBLEMS**"
      ]
    },
    {
      "cell_type": "markdown",
      "metadata": {
        "id": "I3YUcXlnr_Am"
      },
      "source": [
        "* **Build 2 50x2 dimension Tensor with random binary values and their probability of 0 and 1 is 0.5**\n",
        "\n",
        "* **Use the first generated tensor as target, and the other vector as prediction. We will use these vectors to learn custom losses and metrics.**\n",
        "\n",
        "* **Build the following losses used for classification with custom functions:**\n",
        " * **Cross Entropy Loss**\n",
        " * **KL-Diverge**\n",
        " * **Hinge Loss**\n",
        "\n",
        "* **Use the loss to compare the two tensors that you have built previously. Compare the result of your custom function with the default loss function provided by Keras.**\n",
        "\n",
        "* **Build F1 score calculation with custom metrics.**"
      ]
    },
    {
      "cell_type": "markdown",
      "metadata": {
        "id": "y_diu7IDs1nX"
      },
      "source": [
        "## **STEP 3 : PROBLEM SOLVING**"
      ]
    },
    {
      "cell_type": "markdown",
      "metadata": {
        "id": "ro5u5wc1tQIk"
      },
      "source": [
        "**Build 2 50x2 dimension Tensor with random binary values and their probability of 0 and 1 is 0.5**"
      ]
    },
    {
      "cell_type": "code",
      "metadata": {
        "id": "f2VOvO-qtEry"
      },
      "source": [
        "prob1 = tf.random.uniform(\n",
        "    (50, 1), minval=0, maxval=1, dtype=tf.dtypes.float32, seed=1, name=None\n",
        ")\n",
        "prob2 = tf.random.uniform(\n",
        "    (50, 1), minval=0, maxval=1, dtype=tf.dtypes.float32, seed=2, name=None\n",
        ")\n",
        "binary1 = tf.where(prob1>0.5,1.0,0.0)\n",
        "binary2 = tf.where(prob2>0.5,1.0,0.0)"
      ],
      "execution_count": 3,
      "outputs": []
    },
    {
      "cell_type": "markdown",
      "metadata": {
        "id": "Lcm9MDDRti5Q"
      },
      "source": [
        "**Use the first generated tensor as target, and the other vector as prediction. We will use these vectors to learn custom losses and metrics.**"
      ]
    },
    {
      "cell_type": "code",
      "metadata": {
        "id": "CsHVVJXItKb8"
      },
      "source": [
        "y_true = tf.concat([prob1,binary1],1)\n",
        "y_pred = tf.concat([prob2,binary2],1)"
      ],
      "execution_count": 4,
      "outputs": []
    },
    {
      "cell_type": "code",
      "metadata": {
        "id": "QcDiXIHutoS-"
      },
      "source": [
        "y_true_proba = y_true[0:,0]\n",
        "y_pred_proba = y_pred[0:,0]\n",
        "\n",
        "y_true = y_true[0:,1]\n",
        "y_pred = y_pred[0:,1]"
      ],
      "execution_count": 5,
      "outputs": []
    },
    {
      "cell_type": "markdown",
      "metadata": {
        "id": "bEcB5lAXtydU"
      },
      "source": [
        "**Build the following losses used for classification with custom functions:**"
      ]
    },
    {
      "cell_type": "markdown",
      "metadata": {
        "id": "sgSxCM86t1cJ"
      },
      "source": [
        " * **Cross Entropy Loss**"
      ]
    },
    {
      "cell_type": "code",
      "metadata": {
        "id": "p0MlsgSBuCQF"
      },
      "source": [
        "def cross_entropy(y_true:np.ndarray, y_pred:np.ndarray):\n",
        "    return (-1/len(y_true))*sum((y_true*np.log(y_pred)) + ((1-y_true)*np.log(1-y_pred)))"
      ],
      "execution_count": 6,
      "outputs": []
    },
    {
      "cell_type": "code",
      "metadata": {
        "colab": {
          "base_uri": "https://localhost:8080/"
        },
        "id": "4FAUGfVZuEMK",
        "outputId": "49eba58d-9493-4a77-e3cf-f7dc6c9ca176"
      },
      "source": [
        "print(\"Cross entropy Loss Custom:\",cross_entropy(y_true, y_pred_proba).numpy())"
      ],
      "execution_count": 7,
      "outputs": [
        {
          "output_type": "stream",
          "name": "stdout",
          "text": [
            "Cross entropy Loss Custom: 1.0200276\n"
          ]
        }
      ]
    },
    {
      "cell_type": "code",
      "metadata": {
        "colab": {
          "base_uri": "https://localhost:8080/"
        },
        "id": "AfZE_-NvuGY-",
        "outputId": "c48feb73-f676-42cc-c46f-18f292f3ce54"
      },
      "source": [
        "keras_cross_entropy = tf.keras.losses.BinaryCrossentropy()\n",
        "print(\"Cross entropy Loss Keras:\",keras_cross_entropy(y_true, y_pred_proba).numpy())"
      ],
      "execution_count": 8,
      "outputs": [
        {
          "output_type": "stream",
          "name": "stdout",
          "text": [
            "Cross entropy Loss Keras: 1.020027\n"
          ]
        }
      ]
    },
    {
      "cell_type": "markdown",
      "metadata": {
        "id": "6B829ocKt-Oe"
      },
      "source": [
        " * **KL-Diverge**"
      ]
    },
    {
      "cell_type": "code",
      "metadata": {
        "id": "hFpMHgdDuIOu"
      },
      "source": [
        "def kl_diverge(y_true_proba:np.ndarray, y_pred_proba:np.ndarray):\n",
        "    return sum(y_true_proba*np.log(y_true_proba/y_pred_proba))"
      ],
      "execution_count": 9,
      "outputs": []
    },
    {
      "cell_type": "code",
      "metadata": {
        "colab": {
          "base_uri": "https://localhost:8080/"
        },
        "id": "Rk04D_l3uJkU",
        "outputId": "d10e8181-7779-4a7c-f059-e5ae6c8da88d"
      },
      "source": [
        "print(\"KL-Diverge Loss Custom:\",kl_diverge(y_true_proba, y_pred_proba).numpy())"
      ],
      "execution_count": 10,
      "outputs": [
        {
          "output_type": "stream",
          "name": "stdout",
          "text": [
            "KL-Diverge Loss Custom: 15.019988\n"
          ]
        }
      ]
    },
    {
      "cell_type": "code",
      "metadata": {
        "colab": {
          "base_uri": "https://localhost:8080/"
        },
        "id": "2yVBDevmuLik",
        "outputId": "18a47770-7e58-4106-a849-e6f4c6e7604d"
      },
      "source": [
        "keras_kl_diverge = tf.keras.losses.KLDivergence()\n",
        "print(\"KL-Diverge Loss Keras:\",keras_kl_diverge(y_true_proba, y_pred_proba).numpy())"
      ],
      "execution_count": 11,
      "outputs": [
        {
          "output_type": "stream",
          "name": "stdout",
          "text": [
            "KL-Diverge Loss Keras: 15.019989\n"
          ]
        }
      ]
    },
    {
      "cell_type": "markdown",
      "metadata": {
        "id": "C4y6MfPRt_1r"
      },
      "source": [
        " * **Hinge Loss**"
      ]
    },
    {
      "cell_type": "code",
      "metadata": {
        "id": "P-PARTn1uNhh"
      },
      "source": [
        "def hinge(y_true:np.ndarray, y_pred:np.ndarray):\n",
        "    # replace 0=-1\n",
        "    new_y_true = np.array([-1 if i==0 else i for i in y_true])\n",
        "    new_y_pred = np.array([-1 if i==0 else i for i in y_pred])\n",
        "    \n",
        "    hinge_loss = np.mean([max(0, 1-x*y) for x, y in zip(new_y_true, new_y_pred)])\n",
        "    return hinge_loss"
      ],
      "execution_count": 12,
      "outputs": []
    },
    {
      "cell_type": "code",
      "metadata": {
        "colab": {
          "base_uri": "https://localhost:8080/"
        },
        "id": "MSov8rKnuO8x",
        "outputId": "f1750248-a4b7-4717-eb9c-e52b78d1c000"
      },
      "source": [
        "print(\"Hinge Loss Custom:\",hinge(y_true, y_pred))"
      ],
      "execution_count": 13,
      "outputs": [
        {
          "output_type": "stream",
          "name": "stdout",
          "text": [
            "Hinge Loss Custom: 1.16\n"
          ]
        }
      ]
    },
    {
      "cell_type": "code",
      "metadata": {
        "colab": {
          "base_uri": "https://localhost:8080/"
        },
        "id": "F_Fxdj6TuQ2T",
        "outputId": "6b336de1-e907-40f6-a769-537d4ffe4207"
      },
      "source": [
        "keras_hinge = tf.keras.losses.Hinge()\n",
        "print(\"Hinge Loss Keras:\",keras_hinge(y_true, y_pred).numpy())"
      ],
      "execution_count": 14,
      "outputs": [
        {
          "output_type": "stream",
          "name": "stdout",
          "text": [
            "Hinge Loss Keras: 1.16\n"
          ]
        }
      ]
    },
    {
      "cell_type": "markdown",
      "metadata": {
        "id": "UaGUZf84uWUf"
      },
      "source": [
        "**Build F1 score calculation with custom metrics.**"
      ]
    },
    {
      "cell_type": "code",
      "metadata": {
        "id": "X7ZYFn_XuZGX"
      },
      "source": [
        "def f1_score(y_true:np.ndarray, y_pred:np.ndarray):\n",
        "    TP = sum([1 for actual, pred in zip(y_true, y_pred) if actual==1 and pred == 1])\n",
        "    TN = sum([1 for actual, pred in zip(y_true, y_pred) if actual==0 and pred == 0])\n",
        "    FP = sum([1 for actual, pred in zip(y_true, y_pred) if actual==0 and pred == 1])\n",
        "    FN = sum([1 for actual, pred in zip(y_true, y_pred) if actual==1 and pred == 0])\n",
        "    return TP/(TP+((1/2)*(FP+FN)))"
      ],
      "execution_count": 15,
      "outputs": []
    },
    {
      "cell_type": "code",
      "metadata": {
        "colab": {
          "base_uri": "https://localhost:8080/"
        },
        "id": "WYkLtPVPua9r",
        "outputId": "1a618bf0-472f-41b2-b964-bc1ab220f04c"
      },
      "source": [
        "print(\"F1 Score Custom:\",f1_score(y_true, y_pred))"
      ],
      "execution_count": 16,
      "outputs": [
        {
          "output_type": "stream",
          "name": "stdout",
          "text": [
            "F1 Score Custom: 0.32558139534883723\n"
          ]
        }
      ]
    },
    {
      "cell_type": "code",
      "metadata": {
        "id": "nHUAZ5Pbud6E"
      },
      "source": [
        "def keras_f1_score(y_true:np.ndarray, y_pred:np.ndarray):\n",
        "    TP = tf.keras.metrics.TruePositives()\n",
        "    TP.update_state(y_true, y_pred)\n",
        "    TP = TP.result().numpy()\n",
        "    \n",
        "    TN = tf.keras.metrics.TrueNegatives()\n",
        "    TN.update_state(y_true, y_pred)\n",
        "    TN = TN.result().numpy()\n",
        "    \n",
        "    FP = tf.keras.metrics.FalsePositives()\n",
        "    FP.update_state(y_true, y_pred)\n",
        "    FP = FP.result().numpy()\n",
        "    \n",
        "    FN = tf.keras.metrics.FalseNegatives()\n",
        "    FN.update_state(y_true, y_pred)\n",
        "    FN = FN.result().numpy()\n",
        "    \n",
        "    return TP/(TP+((1/2)*(FP+FN)))"
      ],
      "execution_count": 17,
      "outputs": []
    },
    {
      "cell_type": "code",
      "metadata": {
        "colab": {
          "base_uri": "https://localhost:8080/"
        },
        "id": "66BDXPBIueZE",
        "outputId": "a2071bc3-c297-4ddb-aa38-61855187133c"
      },
      "source": [
        "print(\"F1 Score Keras:\",keras_f1_score(y_true, y_pred))"
      ],
      "execution_count": 18,
      "outputs": [
        {
          "output_type": "stream",
          "name": "stdout",
          "text": [
            "F1 Score Keras: 0.32558139534883723\n"
          ]
        }
      ]
    }
  ]
}