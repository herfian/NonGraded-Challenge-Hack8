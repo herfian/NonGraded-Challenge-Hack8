{
  "nbformat": 4,
  "nbformat_minor": 0,
  "metadata": {
    "colab": {
      "name": "Tugas1.ipynb",
      "provenance": [],
      "collapsed_sections": []
    },
    "kernelspec": {
      "name": "python3",
      "display_name": "Python 3"
    },
    "language_info": {
      "name": "python"
    }
  },
  "cells": [
    {
      "cell_type": "markdown",
      "metadata": {
        "id": "0Aim_FlkglUJ"
      },
      "source": [
        "**Non Graded Challange 1 :**\n",
        "\n",
        "*Buatlah sebuah list dengan value berupa:\n",
        "\n",
        "numbers = [951, 402, 984, 651, 360, 69, 408, 319, 601, 485, 980, 507, 725, 547, 544, 615, 83, 165, 141, 501, 263, 617, 865, 575, 219, 390, 984, 592, 236, 105, 942, 941, 386, 462, 47, 418, 907, 344, 236, 375, 823, 566, 597, 978, 328, 615, 953, 345, 399, 162, 758, 219, 918, 237, 412, 566, 826, 248, 866, 950, 626, 949 ]\n",
        "\n",
        "*Loop dan print semua angka genap dari list angka diatas dengan urutan yang sama. Jangan mencetak angka apa pun yang muncul setelah angka 918\n",
        "\n",
        "*Tampilkan pesan 'Done' setelah looping berakhir.\n"
      ]
    },
    {
      "cell_type": "markdown",
      "metadata": {
        "id": "psBvnIIxUF6B"
      },
      "source": [
        "**STEP 1:**\n",
        "\n",
        "Petama membuat list_numbers untuk menyimpan angka inputan kemudian membuat fungsi numbers_genap dan ganjil guna untuk menyimpan nilai dan pemisah angka genap ganjil yang terdapat pada list_numbers setelah proses eksekusi program."
      ]
    },
    {
      "cell_type": "code",
      "metadata": {
        "id": "OyK6VxjmgiPq"
      },
      "source": [
        "\n",
        "list_numbers = [\n",
        "  951, 402, 984, 651, 360, 69, 408, 319, 601, 485, 980, 507, 725,\n",
        "  547, 544, 615, 83, 165, 141, 501, 263, 617, 865, 575, 219, 390,\n",
        "  984, 592, 236, 105, 942, 941, 386, 462, 47, 418, 907, 344, 236,\n",
        "  375, 823, 566, 597, 978, 328, 615, 953, 345, 399, 162, 758, 219,\n",
        "  918, 237, 412, 566, 826, 248, 866, 950, 626, 949\n",
        "  ]\n",
        "\n",
        "numbers_genap = []\n",
        "numbers_ganjil = []"
      ],
      "execution_count": null,
      "outputs": []
    },
    {
      "cell_type": "markdown",
      "metadata": {
        "id": "v0-OmaLWVLwE"
      },
      "source": [
        "**STEP 2**\n",
        "\n",
        "Kemudian inisiasikan fungsi numbers ke dalam list_numbers dan membuat 2 kondisi if numbers untuk angka yang habis dibagi dua (genap) pada list_number dan kondisi dimana setelah angka 918 program eksekusi menampilkan pesan 'done'. kemudian kondisi numbers untuk angka yang tidak habis dibagi dua(ganjil) di dalam list_numbers dimasukan ke else."
      ]
    },
    {
      "cell_type": "code",
      "metadata": {
        "id": "-_Sy0vovT7ay"
      },
      "source": [
        "for numbers in list_numbers:\n",
        "  if numbers%2 == 0:\n",
        "     numbers_genap.append(numbers) #Fungsi append menambahkan nilai array pada urutan akhir\n",
        "     if numbers == 918:\n",
        "       break\n",
        "  else:\n",
        "      numbers_ganjil.append(numbers)"
      ],
      "execution_count": null,
      "outputs": []
    },
    {
      "cell_type": "markdown",
      "metadata": {
        "id": "N3eGtCAVVO7H"
      },
      "source": [
        "**STEP 3**\n",
        "\n",
        "Terakhit jalankan perintah 'Print'untuk mengeksekusi program."
      ]
    },
    {
      "cell_type": "code",
      "metadata": {
        "colab": {
          "base_uri": "https://localhost:8080/"
        },
        "id": "KVs5MW7QUCcG",
        "outputId": "b80b4d4f-3a64-4bc0-e9a8-2fab86f3ae2c"
      },
      "source": [
        "print('genap: {} (Done)'.format(', '.join([str(numbers) for numbers in numbers_genap])))\n",
        "print('ganjil: {}'.format(', '.join([str(numbers) for numbers in numbers_ganjil])))"
      ],
      "execution_count": null,
      "outputs": [
        {
          "output_type": "stream",
          "name": "stdout",
          "text": [
            "genap: 402, 984, 360, 408, 980, 544, 390, 984, 592, 236, 942, 386, 462, 418, 344, 236, 566, 978, 328, 162, 758, 918 (Done)\n",
            "ganjil: 951, 651, 69, 319, 601, 485, 507, 725, 547, 615, 83, 165, 141, 501, 263, 617, 865, 575, 219, 105, 941, 47, 907, 375, 823, 597, 615, 953, 345, 399, 219\n"
          ]
        }
      ]
    }
  ]
}