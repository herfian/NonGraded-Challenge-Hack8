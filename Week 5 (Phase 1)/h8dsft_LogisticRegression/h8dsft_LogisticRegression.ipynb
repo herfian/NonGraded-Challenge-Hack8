{
  "nbformat": 4,
  "nbformat_minor": 0,
  "metadata": {
    "colab": {
      "name": "h8dsft_LogisticRegression.ipynb",
      "provenance": [],
      "collapsed_sections": []
    },
    "kernelspec": {
      "name": "python3",
      "display_name": "Python 3"
    },
    "language_info": {
      "name": "python"
    }
  },
  "cells": [
    {
      "cell_type": "markdown",
      "metadata": {
        "id": "fHQbVIUiHXKC"
      },
      "source": [
        "##**NON GRADED CHALLENGE 1**\n",
        "\n",
        "##**BY : M RIZKI HERFIAN**\n",
        "\n",
        "##**MATERI : Logistic Regression**"
      ]
    },
    {
      "cell_type": "markdown",
      "metadata": {
        "id": "Rb5yzwxWnlCL"
      },
      "source": [
        "##**STEP 1 : IMPORT LIBRARY**"
      ]
    },
    {
      "cell_type": "code",
      "metadata": {
        "id": "JDkapa6GHUlD",
        "colab": {
          "base_uri": "https://localhost:8080/"
        },
        "outputId": "cfd6c421-a332-4158-a7b1-d684f1f7e14e"
      },
      "source": [
        "import pandas as pd\n",
        "import numpy as np\n",
        "import matplotlib.pyplot as plt\n",
        "import sklearn\n",
        "import seaborn as sns\n",
        "plt.style.use('seaborn-darkgrid')\n",
        "pd.set_option('display.max_columns', None)\n",
        "from sklearn.model_selection import train_test_split\n",
        "from sklearn.linear_model import LogisticRegression\n",
        "from sklearn.metrics import confusion_matrix, precision_score, recall_score, classification_report, roc_auc_score, roc_curve\n",
        "from imblearn.over_sampling import SMOTE\n",
        "import warnings\n",
        "import sklearn.exceptions\n",
        "warnings.filterwarnings(\"ignore\", category=sklearn.exceptions.UndefinedMetricWarning)\n",
        "warnings.filterwarnings(\"ignore\", category=DeprecationWarning)"
      ],
      "execution_count": 1,
      "outputs": [
        {
          "output_type": "stream",
          "name": "stderr",
          "text": [
            "/usr/local/lib/python3.7/dist-packages/sklearn/externals/six.py:31: FutureWarning: The module is deprecated in version 0.21 and will be removed in version 0.23 since we've dropped support for Python 2.7. Please rely on the official version of six (https://pypi.org/project/six/).\n",
            "  \"(https://pypi.org/project/six/).\", FutureWarning)\n",
            "/usr/local/lib/python3.7/dist-packages/sklearn/utils/deprecation.py:144: FutureWarning: The sklearn.neighbors.base module is  deprecated in version 0.22 and will be removed in version 0.24. The corresponding classes / functions should instead be imported from sklearn.neighbors. Anything that cannot be imported from sklearn.neighbors is now part of the private API.\n",
            "  warnings.warn(message, FutureWarning)\n"
          ]
        }
      ]
    },
    {
      "cell_type": "markdown",
      "metadata": {
        "id": "VMCeeVa3oJn0"
      },
      "source": [
        "##**CONTEXT :**\n",
        "**According to the World Health Organization (WHO) stroke is the 2nd leading cause of death globally, responsible for approximately 11% of total deaths.**\n",
        "**This dataset is used to predict whether a patient is likely to get stroke based on the input parameters like gender, age, various diseases, and smoking status. Each row in the data provides relavant information about the patient.**\n",
        "\n",
        "##**Attribute Information :**\n",
        "* **id: unique identifier**\n",
        "* **gender: \"Male\", \"Female\" or \"Other\"**\n",
        "* **age: age of the patient**\n",
        "* **hypertension: 0 if the patient doesn't have hypertension, 1 if the patient has hypertension**\n",
        "* **heart_disease: 0 if the patient doesn't have any heart diseases, 1 if the patient has a heart disease**\n",
        "* **ever_married: \"No\" or \"Yes\"**\n",
        "* **work_type: \"children\", \"Govt_jov\", \"Never_worked\", \"Private\" or \"Self-employed\"**\n",
        "* **Residence_type: \"Rural\" or \"Urban\"**\n",
        "* **avg_glucose_level: average glucose level in blood**\n",
        "* **bmi: body mass index**\n",
        "* **smoking_status: \"formerly smoked\", \"never smoked\", \"smokes\" or \"Unknown\"***\n",
        "* **stroke: 1 if the patient had a stroke or 0 if not**\n",
        " * **Note: \"Unknown\" in smoking_status means that the information is unavailable for this patient**\n",
        "\n"
      ]
    },
    {
      "cell_type": "markdown",
      "metadata": {
        "id": "JTPBfMTIpYUN"
      },
      "source": [
        "## **STEP 2 : LOAD DATASET**"
      ]
    },
    {
      "cell_type": "code",
      "metadata": {
        "id": "cX03uUv2H-0h"
      },
      "source": [
        "data = pd.read_csv('healthcare-dataset-stroke-data.csv')"
      ],
      "execution_count": 2,
      "outputs": []
    },
    {
      "cell_type": "code",
      "metadata": {
        "colab": {
          "base_uri": "https://localhost:8080/"
        },
        "id": "Jg9XMKdnIMsO",
        "outputId": "596c9ea4-611d-4b49-cb53-a15af0871bff"
      },
      "source": [
        "data.shape"
      ],
      "execution_count": 3,
      "outputs": [
        {
          "output_type": "execute_result",
          "data": {
            "text/plain": [
              "(5110, 12)"
            ]
          },
          "metadata": {},
          "execution_count": 3
        }
      ]
    },
    {
      "cell_type": "markdown",
      "metadata": {
        "id": "k2ID4O2_piBS"
      },
      "source": [
        "## **STEP 3 : DATA EXPLORATION**"
      ]
    },
    {
      "cell_type": "code",
      "metadata": {
        "colab": {
          "base_uri": "https://localhost:8080/",
          "height": 359
        },
        "id": "4bmtErKLIJk6",
        "outputId": "12243d95-8e61-44f3-bb12-80bfdaad0492"
      },
      "source": [
        "data.head(10)"
      ],
      "execution_count": 4,
      "outputs": [
        {
          "output_type": "execute_result",
          "data": {
            "text/html": [
              "<div>\n",
              "<style scoped>\n",
              "    .dataframe tbody tr th:only-of-type {\n",
              "        vertical-align: middle;\n",
              "    }\n",
              "\n",
              "    .dataframe tbody tr th {\n",
              "        vertical-align: top;\n",
              "    }\n",
              "\n",
              "    .dataframe thead th {\n",
              "        text-align: right;\n",
              "    }\n",
              "</style>\n",
              "<table border=\"1\" class=\"dataframe\">\n",
              "  <thead>\n",
              "    <tr style=\"text-align: right;\">\n",
              "      <th></th>\n",
              "      <th>id</th>\n",
              "      <th>gender</th>\n",
              "      <th>age</th>\n",
              "      <th>hypertension</th>\n",
              "      <th>heart_disease</th>\n",
              "      <th>ever_married</th>\n",
              "      <th>work_type</th>\n",
              "      <th>Residence_type</th>\n",
              "      <th>avg_glucose_level</th>\n",
              "      <th>bmi</th>\n",
              "      <th>smoking_status</th>\n",
              "      <th>stroke</th>\n",
              "    </tr>\n",
              "  </thead>\n",
              "  <tbody>\n",
              "    <tr>\n",
              "      <th>0</th>\n",
              "      <td>9046</td>\n",
              "      <td>Male</td>\n",
              "      <td>67.0</td>\n",
              "      <td>0</td>\n",
              "      <td>1</td>\n",
              "      <td>Yes</td>\n",
              "      <td>Private</td>\n",
              "      <td>Urban</td>\n",
              "      <td>228.69</td>\n",
              "      <td>36.6</td>\n",
              "      <td>formerly smoked</td>\n",
              "      <td>1</td>\n",
              "    </tr>\n",
              "    <tr>\n",
              "      <th>1</th>\n",
              "      <td>51676</td>\n",
              "      <td>Female</td>\n",
              "      <td>61.0</td>\n",
              "      <td>0</td>\n",
              "      <td>0</td>\n",
              "      <td>Yes</td>\n",
              "      <td>Self-employed</td>\n",
              "      <td>Rural</td>\n",
              "      <td>202.21</td>\n",
              "      <td>NaN</td>\n",
              "      <td>never smoked</td>\n",
              "      <td>1</td>\n",
              "    </tr>\n",
              "    <tr>\n",
              "      <th>2</th>\n",
              "      <td>31112</td>\n",
              "      <td>Male</td>\n",
              "      <td>80.0</td>\n",
              "      <td>0</td>\n",
              "      <td>1</td>\n",
              "      <td>Yes</td>\n",
              "      <td>Private</td>\n",
              "      <td>Rural</td>\n",
              "      <td>105.92</td>\n",
              "      <td>32.5</td>\n",
              "      <td>never smoked</td>\n",
              "      <td>1</td>\n",
              "    </tr>\n",
              "    <tr>\n",
              "      <th>3</th>\n",
              "      <td>60182</td>\n",
              "      <td>Female</td>\n",
              "      <td>49.0</td>\n",
              "      <td>0</td>\n",
              "      <td>0</td>\n",
              "      <td>Yes</td>\n",
              "      <td>Private</td>\n",
              "      <td>Urban</td>\n",
              "      <td>171.23</td>\n",
              "      <td>34.4</td>\n",
              "      <td>smokes</td>\n",
              "      <td>1</td>\n",
              "    </tr>\n",
              "    <tr>\n",
              "      <th>4</th>\n",
              "      <td>1665</td>\n",
              "      <td>Female</td>\n",
              "      <td>79.0</td>\n",
              "      <td>1</td>\n",
              "      <td>0</td>\n",
              "      <td>Yes</td>\n",
              "      <td>Self-employed</td>\n",
              "      <td>Rural</td>\n",
              "      <td>174.12</td>\n",
              "      <td>24.0</td>\n",
              "      <td>never smoked</td>\n",
              "      <td>1</td>\n",
              "    </tr>\n",
              "    <tr>\n",
              "      <th>5</th>\n",
              "      <td>56669</td>\n",
              "      <td>Male</td>\n",
              "      <td>81.0</td>\n",
              "      <td>0</td>\n",
              "      <td>0</td>\n",
              "      <td>Yes</td>\n",
              "      <td>Private</td>\n",
              "      <td>Urban</td>\n",
              "      <td>186.21</td>\n",
              "      <td>29.0</td>\n",
              "      <td>formerly smoked</td>\n",
              "      <td>1</td>\n",
              "    </tr>\n",
              "    <tr>\n",
              "      <th>6</th>\n",
              "      <td>53882</td>\n",
              "      <td>Male</td>\n",
              "      <td>74.0</td>\n",
              "      <td>1</td>\n",
              "      <td>1</td>\n",
              "      <td>Yes</td>\n",
              "      <td>Private</td>\n",
              "      <td>Rural</td>\n",
              "      <td>70.09</td>\n",
              "      <td>27.4</td>\n",
              "      <td>never smoked</td>\n",
              "      <td>1</td>\n",
              "    </tr>\n",
              "    <tr>\n",
              "      <th>7</th>\n",
              "      <td>10434</td>\n",
              "      <td>Female</td>\n",
              "      <td>69.0</td>\n",
              "      <td>0</td>\n",
              "      <td>0</td>\n",
              "      <td>No</td>\n",
              "      <td>Private</td>\n",
              "      <td>Urban</td>\n",
              "      <td>94.39</td>\n",
              "      <td>22.8</td>\n",
              "      <td>never smoked</td>\n",
              "      <td>1</td>\n",
              "    </tr>\n",
              "    <tr>\n",
              "      <th>8</th>\n",
              "      <td>27419</td>\n",
              "      <td>Female</td>\n",
              "      <td>59.0</td>\n",
              "      <td>0</td>\n",
              "      <td>0</td>\n",
              "      <td>Yes</td>\n",
              "      <td>Private</td>\n",
              "      <td>Rural</td>\n",
              "      <td>76.15</td>\n",
              "      <td>NaN</td>\n",
              "      <td>Unknown</td>\n",
              "      <td>1</td>\n",
              "    </tr>\n",
              "    <tr>\n",
              "      <th>9</th>\n",
              "      <td>60491</td>\n",
              "      <td>Female</td>\n",
              "      <td>78.0</td>\n",
              "      <td>0</td>\n",
              "      <td>0</td>\n",
              "      <td>Yes</td>\n",
              "      <td>Private</td>\n",
              "      <td>Urban</td>\n",
              "      <td>58.57</td>\n",
              "      <td>24.2</td>\n",
              "      <td>Unknown</td>\n",
              "      <td>1</td>\n",
              "    </tr>\n",
              "  </tbody>\n",
              "</table>\n",
              "</div>"
            ],
            "text/plain": [
              "      id  gender   age  hypertension  heart_disease ever_married  \\\n",
              "0   9046    Male  67.0             0              1          Yes   \n",
              "1  51676  Female  61.0             0              0          Yes   \n",
              "2  31112    Male  80.0             0              1          Yes   \n",
              "3  60182  Female  49.0             0              0          Yes   \n",
              "4   1665  Female  79.0             1              0          Yes   \n",
              "5  56669    Male  81.0             0              0          Yes   \n",
              "6  53882    Male  74.0             1              1          Yes   \n",
              "7  10434  Female  69.0             0              0           No   \n",
              "8  27419  Female  59.0             0              0          Yes   \n",
              "9  60491  Female  78.0             0              0          Yes   \n",
              "\n",
              "       work_type Residence_type  avg_glucose_level   bmi   smoking_status  \\\n",
              "0        Private          Urban             228.69  36.6  formerly smoked   \n",
              "1  Self-employed          Rural             202.21   NaN     never smoked   \n",
              "2        Private          Rural             105.92  32.5     never smoked   \n",
              "3        Private          Urban             171.23  34.4           smokes   \n",
              "4  Self-employed          Rural             174.12  24.0     never smoked   \n",
              "5        Private          Urban             186.21  29.0  formerly smoked   \n",
              "6        Private          Rural              70.09  27.4     never smoked   \n",
              "7        Private          Urban              94.39  22.8     never smoked   \n",
              "8        Private          Rural              76.15   NaN          Unknown   \n",
              "9        Private          Urban              58.57  24.2          Unknown   \n",
              "\n",
              "   stroke  \n",
              "0       1  \n",
              "1       1  \n",
              "2       1  \n",
              "3       1  \n",
              "4       1  \n",
              "5       1  \n",
              "6       1  \n",
              "7       1  \n",
              "8       1  \n",
              "9       1  "
            ]
          },
          "metadata": {},
          "execution_count": 4
        }
      ]
    },
    {
      "cell_type": "code",
      "metadata": {
        "colab": {
          "base_uri": "https://localhost:8080/"
        },
        "id": "8ad90kGCIUlR",
        "outputId": "79bf7be2-5208-4759-d429-64c3e68d3b28"
      },
      "source": [
        "data.info()"
      ],
      "execution_count": 5,
      "outputs": [
        {
          "output_type": "stream",
          "name": "stdout",
          "text": [
            "<class 'pandas.core.frame.DataFrame'>\n",
            "RangeIndex: 5110 entries, 0 to 5109\n",
            "Data columns (total 12 columns):\n",
            " #   Column             Non-Null Count  Dtype  \n",
            "---  ------             --------------  -----  \n",
            " 0   id                 5110 non-null   int64  \n",
            " 1   gender             5110 non-null   object \n",
            " 2   age                5110 non-null   float64\n",
            " 3   hypertension       5110 non-null   int64  \n",
            " 4   heart_disease      5110 non-null   int64  \n",
            " 5   ever_married       5110 non-null   object \n",
            " 6   work_type          5110 non-null   object \n",
            " 7   Residence_type     5110 non-null   object \n",
            " 8   avg_glucose_level  5110 non-null   float64\n",
            " 9   bmi                4909 non-null   float64\n",
            " 10  smoking_status     5110 non-null   object \n",
            " 11  stroke             5110 non-null   int64  \n",
            "dtypes: float64(3), int64(4), object(5)\n",
            "memory usage: 479.2+ KB\n"
          ]
        }
      ]
    },
    {
      "cell_type": "code",
      "metadata": {
        "colab": {
          "base_uri": "https://localhost:8080/"
        },
        "id": "CM6jg-9qIYDo",
        "outputId": "0ecd93de-38e0-4c10-cabe-de41160ec225"
      },
      "source": [
        "data['stroke'].unique()"
      ],
      "execution_count": 6,
      "outputs": [
        {
          "output_type": "execute_result",
          "data": {
            "text/plain": [
              "array([1, 0])"
            ]
          },
          "metadata": {},
          "execution_count": 6
        }
      ]
    },
    {
      "cell_type": "markdown",
      "metadata": {
        "id": "C4ei9KQIqA5F"
      },
      "source": [
        "**Variable baru untuk kolom yang memiliki tipe data number**"
      ]
    },
    {
      "cell_type": "code",
      "metadata": {
        "id": "iNVef3yQIoZM"
      },
      "source": [
        "num_cols = list(data.select_dtypes(\"number\").drop(columns = ['id', 'stroke']).columns)"
      ],
      "execution_count": 7,
      "outputs": []
    },
    {
      "cell_type": "code",
      "metadata": {
        "colab": {
          "base_uri": "https://localhost:8080/",
          "height": 204
        },
        "id": "6Q-eAclhIr8B",
        "outputId": "226c6764-631d-4645-867e-6f4f1c29ea72"
      },
      "source": [
        "data[num_cols].describe().T"
      ],
      "execution_count": 8,
      "outputs": [
        {
          "output_type": "execute_result",
          "data": {
            "text/html": [
              "<div>\n",
              "<style scoped>\n",
              "    .dataframe tbody tr th:only-of-type {\n",
              "        vertical-align: middle;\n",
              "    }\n",
              "\n",
              "    .dataframe tbody tr th {\n",
              "        vertical-align: top;\n",
              "    }\n",
              "\n",
              "    .dataframe thead th {\n",
              "        text-align: right;\n",
              "    }\n",
              "</style>\n",
              "<table border=\"1\" class=\"dataframe\">\n",
              "  <thead>\n",
              "    <tr style=\"text-align: right;\">\n",
              "      <th></th>\n",
              "      <th>count</th>\n",
              "      <th>mean</th>\n",
              "      <th>std</th>\n",
              "      <th>min</th>\n",
              "      <th>25%</th>\n",
              "      <th>50%</th>\n",
              "      <th>75%</th>\n",
              "      <th>max</th>\n",
              "    </tr>\n",
              "  </thead>\n",
              "  <tbody>\n",
              "    <tr>\n",
              "      <th>age</th>\n",
              "      <td>5110.0</td>\n",
              "      <td>43.226614</td>\n",
              "      <td>22.612647</td>\n",
              "      <td>0.08</td>\n",
              "      <td>25.000</td>\n",
              "      <td>45.000</td>\n",
              "      <td>61.00</td>\n",
              "      <td>82.00</td>\n",
              "    </tr>\n",
              "    <tr>\n",
              "      <th>hypertension</th>\n",
              "      <td>5110.0</td>\n",
              "      <td>0.097456</td>\n",
              "      <td>0.296607</td>\n",
              "      <td>0.00</td>\n",
              "      <td>0.000</td>\n",
              "      <td>0.000</td>\n",
              "      <td>0.00</td>\n",
              "      <td>1.00</td>\n",
              "    </tr>\n",
              "    <tr>\n",
              "      <th>heart_disease</th>\n",
              "      <td>5110.0</td>\n",
              "      <td>0.054012</td>\n",
              "      <td>0.226063</td>\n",
              "      <td>0.00</td>\n",
              "      <td>0.000</td>\n",
              "      <td>0.000</td>\n",
              "      <td>0.00</td>\n",
              "      <td>1.00</td>\n",
              "    </tr>\n",
              "    <tr>\n",
              "      <th>avg_glucose_level</th>\n",
              "      <td>5110.0</td>\n",
              "      <td>106.147677</td>\n",
              "      <td>45.283560</td>\n",
              "      <td>55.12</td>\n",
              "      <td>77.245</td>\n",
              "      <td>91.885</td>\n",
              "      <td>114.09</td>\n",
              "      <td>271.74</td>\n",
              "    </tr>\n",
              "    <tr>\n",
              "      <th>bmi</th>\n",
              "      <td>4909.0</td>\n",
              "      <td>28.893237</td>\n",
              "      <td>7.854067</td>\n",
              "      <td>10.30</td>\n",
              "      <td>23.500</td>\n",
              "      <td>28.100</td>\n",
              "      <td>33.10</td>\n",
              "      <td>97.60</td>\n",
              "    </tr>\n",
              "  </tbody>\n",
              "</table>\n",
              "</div>"
            ],
            "text/plain": [
              "                    count        mean        std    min     25%     50%  \\\n",
              "age                5110.0   43.226614  22.612647   0.08  25.000  45.000   \n",
              "hypertension       5110.0    0.097456   0.296607   0.00   0.000   0.000   \n",
              "heart_disease      5110.0    0.054012   0.226063   0.00   0.000   0.000   \n",
              "avg_glucose_level  5110.0  106.147677  45.283560  55.12  77.245  91.885   \n",
              "bmi                4909.0   28.893237   7.854067  10.30  23.500  28.100   \n",
              "\n",
              "                      75%     max  \n",
              "age                 61.00   82.00  \n",
              "hypertension         0.00    1.00  \n",
              "heart_disease        0.00    1.00  \n",
              "avg_glucose_level  114.09  271.74  \n",
              "bmi                 33.10   97.60  "
            ]
          },
          "metadata": {},
          "execution_count": 8
        }
      ]
    },
    {
      "cell_type": "markdown",
      "metadata": {
        "id": "Q0sF6jQ1qW1Z"
      },
      "source": [
        "**Variable baru untuk kolom yang memiliki tipe data object**"
      ]
    },
    {
      "cell_type": "code",
      "metadata": {
        "id": "ftWhsxaEIw4W"
      },
      "source": [
        "ob_cols = list(data.select_dtypes(object).columns)"
      ],
      "execution_count": 9,
      "outputs": []
    },
    {
      "cell_type": "code",
      "metadata": {
        "colab": {
          "base_uri": "https://localhost:8080/",
          "height": 204
        },
        "id": "Oqwl-8mBI8DD",
        "outputId": "12237c1f-2f4d-41fd-f1ef-61a1087596a8"
      },
      "source": [
        "data[ob_cols].describe().T"
      ],
      "execution_count": 10,
      "outputs": [
        {
          "output_type": "execute_result",
          "data": {
            "text/html": [
              "<div>\n",
              "<style scoped>\n",
              "    .dataframe tbody tr th:only-of-type {\n",
              "        vertical-align: middle;\n",
              "    }\n",
              "\n",
              "    .dataframe tbody tr th {\n",
              "        vertical-align: top;\n",
              "    }\n",
              "\n",
              "    .dataframe thead th {\n",
              "        text-align: right;\n",
              "    }\n",
              "</style>\n",
              "<table border=\"1\" class=\"dataframe\">\n",
              "  <thead>\n",
              "    <tr style=\"text-align: right;\">\n",
              "      <th></th>\n",
              "      <th>count</th>\n",
              "      <th>unique</th>\n",
              "      <th>top</th>\n",
              "      <th>freq</th>\n",
              "    </tr>\n",
              "  </thead>\n",
              "  <tbody>\n",
              "    <tr>\n",
              "      <th>gender</th>\n",
              "      <td>5110</td>\n",
              "      <td>3</td>\n",
              "      <td>Female</td>\n",
              "      <td>2994</td>\n",
              "    </tr>\n",
              "    <tr>\n",
              "      <th>ever_married</th>\n",
              "      <td>5110</td>\n",
              "      <td>2</td>\n",
              "      <td>Yes</td>\n",
              "      <td>3353</td>\n",
              "    </tr>\n",
              "    <tr>\n",
              "      <th>work_type</th>\n",
              "      <td>5110</td>\n",
              "      <td>5</td>\n",
              "      <td>Private</td>\n",
              "      <td>2925</td>\n",
              "    </tr>\n",
              "    <tr>\n",
              "      <th>Residence_type</th>\n",
              "      <td>5110</td>\n",
              "      <td>2</td>\n",
              "      <td>Urban</td>\n",
              "      <td>2596</td>\n",
              "    </tr>\n",
              "    <tr>\n",
              "      <th>smoking_status</th>\n",
              "      <td>5110</td>\n",
              "      <td>4</td>\n",
              "      <td>never smoked</td>\n",
              "      <td>1892</td>\n",
              "    </tr>\n",
              "  </tbody>\n",
              "</table>\n",
              "</div>"
            ],
            "text/plain": [
              "               count unique           top  freq\n",
              "gender          5110      3        Female  2994\n",
              "ever_married    5110      2           Yes  3353\n",
              "work_type       5110      5       Private  2925\n",
              "Residence_type  5110      2         Urban  2596\n",
              "smoking_status  5110      4  never smoked  1892"
            ]
          },
          "metadata": {},
          "execution_count": 10
        }
      ]
    },
    {
      "cell_type": "markdown",
      "metadata": {
        "id": "iLQ1gkEdqdRZ"
      },
      "source": [
        "##**STEP 4 : DATA CLEANING**"
      ]
    },
    {
      "cell_type": "markdown",
      "metadata": {
        "id": "qjekRSjAqlZa"
      },
      "source": [
        "**Melihat missing values**"
      ]
    },
    {
      "cell_type": "code",
      "metadata": {
        "colab": {
          "base_uri": "https://localhost:8080/"
        },
        "id": "4__vA0iLJAMY",
        "outputId": "5723260d-d4d7-403e-f6cf-9a3d9cd70ad1"
      },
      "source": [
        "data.isna().sum()"
      ],
      "execution_count": 11,
      "outputs": [
        {
          "output_type": "execute_result",
          "data": {
            "text/plain": [
              "id                     0\n",
              "gender                 0\n",
              "age                    0\n",
              "hypertension           0\n",
              "heart_disease          0\n",
              "ever_married           0\n",
              "work_type              0\n",
              "Residence_type         0\n",
              "avg_glucose_level      0\n",
              "bmi                  201\n",
              "smoking_status         0\n",
              "stroke                 0\n",
              "dtype: int64"
            ]
          },
          "metadata": {},
          "execution_count": 11
        }
      ]
    },
    {
      "cell_type": "markdown",
      "metadata": {
        "id": "X7y_PAEZqrO3"
      },
      "source": [
        "**Menghitung berapa persen data yang hilang pada kolom bmi, output 3,9%**"
      ]
    },
    {
      "cell_type": "code",
      "metadata": {
        "colab": {
          "base_uri": "https://localhost:8080/"
        },
        "id": "-IqgzVjIJULB",
        "outputId": "b0fd32d9-98d0-4dd3-bc93-dc712c5bd9df"
      },
      "source": [
        "data['bmi'].isnull().sum() * 100 / len(data)"
      ],
      "execution_count": 12,
      "outputs": [
        {
          "output_type": "execute_result",
          "data": {
            "text/plain": [
              "3.9334637964774952"
            ]
          },
          "metadata": {},
          "execution_count": 12
        }
      ]
    },
    {
      "cell_type": "markdown",
      "metadata": {
        "id": "TPq0s21Zq5wa"
      },
      "source": [
        "**Mengisi missing values dengan nilai mean pada data tersebut**"
      ]
    },
    {
      "cell_type": "code",
      "metadata": {
        "id": "ynrGTPH1JbGV"
      },
      "source": [
        "data['bmi'].fillna(data['bmi'].mean(), inplace = True)"
      ],
      "execution_count": 13,
      "outputs": []
    },
    {
      "cell_type": "code",
      "metadata": {
        "colab": {
          "base_uri": "https://localhost:8080/"
        },
        "id": "eM6IpNd8JiJ1",
        "outputId": "83177907-f49f-4a8f-f6af-e7436406e446"
      },
      "source": [
        "data['bmi'].head(10)"
      ],
      "execution_count": 14,
      "outputs": [
        {
          "output_type": "execute_result",
          "data": {
            "text/plain": [
              "0    36.600000\n",
              "1    28.893237\n",
              "2    32.500000\n",
              "3    34.400000\n",
              "4    24.000000\n",
              "5    29.000000\n",
              "6    27.400000\n",
              "7    22.800000\n",
              "8    28.893237\n",
              "9    24.200000\n",
              "Name: bmi, dtype: float64"
            ]
          },
          "metadata": {},
          "execution_count": 14
        }
      ]
    },
    {
      "cell_type": "markdown",
      "metadata": {
        "id": "VeON1Vc-rHz9"
      },
      "source": [
        "**Data yang sudah dibersihkan kemudian di copy**"
      ]
    },
    {
      "cell_type": "code",
      "metadata": {
        "id": "mBOUeOe8OOQS"
      },
      "source": [
        "dtc = data.copy()"
      ],
      "execution_count": 15,
      "outputs": []
    },
    {
      "cell_type": "markdown",
      "metadata": {
        "id": "updJKZU2rm-5"
      },
      "source": [
        "## **STEP 5 : DATA EXPLORATION**"
      ]
    },
    {
      "cell_type": "code",
      "metadata": {
        "colab": {
          "base_uri": "https://localhost:8080/",
          "height": 204
        },
        "id": "_RfFDCWlKPl0",
        "outputId": "82bffbb3-682d-4914-fdd7-6a9061cb5566"
      },
      "source": [
        "dtc.head()"
      ],
      "execution_count": 16,
      "outputs": [
        {
          "output_type": "execute_result",
          "data": {
            "text/html": [
              "<div>\n",
              "<style scoped>\n",
              "    .dataframe tbody tr th:only-of-type {\n",
              "        vertical-align: middle;\n",
              "    }\n",
              "\n",
              "    .dataframe tbody tr th {\n",
              "        vertical-align: top;\n",
              "    }\n",
              "\n",
              "    .dataframe thead th {\n",
              "        text-align: right;\n",
              "    }\n",
              "</style>\n",
              "<table border=\"1\" class=\"dataframe\">\n",
              "  <thead>\n",
              "    <tr style=\"text-align: right;\">\n",
              "      <th></th>\n",
              "      <th>id</th>\n",
              "      <th>gender</th>\n",
              "      <th>age</th>\n",
              "      <th>hypertension</th>\n",
              "      <th>heart_disease</th>\n",
              "      <th>ever_married</th>\n",
              "      <th>work_type</th>\n",
              "      <th>Residence_type</th>\n",
              "      <th>avg_glucose_level</th>\n",
              "      <th>bmi</th>\n",
              "      <th>smoking_status</th>\n",
              "      <th>stroke</th>\n",
              "    </tr>\n",
              "  </thead>\n",
              "  <tbody>\n",
              "    <tr>\n",
              "      <th>0</th>\n",
              "      <td>9046</td>\n",
              "      <td>Male</td>\n",
              "      <td>67.0</td>\n",
              "      <td>0</td>\n",
              "      <td>1</td>\n",
              "      <td>Yes</td>\n",
              "      <td>Private</td>\n",
              "      <td>Urban</td>\n",
              "      <td>228.69</td>\n",
              "      <td>36.600000</td>\n",
              "      <td>formerly smoked</td>\n",
              "      <td>1</td>\n",
              "    </tr>\n",
              "    <tr>\n",
              "      <th>1</th>\n",
              "      <td>51676</td>\n",
              "      <td>Female</td>\n",
              "      <td>61.0</td>\n",
              "      <td>0</td>\n",
              "      <td>0</td>\n",
              "      <td>Yes</td>\n",
              "      <td>Self-employed</td>\n",
              "      <td>Rural</td>\n",
              "      <td>202.21</td>\n",
              "      <td>28.893237</td>\n",
              "      <td>never smoked</td>\n",
              "      <td>1</td>\n",
              "    </tr>\n",
              "    <tr>\n",
              "      <th>2</th>\n",
              "      <td>31112</td>\n",
              "      <td>Male</td>\n",
              "      <td>80.0</td>\n",
              "      <td>0</td>\n",
              "      <td>1</td>\n",
              "      <td>Yes</td>\n",
              "      <td>Private</td>\n",
              "      <td>Rural</td>\n",
              "      <td>105.92</td>\n",
              "      <td>32.500000</td>\n",
              "      <td>never smoked</td>\n",
              "      <td>1</td>\n",
              "    </tr>\n",
              "    <tr>\n",
              "      <th>3</th>\n",
              "      <td>60182</td>\n",
              "      <td>Female</td>\n",
              "      <td>49.0</td>\n",
              "      <td>0</td>\n",
              "      <td>0</td>\n",
              "      <td>Yes</td>\n",
              "      <td>Private</td>\n",
              "      <td>Urban</td>\n",
              "      <td>171.23</td>\n",
              "      <td>34.400000</td>\n",
              "      <td>smokes</td>\n",
              "      <td>1</td>\n",
              "    </tr>\n",
              "    <tr>\n",
              "      <th>4</th>\n",
              "      <td>1665</td>\n",
              "      <td>Female</td>\n",
              "      <td>79.0</td>\n",
              "      <td>1</td>\n",
              "      <td>0</td>\n",
              "      <td>Yes</td>\n",
              "      <td>Self-employed</td>\n",
              "      <td>Rural</td>\n",
              "      <td>174.12</td>\n",
              "      <td>24.000000</td>\n",
              "      <td>never smoked</td>\n",
              "      <td>1</td>\n",
              "    </tr>\n",
              "  </tbody>\n",
              "</table>\n",
              "</div>"
            ],
            "text/plain": [
              "      id  gender   age  hypertension  heart_disease ever_married  \\\n",
              "0   9046    Male  67.0             0              1          Yes   \n",
              "1  51676  Female  61.0             0              0          Yes   \n",
              "2  31112    Male  80.0             0              1          Yes   \n",
              "3  60182  Female  49.0             0              0          Yes   \n",
              "4   1665  Female  79.0             1              0          Yes   \n",
              "\n",
              "       work_type Residence_type  avg_glucose_level        bmi  \\\n",
              "0        Private          Urban             228.69  36.600000   \n",
              "1  Self-employed          Rural             202.21  28.893237   \n",
              "2        Private          Rural             105.92  32.500000   \n",
              "3        Private          Urban             171.23  34.400000   \n",
              "4  Self-employed          Rural             174.12  24.000000   \n",
              "\n",
              "    smoking_status  stroke  \n",
              "0  formerly smoked       1  \n",
              "1     never smoked       1  \n",
              "2     never smoked       1  \n",
              "3           smokes       1  \n",
              "4     never smoked       1  "
            ]
          },
          "metadata": {},
          "execution_count": 16
        }
      ]
    },
    {
      "cell_type": "code",
      "metadata": {
        "colab": {
          "base_uri": "https://localhost:8080/"
        },
        "id": "0ngVvjr_OJ3M",
        "outputId": "81f8e816-01db-4bb9-b41c-29049e275049"
      },
      "source": [
        "dtc.columns"
      ],
      "execution_count": 17,
      "outputs": [
        {
          "output_type": "execute_result",
          "data": {
            "text/plain": [
              "Index(['id', 'gender', 'age', 'hypertension', 'heart_disease', 'ever_married',\n",
              "       'work_type', 'Residence_type', 'avg_glucose_level', 'bmi',\n",
              "       'smoking_status', 'stroke'],\n",
              "      dtype='object')"
            ]
          },
          "metadata": {},
          "execution_count": 17
        }
      ]
    },
    {
      "cell_type": "markdown",
      "metadata": {
        "id": "R6C0KCUM4-mv"
      },
      "source": [
        "**Grouping**"
      ]
    },
    {
      "cell_type": "code",
      "metadata": {
        "colab": {
          "base_uri": "https://localhost:8080/",
          "height": 142
        },
        "id": "a4mkpPguOViN",
        "outputId": "088b5c34-dd3f-406c-f88f-29fe469dd5d6"
      },
      "source": [
        "dtc.groupby(['stroke']).mean()[['age', 'avg_glucose_level', 'bmi']]"
      ],
      "execution_count": 18,
      "outputs": [
        {
          "output_type": "execute_result",
          "data": {
            "text/html": [
              "<div>\n",
              "<style scoped>\n",
              "    .dataframe tbody tr th:only-of-type {\n",
              "        vertical-align: middle;\n",
              "    }\n",
              "\n",
              "    .dataframe tbody tr th {\n",
              "        vertical-align: top;\n",
              "    }\n",
              "\n",
              "    .dataframe thead th {\n",
              "        text-align: right;\n",
              "    }\n",
              "</style>\n",
              "<table border=\"1\" class=\"dataframe\">\n",
              "  <thead>\n",
              "    <tr style=\"text-align: right;\">\n",
              "      <th></th>\n",
              "      <th>age</th>\n",
              "      <th>avg_glucose_level</th>\n",
              "      <th>bmi</th>\n",
              "    </tr>\n",
              "    <tr>\n",
              "      <th>stroke</th>\n",
              "      <th></th>\n",
              "      <th></th>\n",
              "      <th></th>\n",
              "    </tr>\n",
              "  </thead>\n",
              "  <tbody>\n",
              "    <tr>\n",
              "      <th>0</th>\n",
              "      <td>41.971545</td>\n",
              "      <td>104.795513</td>\n",
              "      <td>28.825388</td>\n",
              "    </tr>\n",
              "    <tr>\n",
              "      <th>1</th>\n",
              "      <td>67.728193</td>\n",
              "      <td>132.544739</td>\n",
              "      <td>30.217789</td>\n",
              "    </tr>\n",
              "  </tbody>\n",
              "</table>\n",
              "</div>"
            ],
            "text/plain": [
              "              age  avg_glucose_level        bmi\n",
              "stroke                                         \n",
              "0       41.971545         104.795513  28.825388\n",
              "1       67.728193         132.544739  30.217789"
            ]
          },
          "metadata": {},
          "execution_count": 18
        }
      ]
    },
    {
      "cell_type": "code",
      "metadata": {
        "colab": {
          "base_uri": "https://localhost:8080/",
          "height": 142
        },
        "id": "1ywIftCaOc2d",
        "outputId": "a9b42531-9d1f-4210-d66a-4d4380c84daf"
      },
      "source": [
        "dtc[\n",
        "    (dtc['hypertension'] == 1)\n",
        "].groupby(['stroke']).count()[['id']]"
      ],
      "execution_count": 19,
      "outputs": [
        {
          "output_type": "execute_result",
          "data": {
            "text/html": [
              "<div>\n",
              "<style scoped>\n",
              "    .dataframe tbody tr th:only-of-type {\n",
              "        vertical-align: middle;\n",
              "    }\n",
              "\n",
              "    .dataframe tbody tr th {\n",
              "        vertical-align: top;\n",
              "    }\n",
              "\n",
              "    .dataframe thead th {\n",
              "        text-align: right;\n",
              "    }\n",
              "</style>\n",
              "<table border=\"1\" class=\"dataframe\">\n",
              "  <thead>\n",
              "    <tr style=\"text-align: right;\">\n",
              "      <th></th>\n",
              "      <th>id</th>\n",
              "    </tr>\n",
              "    <tr>\n",
              "      <th>stroke</th>\n",
              "      <th></th>\n",
              "    </tr>\n",
              "  </thead>\n",
              "  <tbody>\n",
              "    <tr>\n",
              "      <th>0</th>\n",
              "      <td>432</td>\n",
              "    </tr>\n",
              "    <tr>\n",
              "      <th>1</th>\n",
              "      <td>66</td>\n",
              "    </tr>\n",
              "  </tbody>\n",
              "</table>\n",
              "</div>"
            ],
            "text/plain": [
              "         id\n",
              "stroke     \n",
              "0       432\n",
              "1        66"
            ]
          },
          "metadata": {},
          "execution_count": 19
        }
      ]
    },
    {
      "cell_type": "code",
      "metadata": {
        "colab": {
          "base_uri": "https://localhost:8080/",
          "height": 204
        },
        "id": "YZvnj5yzOqxr",
        "outputId": "558ecdcf-f599-4897-f3cf-a7a9ad3766f5"
      },
      "source": [
        "dtc.groupby(['stroke', 'hypertension']).count()[['id']]"
      ],
      "execution_count": 20,
      "outputs": [
        {
          "output_type": "execute_result",
          "data": {
            "text/html": [
              "<div>\n",
              "<style scoped>\n",
              "    .dataframe tbody tr th:only-of-type {\n",
              "        vertical-align: middle;\n",
              "    }\n",
              "\n",
              "    .dataframe tbody tr th {\n",
              "        vertical-align: top;\n",
              "    }\n",
              "\n",
              "    .dataframe thead th {\n",
              "        text-align: right;\n",
              "    }\n",
              "</style>\n",
              "<table border=\"1\" class=\"dataframe\">\n",
              "  <thead>\n",
              "    <tr style=\"text-align: right;\">\n",
              "      <th></th>\n",
              "      <th></th>\n",
              "      <th>id</th>\n",
              "    </tr>\n",
              "    <tr>\n",
              "      <th>stroke</th>\n",
              "      <th>hypertension</th>\n",
              "      <th></th>\n",
              "    </tr>\n",
              "  </thead>\n",
              "  <tbody>\n",
              "    <tr>\n",
              "      <th rowspan=\"2\" valign=\"top\">0</th>\n",
              "      <th>0</th>\n",
              "      <td>4429</td>\n",
              "    </tr>\n",
              "    <tr>\n",
              "      <th>1</th>\n",
              "      <td>432</td>\n",
              "    </tr>\n",
              "    <tr>\n",
              "      <th rowspan=\"2\" valign=\"top\">1</th>\n",
              "      <th>0</th>\n",
              "      <td>183</td>\n",
              "    </tr>\n",
              "    <tr>\n",
              "      <th>1</th>\n",
              "      <td>66</td>\n",
              "    </tr>\n",
              "  </tbody>\n",
              "</table>\n",
              "</div>"
            ],
            "text/plain": [
              "                       id\n",
              "stroke hypertension      \n",
              "0      0             4429\n",
              "       1              432\n",
              "1      0              183\n",
              "       1               66"
            ]
          },
          "metadata": {},
          "execution_count": 20
        }
      ]
    },
    {
      "cell_type": "code",
      "metadata": {
        "colab": {
          "base_uri": "https://localhost:8080/",
          "height": 142
        },
        "id": "ufub2dRROxBo",
        "outputId": "d50a06ec-52c4-4896-b493-b2f11badb3d2"
      },
      "source": [
        "dtc[\n",
        "    (dtc['heart_disease'] == 1)\n",
        "].groupby(['stroke']).count()[['id']]"
      ],
      "execution_count": 21,
      "outputs": [
        {
          "output_type": "execute_result",
          "data": {
            "text/html": [
              "<div>\n",
              "<style scoped>\n",
              "    .dataframe tbody tr th:only-of-type {\n",
              "        vertical-align: middle;\n",
              "    }\n",
              "\n",
              "    .dataframe tbody tr th {\n",
              "        vertical-align: top;\n",
              "    }\n",
              "\n",
              "    .dataframe thead th {\n",
              "        text-align: right;\n",
              "    }\n",
              "</style>\n",
              "<table border=\"1\" class=\"dataframe\">\n",
              "  <thead>\n",
              "    <tr style=\"text-align: right;\">\n",
              "      <th></th>\n",
              "      <th>id</th>\n",
              "    </tr>\n",
              "    <tr>\n",
              "      <th>stroke</th>\n",
              "      <th></th>\n",
              "    </tr>\n",
              "  </thead>\n",
              "  <tbody>\n",
              "    <tr>\n",
              "      <th>0</th>\n",
              "      <td>229</td>\n",
              "    </tr>\n",
              "    <tr>\n",
              "      <th>1</th>\n",
              "      <td>47</td>\n",
              "    </tr>\n",
              "  </tbody>\n",
              "</table>\n",
              "</div>"
            ],
            "text/plain": [
              "         id\n",
              "stroke     \n",
              "0       229\n",
              "1        47"
            ]
          },
          "metadata": {},
          "execution_count": 21
        }
      ]
    },
    {
      "cell_type": "code",
      "metadata": {
        "colab": {
          "base_uri": "https://localhost:8080/",
          "height": 328
        },
        "id": "oeEvEPBnO5h1",
        "outputId": "e5a941a4-c209-44e1-838c-e4829793fdaa"
      },
      "source": [
        "dtc.groupby(['stroke', 'smoking_status']).count()[['id']]"
      ],
      "execution_count": 22,
      "outputs": [
        {
          "output_type": "execute_result",
          "data": {
            "text/html": [
              "<div>\n",
              "<style scoped>\n",
              "    .dataframe tbody tr th:only-of-type {\n",
              "        vertical-align: middle;\n",
              "    }\n",
              "\n",
              "    .dataframe tbody tr th {\n",
              "        vertical-align: top;\n",
              "    }\n",
              "\n",
              "    .dataframe thead th {\n",
              "        text-align: right;\n",
              "    }\n",
              "</style>\n",
              "<table border=\"1\" class=\"dataframe\">\n",
              "  <thead>\n",
              "    <tr style=\"text-align: right;\">\n",
              "      <th></th>\n",
              "      <th></th>\n",
              "      <th>id</th>\n",
              "    </tr>\n",
              "    <tr>\n",
              "      <th>stroke</th>\n",
              "      <th>smoking_status</th>\n",
              "      <th></th>\n",
              "    </tr>\n",
              "  </thead>\n",
              "  <tbody>\n",
              "    <tr>\n",
              "      <th rowspan=\"4\" valign=\"top\">0</th>\n",
              "      <th>Unknown</th>\n",
              "      <td>1497</td>\n",
              "    </tr>\n",
              "    <tr>\n",
              "      <th>formerly smoked</th>\n",
              "      <td>815</td>\n",
              "    </tr>\n",
              "    <tr>\n",
              "      <th>never smoked</th>\n",
              "      <td>1802</td>\n",
              "    </tr>\n",
              "    <tr>\n",
              "      <th>smokes</th>\n",
              "      <td>747</td>\n",
              "    </tr>\n",
              "    <tr>\n",
              "      <th rowspan=\"4\" valign=\"top\">1</th>\n",
              "      <th>Unknown</th>\n",
              "      <td>47</td>\n",
              "    </tr>\n",
              "    <tr>\n",
              "      <th>formerly smoked</th>\n",
              "      <td>70</td>\n",
              "    </tr>\n",
              "    <tr>\n",
              "      <th>never smoked</th>\n",
              "      <td>90</td>\n",
              "    </tr>\n",
              "    <tr>\n",
              "      <th>smokes</th>\n",
              "      <td>42</td>\n",
              "    </tr>\n",
              "  </tbody>\n",
              "</table>\n",
              "</div>"
            ],
            "text/plain": [
              "                          id\n",
              "stroke smoking_status       \n",
              "0      Unknown          1497\n",
              "       formerly smoked   815\n",
              "       never smoked     1802\n",
              "       smokes            747\n",
              "1      Unknown            47\n",
              "       formerly smoked    70\n",
              "       never smoked       90\n",
              "       smokes             42"
            ]
          },
          "metadata": {},
          "execution_count": 22
        }
      ]
    },
    {
      "cell_type": "code",
      "metadata": {
        "colab": {
          "base_uri": "https://localhost:8080/",
          "height": 359
        },
        "id": "nqS38DBFPAK4",
        "outputId": "51dff5e6-4d0c-4dca-9c12-c77adde41f76"
      },
      "source": [
        "dtc.groupby(['stroke', 'work_type']).count()[['id']]"
      ],
      "execution_count": 23,
      "outputs": [
        {
          "output_type": "execute_result",
          "data": {
            "text/html": [
              "<div>\n",
              "<style scoped>\n",
              "    .dataframe tbody tr th:only-of-type {\n",
              "        vertical-align: middle;\n",
              "    }\n",
              "\n",
              "    .dataframe tbody tr th {\n",
              "        vertical-align: top;\n",
              "    }\n",
              "\n",
              "    .dataframe thead th {\n",
              "        text-align: right;\n",
              "    }\n",
              "</style>\n",
              "<table border=\"1\" class=\"dataframe\">\n",
              "  <thead>\n",
              "    <tr style=\"text-align: right;\">\n",
              "      <th></th>\n",
              "      <th></th>\n",
              "      <th>id</th>\n",
              "    </tr>\n",
              "    <tr>\n",
              "      <th>stroke</th>\n",
              "      <th>work_type</th>\n",
              "      <th></th>\n",
              "    </tr>\n",
              "  </thead>\n",
              "  <tbody>\n",
              "    <tr>\n",
              "      <th rowspan=\"5\" valign=\"top\">0</th>\n",
              "      <th>Govt_job</th>\n",
              "      <td>624</td>\n",
              "    </tr>\n",
              "    <tr>\n",
              "      <th>Never_worked</th>\n",
              "      <td>22</td>\n",
              "    </tr>\n",
              "    <tr>\n",
              "      <th>Private</th>\n",
              "      <td>2776</td>\n",
              "    </tr>\n",
              "    <tr>\n",
              "      <th>Self-employed</th>\n",
              "      <td>754</td>\n",
              "    </tr>\n",
              "    <tr>\n",
              "      <th>children</th>\n",
              "      <td>685</td>\n",
              "    </tr>\n",
              "    <tr>\n",
              "      <th rowspan=\"4\" valign=\"top\">1</th>\n",
              "      <th>Govt_job</th>\n",
              "      <td>33</td>\n",
              "    </tr>\n",
              "    <tr>\n",
              "      <th>Private</th>\n",
              "      <td>149</td>\n",
              "    </tr>\n",
              "    <tr>\n",
              "      <th>Self-employed</th>\n",
              "      <td>65</td>\n",
              "    </tr>\n",
              "    <tr>\n",
              "      <th>children</th>\n",
              "      <td>2</td>\n",
              "    </tr>\n",
              "  </tbody>\n",
              "</table>\n",
              "</div>"
            ],
            "text/plain": [
              "                        id\n",
              "stroke work_type          \n",
              "0      Govt_job        624\n",
              "       Never_worked     22\n",
              "       Private        2776\n",
              "       Self-employed   754\n",
              "       children        685\n",
              "1      Govt_job         33\n",
              "       Private         149\n",
              "       Self-employed    65\n",
              "       children          2"
            ]
          },
          "metadata": {},
          "execution_count": 23
        }
      ]
    },
    {
      "cell_type": "markdown",
      "metadata": {
        "id": "JKHXoq6l5Fhd"
      },
      "source": [
        "## **STEP 6 : EDA VISUALIZATION**"
      ]
    },
    {
      "cell_type": "code",
      "metadata": {
        "colab": {
          "base_uri": "https://localhost:8080/",
          "height": 292
        },
        "id": "FX0uWo8PPSaF",
        "outputId": "8c042f75-038c-4bbd-a248-16ab7343e04c"
      },
      "source": [
        "ax = sns.countplot(x = dtc['stroke'])\n",
        "xlabels = ['No', 'Yes']\n",
        "plt.xticks(np.arange(2), xlabels)\n",
        "\n",
        "# annotate bar\n",
        "for p in ax.patches:\n",
        "    ax.annotate(\n",
        "        format(p.get_height(), '.0f'),\n",
        "        (p.get_x() + p.get_width() / 2., p.get_height()), \n",
        "        ha = 'center',\n",
        "        fontweight = 'semibold',\n",
        "        size = 17,\n",
        "        xytext = (0, 15), \n",
        "        textcoords = 'offset points',\n",
        "        color = 'grey'\n",
        "    )\n",
        "\n",
        "plt.show()"
      ],
      "execution_count": 24,
      "outputs": [
        {
          "output_type": "display_data",
          "data": {
            "image/png": "[encoded data removed]",
            "text/plain": [
              "<Figure size 432x288 with 1 Axes>"
            ]
          },
          "metadata": {
            "needs_background": "light"
          }
        }
      ]
    },
    {
      "cell_type": "markdown",
      "metadata": {
        "id": "A8M57mw35TS2"
      },
      "source": [
        "**Untuk kolom bertipe data numeric**"
      ]
    },
    {
      "cell_type": "code",
      "metadata": {
        "colab": {
          "base_uri": "https://localhost:8080/",
          "height": 664
        },
        "id": "V1IjO29UPoDW",
        "outputId": "534eabe1-828f-4e3f-c517-2c89f060c1c9"
      },
      "source": [
        "# plot all numerical features\n",
        "plt.figure(figsize = (20, 10))\n",
        "for i in range(len(num_cols)):\n",
        "    plt.subplot(len(num_cols)//3+1, 3, i + 1)\n",
        "    plt.hist(dtc[num_cols[i]])\n",
        "    plt.title(num_cols[i], fontsize = 20)\n",
        "plt.tight_layout()\n",
        "plt.show()"
      ],
      "execution_count": 25,
      "outputs": [
        {
          "output_type": "display_data",
          "data": {
            "image/png": "[encoded data removed]",
            "text/plain": [
              "<Figure size 1440x720 with 5 Axes>"
            ]
          },
          "metadata": {
            "needs_background": "light"
          }
        }
      ]
    },
    {
      "cell_type": "code",
      "metadata": {
        "colab": {
          "base_uri": "https://localhost:8080/",
          "height": 664
        },
        "id": "o7Ixvkh7PzyH",
        "outputId": "ad3ff007-8310-48f5-c296-30bde99f5c22"
      },
      "source": [
        "# plot all numerical features\n",
        "plt.figure(figsize = (20, 10))\n",
        "for i in range(len(num_cols)):\n",
        "    plt.subplot(len(num_cols)//3+1, 3, i + 1)\n",
        "    sns.boxplot(data = dtc[num_cols[i]])\n",
        "    plt.title(num_cols[i], fontsize = 20)\n",
        "plt.tight_layout()\n",
        "plt.show()"
      ],
      "execution_count": 26,
      "outputs": [
        {
          "output_type": "display_data",
          "data": {
            "image/png": "[encoded data removed]",
            "text/plain": [
              "<Figure size 1440x720 with 5 Axes>"
            ]
          },
          "metadata": {
            "needs_background": "light"
          }
        }
      ]
    },
    {
      "cell_type": "code",
      "metadata": {
        "colab": {
          "base_uri": "https://localhost:8080/",
          "height": 664
        },
        "id": "qS9vtBWuP9Sk",
        "outputId": "6c776017-5289-417e-920c-755b721fa8eb"
      },
      "source": [
        "# plot all numerical features\n",
        "plt.figure(figsize = (20, 10))\n",
        "for i in range(len(num_cols)):\n",
        "    plt.subplot(len(num_cols)//3+1, 3, i + 1)\n",
        "    sns.boxplot(y = dtc[num_cols[i]], x = dtc['stroke'])\n",
        "    plt.title(num_cols[i], fontsize = 20)\n",
        "plt.tight_layout()\n",
        "plt.show()"
      ],
      "execution_count": 27,
      "outputs": [
        {
          "output_type": "display_data",
          "data": {
            "image/png": "[encoded data removed]",
            "text/plain": [
              "<Figure size 1440x720 with 5 Axes>"
            ]
          },
          "metadata": {
            "needs_background": "light"
          }
        }
      ]
    },
    {
      "cell_type": "markdown",
      "metadata": {
        "id": "roKUM2625clq"
      },
      "source": [
        "**Untuk kolom bertipe data object / kategori**"
      ]
    },
    {
      "cell_type": "code",
      "metadata": {
        "colab": {
          "base_uri": "https://localhost:8080/",
          "height": 579
        },
        "id": "TAY2oKI5QFd5",
        "outputId": "1505763e-4987-4ecc-efcc-b80bd2c68707"
      },
      "source": [
        "# plot all categorical features\n",
        "plt.figure(figsize = (23, 10))\n",
        "for i in range(len(ob_cols)):\n",
        "    plt.subplot(len(ob_cols)//3+1, 3, i + 1)\n",
        "    sns.countplot(\n",
        "        x = dtc[ob_cols[i]],\n",
        "        # order by frequency\n",
        "        order = dtc[ob_cols[i]].value_counts().sort_values(ascending = False).index\n",
        "    )\n",
        "    plt.title(ob_cols[i], fontweight = 20)\n",
        "plt.tight_layout()\n",
        "plt.show()"
      ],
      "execution_count": 28,
      "outputs": [
        {
          "output_type": "display_data",
          "data": {
            "image/png": "[encoded data removed]",
            "text/plain": [
              "<Figure size 1656x720 with 5 Axes>"
            ]
          },
          "metadata": {
            "needs_background": "light"
          }
        }
      ]
    },
    {
      "cell_type": "code",
      "metadata": {
        "colab": {
          "base_uri": "https://localhost:8080/",
          "height": 579
        },
        "id": "84tgJWL-QVVI",
        "outputId": "6cd8c4c7-3e31-4646-d351-77cb4e02ac4e"
      },
      "source": [
        "\n",
        "# plot all categorical features\n",
        "plt.figure(figsize = (23, 10))\n",
        "for i in range(len(ob_cols)):\n",
        "    plt.subplot(len(ob_cols)//3+1, 3, i + 1)\n",
        "    ax = sns.countplot(\n",
        "        x = dtc[ob_cols[i]],\n",
        "        hue = dtc['stroke'],\n",
        "        # order by frequency\n",
        "        order = dtc[ob_cols[i]].value_counts().sort_values(ascending = False).index\n",
        "    )\n",
        "    plt.title(ob_cols[i], fontweight = 20)\n",
        "    \n",
        "    # annotate bar\n",
        "    for p in ax.patches:\n",
        "        ax.annotate(\n",
        "            format(p.get_height(), '.0f'),\n",
        "            (p.get_x() + p.get_width() / 2., p.get_height()), \n",
        "            ha = 'center',\n",
        "            fontweight = 'semibold',\n",
        "            size = 16,\n",
        "            xytext = (0, 10), \n",
        "            textcoords = 'offset points',\n",
        "            color = 'grey'\n",
        "        )\n",
        "plt.tight_layout()\n",
        "plt.show()"
      ],
      "execution_count": 29,
      "outputs": [
        {
          "output_type": "display_data",
          "data": {
            "image/png": "[encoded data removed]",
            "text/plain": [
              "<Figure size 1656x720 with 5 Axes>"
            ]
          },
          "metadata": {
            "needs_background": "light"
          }
        }
      ]
    },
    {
      "cell_type": "markdown",
      "metadata": {
        "id": "CU_unmY251KW"
      },
      "source": [
        "**Check korelasi data**"
      ]
    },
    {
      "cell_type": "code",
      "metadata": {
        "colab": {
          "base_uri": "https://localhost:8080/",
          "height": 425
        },
        "id": "tbI0Yf56Qudp",
        "outputId": "4966b139-27de-43f7-b70e-154e594e728c"
      },
      "source": [
        "corr_ = dtc[num_cols + ['stroke']].corr(method = 'pearson')\n",
        "corr_ = corr_.mask(np.tril(np.ones(corr_.shape)).T.astype(np.bool_)).drop(columns = ['stroke'], index = ['age'])\n",
        "\n",
        "plt.figure(figsize = (10, 7))\n",
        "sns.heatmap(\n",
        "    corr_,\n",
        "    annot = True,\n",
        "    fmt = '.2f',\n",
        "    cmap = 'PuBu'\n",
        ")\n",
        "plt.show()"
      ],
      "execution_count": 30,
      "outputs": [
        {
          "output_type": "display_data",
          "data": {
            "image/png": "[encoded data removed]",
            "text/plain": [
              "<Figure size 720x504 with 2 Axes>"
            ]
          },
          "metadata": {
            "needs_background": "light"
          }
        }
      ]
    },
    {
      "cell_type": "markdown",
      "metadata": {
        "id": "r2UjhQze6BHU"
      },
      "source": [
        "## **STEP 8 : DATA PREPROCESSING**"
      ]
    },
    {
      "cell_type": "code",
      "metadata": {
        "colab": {
          "base_uri": "https://localhost:8080/"
        },
        "id": "xMxlZDMFQ-Es",
        "outputId": "342e9bdd-9129-47ec-9e6c-2169da905cc2"
      },
      "source": [
        "dtc.info()"
      ],
      "execution_count": 31,
      "outputs": [
        {
          "output_type": "stream",
          "name": "stdout",
          "text": [
            "<class 'pandas.core.frame.DataFrame'>\n",
            "RangeIndex: 5110 entries, 0 to 5109\n",
            "Data columns (total 12 columns):\n",
            " #   Column             Non-Null Count  Dtype  \n",
            "---  ------             --------------  -----  \n",
            " 0   id                 5110 non-null   int64  \n",
            " 1   gender             5110 non-null   object \n",
            " 2   age                5110 non-null   float64\n",
            " 3   hypertension       5110 non-null   int64  \n",
            " 4   heart_disease      5110 non-null   int64  \n",
            " 5   ever_married       5110 non-null   object \n",
            " 6   work_type          5110 non-null   object \n",
            " 7   Residence_type     5110 non-null   object \n",
            " 8   avg_glucose_level  5110 non-null   float64\n",
            " 9   bmi                5110 non-null   float64\n",
            " 10  smoking_status     5110 non-null   object \n",
            " 11  stroke             5110 non-null   int64  \n",
            "dtypes: float64(3), int64(4), object(5)\n",
            "memory usage: 479.2+ KB\n"
          ]
        }
      ]
    },
    {
      "cell_type": "markdown",
      "metadata": {
        "id": "FpOdhCF_6X-R"
      },
      "source": [
        "**Categorical Feature Encoding**"
      ]
    },
    {
      "cell_type": "code",
      "metadata": {
        "colab": {
          "base_uri": "https://localhost:8080/"
        },
        "id": "T5RqgtgRRA7R",
        "outputId": "3eb52ed6-ca87-481e-b5df-749a652db14d"
      },
      "source": [
        "dtc[ob_cols].columns"
      ],
      "execution_count": 32,
      "outputs": [
        {
          "output_type": "execute_result",
          "data": {
            "text/plain": [
              "Index(['gender', 'ever_married', 'work_type', 'Residence_type',\n",
              "       'smoking_status'],\n",
              "      dtype='object')"
            ]
          },
          "metadata": {},
          "execution_count": 32
        }
      ]
    },
    {
      "cell_type": "code",
      "metadata": {
        "id": "PQfrB9U8RQjc"
      },
      "source": [
        "gender_dummies = pd.get_dummies(dtc['gender'], prefix = 'gender')\n",
        "dtc = pd.concat([dtc, gender_dummies], axis = 1)"
      ],
      "execution_count": 33,
      "outputs": []
    },
    {
      "cell_type": "code",
      "metadata": {
        "colab": {
          "base_uri": "https://localhost:8080/",
          "height": 419
        },
        "id": "JV0GpN8fRZTW",
        "outputId": "a52fa385-229e-4693-a0e6-b2e0b9443d4e"
      },
      "source": [
        "dtc.loc[:, dtc.columns.str.contains('gender')]"
      ],
      "execution_count": 34,
      "outputs": [
        {
          "output_type": "execute_result",
          "data": {
            "text/html": [
              "<div>\n",
              "<style scoped>\n",
              "    .dataframe tbody tr th:only-of-type {\n",
              "        vertical-align: middle;\n",
              "    }\n",
              "\n",
              "    .dataframe tbody tr th {\n",
              "        vertical-align: top;\n",
              "    }\n",
              "\n",
              "    .dataframe thead th {\n",
              "        text-align: right;\n",
              "    }\n",
              "</style>\n",
              "<table border=\"1\" class=\"dataframe\">\n",
              "  <thead>\n",
              "    <tr style=\"text-align: right;\">\n",
              "      <th></th>\n",
              "      <th>gender</th>\n",
              "      <th>gender_Female</th>\n",
              "      <th>gender_Male</th>\n",
              "      <th>gender_Other</th>\n",
              "    </tr>\n",
              "  </thead>\n",
              "  <tbody>\n",
              "    <tr>\n",
              "      <th>0</th>\n",
              "      <td>Male</td>\n",
              "      <td>0</td>\n",
              "      <td>1</td>\n",
              "      <td>0</td>\n",
              "    </tr>\n",
              "    <tr>\n",
              "      <th>1</th>\n",
              "      <td>Female</td>\n",
              "      <td>1</td>\n",
              "      <td>0</td>\n",
              "      <td>0</td>\n",
              "    </tr>\n",
              "    <tr>\n",
              "      <th>2</th>\n",
              "      <td>Male</td>\n",
              "      <td>0</td>\n",
              "      <td>1</td>\n",
              "      <td>0</td>\n",
              "    </tr>\n",
              "    <tr>\n",
              "      <th>3</th>\n",
              "      <td>Female</td>\n",
              "      <td>1</td>\n",
              "      <td>0</td>\n",
              "      <td>0</td>\n",
              "    </tr>\n",
              "    <tr>\n",
              "      <th>4</th>\n",
              "      <td>Female</td>\n",
              "      <td>1</td>\n",
              "      <td>0</td>\n",
              "      <td>0</td>\n",
              "    </tr>\n",
              "    <tr>\n",
              "      <th>...</th>\n",
              "      <td>...</td>\n",
              "      <td>...</td>\n",
              "      <td>...</td>\n",
              "      <td>...</td>\n",
              "    </tr>\n",
              "    <tr>\n",
              "      <th>5105</th>\n",
              "      <td>Female</td>\n",
              "      <td>1</td>\n",
              "      <td>0</td>\n",
              "      <td>0</td>\n",
              "    </tr>\n",
              "    <tr>\n",
              "      <th>5106</th>\n",
              "      <td>Female</td>\n",
              "      <td>1</td>\n",
              "      <td>0</td>\n",
              "      <td>0</td>\n",
              "    </tr>\n",
              "    <tr>\n",
              "      <th>5107</th>\n",
              "      <td>Female</td>\n",
              "      <td>1</td>\n",
              "      <td>0</td>\n",
              "      <td>0</td>\n",
              "    </tr>\n",
              "    <tr>\n",
              "      <th>5108</th>\n",
              "      <td>Male</td>\n",
              "      <td>0</td>\n",
              "      <td>1</td>\n",
              "      <td>0</td>\n",
              "    </tr>\n",
              "    <tr>\n",
              "      <th>5109</th>\n",
              "      <td>Female</td>\n",
              "      <td>1</td>\n",
              "      <td>0</td>\n",
              "      <td>0</td>\n",
              "    </tr>\n",
              "  </tbody>\n",
              "</table>\n",
              "<p>5110 rows × 4 columns</p>\n",
              "</div>"
            ],
            "text/plain": [
              "      gender  gender_Female  gender_Male  gender_Other\n",
              "0       Male              0            1             0\n",
              "1     Female              1            0             0\n",
              "2       Male              0            1             0\n",
              "3     Female              1            0             0\n",
              "4     Female              1            0             0\n",
              "...      ...            ...          ...           ...\n",
              "5105  Female              1            0             0\n",
              "5106  Female              1            0             0\n",
              "5107  Female              1            0             0\n",
              "5108    Male              0            1             0\n",
              "5109  Female              1            0             0\n",
              "\n",
              "[5110 rows x 4 columns]"
            ]
          },
          "metadata": {},
          "execution_count": 34
        }
      ]
    },
    {
      "cell_type": "code",
      "metadata": {
        "id": "Qmlwbso2Re43"
      },
      "source": [
        "ever_married_dummies = pd.get_dummies(dtc['ever_married'], prefix = 'ever_married')\n",
        "dtc = pd.concat([dtc, ever_married_dummies], axis = 1)"
      ],
      "execution_count": 35,
      "outputs": []
    },
    {
      "cell_type": "code",
      "metadata": {
        "colab": {
          "base_uri": "https://localhost:8080/",
          "height": 419
        },
        "id": "UFylgx-ZRrsl",
        "outputId": "70a9309a-0dc2-46d8-e0a3-e5f028421c09"
      },
      "source": [
        "dtc.loc[:, dtc.columns.str.contains('ever_married')]"
      ],
      "execution_count": 36,
      "outputs": [
        {
          "output_type": "execute_result",
          "data": {
            "text/html": [
              "<div>\n",
              "<style scoped>\n",
              "    .dataframe tbody tr th:only-of-type {\n",
              "        vertical-align: middle;\n",
              "    }\n",
              "\n",
              "    .dataframe tbody tr th {\n",
              "        vertical-align: top;\n",
              "    }\n",
              "\n",
              "    .dataframe thead th {\n",
              "        text-align: right;\n",
              "    }\n",
              "</style>\n",
              "<table border=\"1\" class=\"dataframe\">\n",
              "  <thead>\n",
              "    <tr style=\"text-align: right;\">\n",
              "      <th></th>\n",
              "      <th>ever_married</th>\n",
              "      <th>ever_married_No</th>\n",
              "      <th>ever_married_Yes</th>\n",
              "    </tr>\n",
              "  </thead>\n",
              "  <tbody>\n",
              "    <tr>\n",
              "      <th>0</th>\n",
              "      <td>Yes</td>\n",
              "      <td>0</td>\n",
              "      <td>1</td>\n",
              "    </tr>\n",
              "    <tr>\n",
              "      <th>1</th>\n",
              "      <td>Yes</td>\n",
              "      <td>0</td>\n",
              "      <td>1</td>\n",
              "    </tr>\n",
              "    <tr>\n",
              "      <th>2</th>\n",
              "      <td>Yes</td>\n",
              "      <td>0</td>\n",
              "      <td>1</td>\n",
              "    </tr>\n",
              "    <tr>\n",
              "      <th>3</th>\n",
              "      <td>Yes</td>\n",
              "      <td>0</td>\n",
              "      <td>1</td>\n",
              "    </tr>\n",
              "    <tr>\n",
              "      <th>4</th>\n",
              "      <td>Yes</td>\n",
              "      <td>0</td>\n",
              "      <td>1</td>\n",
              "    </tr>\n",
              "    <tr>\n",
              "      <th>...</th>\n",
              "      <td>...</td>\n",
              "      <td>...</td>\n",
              "      <td>...</td>\n",
              "    </tr>\n",
              "    <tr>\n",
              "      <th>5105</th>\n",
              "      <td>Yes</td>\n",
              "      <td>0</td>\n",
              "      <td>1</td>\n",
              "    </tr>\n",
              "    <tr>\n",
              "      <th>5106</th>\n",
              "      <td>Yes</td>\n",
              "      <td>0</td>\n",
              "      <td>1</td>\n",
              "    </tr>\n",
              "    <tr>\n",
              "      <th>5107</th>\n",
              "      <td>Yes</td>\n",
              "      <td>0</td>\n",
              "      <td>1</td>\n",
              "    </tr>\n",
              "    <tr>\n",
              "      <th>5108</th>\n",
              "      <td>Yes</td>\n",
              "      <td>0</td>\n",
              "      <td>1</td>\n",
              "    </tr>\n",
              "    <tr>\n",
              "      <th>5109</th>\n",
              "      <td>Yes</td>\n",
              "      <td>0</td>\n",
              "      <td>1</td>\n",
              "    </tr>\n",
              "  </tbody>\n",
              "</table>\n",
              "<p>5110 rows × 3 columns</p>\n",
              "</div>"
            ],
            "text/plain": [
              "     ever_married  ever_married_No  ever_married_Yes\n",
              "0             Yes                0                 1\n",
              "1             Yes                0                 1\n",
              "2             Yes                0                 1\n",
              "3             Yes                0                 1\n",
              "4             Yes                0                 1\n",
              "...           ...              ...               ...\n",
              "5105          Yes                0                 1\n",
              "5106          Yes                0                 1\n",
              "5107          Yes                0                 1\n",
              "5108          Yes                0                 1\n",
              "5109          Yes                0                 1\n",
              "\n",
              "[5110 rows x 3 columns]"
            ]
          },
          "metadata": {},
          "execution_count": 36
        }
      ]
    },
    {
      "cell_type": "code",
      "metadata": {
        "id": "v86j6qdfR4eJ"
      },
      "source": [
        "work_type_dummies = pd.get_dummies(dtc['work_type'], prefix = 'work_type')\n",
        "dtc = pd.concat([dtc, work_type_dummies], axis = 1)"
      ],
      "execution_count": 37,
      "outputs": []
    },
    {
      "cell_type": "code",
      "metadata": {
        "colab": {
          "base_uri": "https://localhost:8080/",
          "height": 419
        },
        "id": "BQTRR67kSIwU",
        "outputId": "1e3fe00a-7dcf-444d-acc2-74de6eb9f253"
      },
      "source": [
        "dtc.loc[:, dtc.columns.str.contains('work_type')]"
      ],
      "execution_count": 38,
      "outputs": [
        {
          "output_type": "execute_result",
          "data": {
            "text/html": [
              "<div>\n",
              "<style scoped>\n",
              "    .dataframe tbody tr th:only-of-type {\n",
              "        vertical-align: middle;\n",
              "    }\n",
              "\n",
              "    .dataframe tbody tr th {\n",
              "        vertical-align: top;\n",
              "    }\n",
              "\n",
              "    .dataframe thead th {\n",
              "        text-align: right;\n",
              "    }\n",
              "</style>\n",
              "<table border=\"1\" class=\"dataframe\">\n",
              "  <thead>\n",
              "    <tr style=\"text-align: right;\">\n",
              "      <th></th>\n",
              "      <th>work_type</th>\n",
              "      <th>work_type_Govt_job</th>\n",
              "      <th>work_type_Never_worked</th>\n",
              "      <th>work_type_Private</th>\n",
              "      <th>work_type_Self-employed</th>\n",
              "      <th>work_type_children</th>\n",
              "    </tr>\n",
              "  </thead>\n",
              "  <tbody>\n",
              "    <tr>\n",
              "      <th>0</th>\n",
              "      <td>Private</td>\n",
              "      <td>0</td>\n",
              "      <td>0</td>\n",
              "      <td>1</td>\n",
              "      <td>0</td>\n",
              "      <td>0</td>\n",
              "    </tr>\n",
              "    <tr>\n",
              "      <th>1</th>\n",
              "      <td>Self-employed</td>\n",
              "      <td>0</td>\n",
              "      <td>0</td>\n",
              "      <td>0</td>\n",
              "      <td>1</td>\n",
              "      <td>0</td>\n",
              "    </tr>\n",
              "    <tr>\n",
              "      <th>2</th>\n",
              "      <td>Private</td>\n",
              "      <td>0</td>\n",
              "      <td>0</td>\n",
              "      <td>1</td>\n",
              "      <td>0</td>\n",
              "      <td>0</td>\n",
              "    </tr>\n",
              "    <tr>\n",
              "      <th>3</th>\n",
              "      <td>Private</td>\n",
              "      <td>0</td>\n",
              "      <td>0</td>\n",
              "      <td>1</td>\n",
              "      <td>0</td>\n",
              "      <td>0</td>\n",
              "    </tr>\n",
              "    <tr>\n",
              "      <th>4</th>\n",
              "      <td>Self-employed</td>\n",
              "      <td>0</td>\n",
              "      <td>0</td>\n",
              "      <td>0</td>\n",
              "      <td>1</td>\n",
              "      <td>0</td>\n",
              "    </tr>\n",
              "    <tr>\n",
              "      <th>...</th>\n",
              "      <td>...</td>\n",
              "      <td>...</td>\n",
              "      <td>...</td>\n",
              "      <td>...</td>\n",
              "      <td>...</td>\n",
              "      <td>...</td>\n",
              "    </tr>\n",
              "    <tr>\n",
              "      <th>5105</th>\n",
              "      <td>Private</td>\n",
              "      <td>0</td>\n",
              "      <td>0</td>\n",
              "      <td>1</td>\n",
              "      <td>0</td>\n",
              "      <td>0</td>\n",
              "    </tr>\n",
              "    <tr>\n",
              "      <th>5106</th>\n",
              "      <td>Self-employed</td>\n",
              "      <td>0</td>\n",
              "      <td>0</td>\n",
              "      <td>0</td>\n",
              "      <td>1</td>\n",
              "      <td>0</td>\n",
              "    </tr>\n",
              "    <tr>\n",
              "      <th>5107</th>\n",
              "      <td>Self-employed</td>\n",
              "      <td>0</td>\n",
              "      <td>0</td>\n",
              "      <td>0</td>\n",
              "      <td>1</td>\n",
              "      <td>0</td>\n",
              "    </tr>\n",
              "    <tr>\n",
              "      <th>5108</th>\n",
              "      <td>Private</td>\n",
              "      <td>0</td>\n",
              "      <td>0</td>\n",
              "      <td>1</td>\n",
              "      <td>0</td>\n",
              "      <td>0</td>\n",
              "    </tr>\n",
              "    <tr>\n",
              "      <th>5109</th>\n",
              "      <td>Govt_job</td>\n",
              "      <td>1</td>\n",
              "      <td>0</td>\n",
              "      <td>0</td>\n",
              "      <td>0</td>\n",
              "      <td>0</td>\n",
              "    </tr>\n",
              "  </tbody>\n",
              "</table>\n",
              "<p>5110 rows × 6 columns</p>\n",
              "</div>"
            ],
            "text/plain": [
              "          work_type  work_type_Govt_job  work_type_Never_worked  \\\n",
              "0           Private                   0                       0   \n",
              "1     Self-employed                   0                       0   \n",
              "2           Private                   0                       0   \n",
              "3           Private                   0                       0   \n",
              "4     Self-employed                   0                       0   \n",
              "...             ...                 ...                     ...   \n",
              "5105        Private                   0                       0   \n",
              "5106  Self-employed                   0                       0   \n",
              "5107  Self-employed                   0                       0   \n",
              "5108        Private                   0                       0   \n",
              "5109       Govt_job                   1                       0   \n",
              "\n",
              "      work_type_Private  work_type_Self-employed  work_type_children  \n",
              "0                     1                        0                   0  \n",
              "1                     0                        1                   0  \n",
              "2                     1                        0                   0  \n",
              "3                     1                        0                   0  \n",
              "4                     0                        1                   0  \n",
              "...                 ...                      ...                 ...  \n",
              "5105                  1                        0                   0  \n",
              "5106                  0                        1                   0  \n",
              "5107                  0                        1                   0  \n",
              "5108                  1                        0                   0  \n",
              "5109                  0                        0                   0  \n",
              "\n",
              "[5110 rows x 6 columns]"
            ]
          },
          "metadata": {},
          "execution_count": 38
        }
      ]
    },
    {
      "cell_type": "code",
      "metadata": {
        "id": "E82-l5rgSPH9"
      },
      "source": [
        "residence_type_dummies = pd.get_dummies(dtc['Residence_type'], prefix = 'residence_type')\n",
        "dtc = pd.concat([dtc, residence_type_dummies], axis = 1)"
      ],
      "execution_count": 39,
      "outputs": []
    },
    {
      "cell_type": "code",
      "metadata": {
        "colab": {
          "base_uri": "https://localhost:8080/",
          "height": 419
        },
        "id": "gDkfMFPcSWdv",
        "outputId": "091e7e54-76dd-4a28-b4af-84e209b1c8b0"
      },
      "source": [
        "dtc.loc[:, dtc.columns.str.contains('residence_type')]"
      ],
      "execution_count": 40,
      "outputs": [
        {
          "output_type": "execute_result",
          "data": {
            "text/html": [
              "<div>\n",
              "<style scoped>\n",
              "    .dataframe tbody tr th:only-of-type {\n",
              "        vertical-align: middle;\n",
              "    }\n",
              "\n",
              "    .dataframe tbody tr th {\n",
              "        vertical-align: top;\n",
              "    }\n",
              "\n",
              "    .dataframe thead th {\n",
              "        text-align: right;\n",
              "    }\n",
              "</style>\n",
              "<table border=\"1\" class=\"dataframe\">\n",
              "  <thead>\n",
              "    <tr style=\"text-align: right;\">\n",
              "      <th></th>\n",
              "      <th>residence_type_Rural</th>\n",
              "      <th>residence_type_Urban</th>\n",
              "    </tr>\n",
              "  </thead>\n",
              "  <tbody>\n",
              "    <tr>\n",
              "      <th>0</th>\n",
              "      <td>0</td>\n",
              "      <td>1</td>\n",
              "    </tr>\n",
              "    <tr>\n",
              "      <th>1</th>\n",
              "      <td>1</td>\n",
              "      <td>0</td>\n",
              "    </tr>\n",
              "    <tr>\n",
              "      <th>2</th>\n",
              "      <td>1</td>\n",
              "      <td>0</td>\n",
              "    </tr>\n",
              "    <tr>\n",
              "      <th>3</th>\n",
              "      <td>0</td>\n",
              "      <td>1</td>\n",
              "    </tr>\n",
              "    <tr>\n",
              "      <th>4</th>\n",
              "      <td>1</td>\n",
              "      <td>0</td>\n",
              "    </tr>\n",
              "    <tr>\n",
              "      <th>...</th>\n",
              "      <td>...</td>\n",
              "      <td>...</td>\n",
              "    </tr>\n",
              "    <tr>\n",
              "      <th>5105</th>\n",
              "      <td>0</td>\n",
              "      <td>1</td>\n",
              "    </tr>\n",
              "    <tr>\n",
              "      <th>5106</th>\n",
              "      <td>0</td>\n",
              "      <td>1</td>\n",
              "    </tr>\n",
              "    <tr>\n",
              "      <th>5107</th>\n",
              "      <td>1</td>\n",
              "      <td>0</td>\n",
              "    </tr>\n",
              "    <tr>\n",
              "      <th>5108</th>\n",
              "      <td>1</td>\n",
              "      <td>0</td>\n",
              "    </tr>\n",
              "    <tr>\n",
              "      <th>5109</th>\n",
              "      <td>0</td>\n",
              "      <td>1</td>\n",
              "    </tr>\n",
              "  </tbody>\n",
              "</table>\n",
              "<p>5110 rows × 2 columns</p>\n",
              "</div>"
            ],
            "text/plain": [
              "      residence_type_Rural  residence_type_Urban\n",
              "0                        0                     1\n",
              "1                        1                     0\n",
              "2                        1                     0\n",
              "3                        0                     1\n",
              "4                        1                     0\n",
              "...                    ...                   ...\n",
              "5105                     0                     1\n",
              "5106                     0                     1\n",
              "5107                     1                     0\n",
              "5108                     1                     0\n",
              "5109                     0                     1\n",
              "\n",
              "[5110 rows x 2 columns]"
            ]
          },
          "metadata": {},
          "execution_count": 40
        }
      ]
    },
    {
      "cell_type": "code",
      "metadata": {
        "id": "8853Ybd9SbsC"
      },
      "source": [
        "smoking_status_dummies = pd.get_dummies(dtc['smoking_status'], prefix = 'smoking_status')\n",
        "dtc = pd.concat([dtc, smoking_status_dummies], axis = 1)"
      ],
      "execution_count": 41,
      "outputs": []
    },
    {
      "cell_type": "code",
      "metadata": {
        "colab": {
          "base_uri": "https://localhost:8080/",
          "height": 419
        },
        "id": "EGy7qOAUSp15",
        "outputId": "224f8b19-1f7f-4896-c4f2-07d38c7a5b86"
      },
      "source": [
        "dtc.loc[:, dtc.columns.str.contains('smoking_status')]"
      ],
      "execution_count": 42,
      "outputs": [
        {
          "output_type": "execute_result",
          "data": {
            "text/html": [
              "<div>\n",
              "<style scoped>\n",
              "    .dataframe tbody tr th:only-of-type {\n",
              "        vertical-align: middle;\n",
              "    }\n",
              "\n",
              "    .dataframe tbody tr th {\n",
              "        vertical-align: top;\n",
              "    }\n",
              "\n",
              "    .dataframe thead th {\n",
              "        text-align: right;\n",
              "    }\n",
              "</style>\n",
              "<table border=\"1\" class=\"dataframe\">\n",
              "  <thead>\n",
              "    <tr style=\"text-align: right;\">\n",
              "      <th></th>\n",
              "      <th>smoking_status</th>\n",
              "      <th>smoking_status_Unknown</th>\n",
              "      <th>smoking_status_formerly smoked</th>\n",
              "      <th>smoking_status_never smoked</th>\n",
              "      <th>smoking_status_smokes</th>\n",
              "    </tr>\n",
              "  </thead>\n",
              "  <tbody>\n",
              "    <tr>\n",
              "      <th>0</th>\n",
              "      <td>formerly smoked</td>\n",
              "      <td>0</td>\n",
              "      <td>1</td>\n",
              "      <td>0</td>\n",
              "      <td>0</td>\n",
              "    </tr>\n",
              "    <tr>\n",
              "      <th>1</th>\n",
              "      <td>never smoked</td>\n",
              "      <td>0</td>\n",
              "      <td>0</td>\n",
              "      <td>1</td>\n",
              "      <td>0</td>\n",
              "    </tr>\n",
              "    <tr>\n",
              "      <th>2</th>\n",
              "      <td>never smoked</td>\n",
              "      <td>0</td>\n",
              "      <td>0</td>\n",
              "      <td>1</td>\n",
              "      <td>0</td>\n",
              "    </tr>\n",
              "    <tr>\n",
              "      <th>3</th>\n",
              "      <td>smokes</td>\n",
              "      <td>0</td>\n",
              "      <td>0</td>\n",
              "      <td>0</td>\n",
              "      <td>1</td>\n",
              "    </tr>\n",
              "    <tr>\n",
              "      <th>4</th>\n",
              "      <td>never smoked</td>\n",
              "      <td>0</td>\n",
              "      <td>0</td>\n",
              "      <td>1</td>\n",
              "      <td>0</td>\n",
              "    </tr>\n",
              "    <tr>\n",
              "      <th>...</th>\n",
              "      <td>...</td>\n",
              "      <td>...</td>\n",
              "      <td>...</td>\n",
              "      <td>...</td>\n",
              "      <td>...</td>\n",
              "    </tr>\n",
              "    <tr>\n",
              "      <th>5105</th>\n",
              "      <td>never smoked</td>\n",
              "      <td>0</td>\n",
              "      <td>0</td>\n",
              "      <td>1</td>\n",
              "      <td>0</td>\n",
              "    </tr>\n",
              "    <tr>\n",
              "      <th>5106</th>\n",
              "      <td>never smoked</td>\n",
              "      <td>0</td>\n",
              "      <td>0</td>\n",
              "      <td>1</td>\n",
              "      <td>0</td>\n",
              "    </tr>\n",
              "    <tr>\n",
              "      <th>5107</th>\n",
              "      <td>never smoked</td>\n",
              "      <td>0</td>\n",
              "      <td>0</td>\n",
              "      <td>1</td>\n",
              "      <td>0</td>\n",
              "    </tr>\n",
              "    <tr>\n",
              "      <th>5108</th>\n",
              "      <td>formerly smoked</td>\n",
              "      <td>0</td>\n",
              "      <td>1</td>\n",
              "      <td>0</td>\n",
              "      <td>0</td>\n",
              "    </tr>\n",
              "    <tr>\n",
              "      <th>5109</th>\n",
              "      <td>Unknown</td>\n",
              "      <td>1</td>\n",
              "      <td>0</td>\n",
              "      <td>0</td>\n",
              "      <td>0</td>\n",
              "    </tr>\n",
              "  </tbody>\n",
              "</table>\n",
              "<p>5110 rows × 5 columns</p>\n",
              "</div>"
            ],
            "text/plain": [
              "       smoking_status  smoking_status_Unknown  smoking_status_formerly smoked  \\\n",
              "0     formerly smoked                       0                               1   \n",
              "1        never smoked                       0                               0   \n",
              "2        never smoked                       0                               0   \n",
              "3              smokes                       0                               0   \n",
              "4        never smoked                       0                               0   \n",
              "...               ...                     ...                             ...   \n",
              "5105     never smoked                       0                               0   \n",
              "5106     never smoked                       0                               0   \n",
              "5107     never smoked                       0                               0   \n",
              "5108  formerly smoked                       0                               1   \n",
              "5109          Unknown                       1                               0   \n",
              "\n",
              "      smoking_status_never smoked  smoking_status_smokes  \n",
              "0                               0                      0  \n",
              "1                               1                      0  \n",
              "2                               1                      0  \n",
              "3                               0                      1  \n",
              "4                               1                      0  \n",
              "...                           ...                    ...  \n",
              "5105                            1                      0  \n",
              "5106                            1                      0  \n",
              "5107                            1                      0  \n",
              "5108                            0                      0  \n",
              "5109                            0                      0  \n",
              "\n",
              "[5110 rows x 5 columns]"
            ]
          },
          "metadata": {},
          "execution_count": 42
        }
      ]
    },
    {
      "cell_type": "code",
      "metadata": {
        "id": "v8v39EGOSvqQ"
      },
      "source": [
        "dtc.drop(columns = ob_cols, inplace = True)"
      ],
      "execution_count": 43,
      "outputs": []
    },
    {
      "cell_type": "code",
      "metadata": {
        "colab": {
          "base_uri": "https://localhost:8080/",
          "height": 396
        },
        "id": "U9afDkt1S1iA",
        "outputId": "2bf07c0c-db1c-4dc1-9c13-878655ed3d7d"
      },
      "source": [
        "dtc.head(10)"
      ],
      "execution_count": 44,
      "outputs": [
        {
          "output_type": "execute_result",
          "data": {
            "text/html": [
              "<div>\n",
              "<style scoped>\n",
              "    .dataframe tbody tr th:only-of-type {\n",
              "        vertical-align: middle;\n",
              "    }\n",
              "\n",
              "    .dataframe tbody tr th {\n",
              "        vertical-align: top;\n",
              "    }\n",
              "\n",
              "    .dataframe thead th {\n",
              "        text-align: right;\n",
              "    }\n",
              "</style>\n",
              "<table border=\"1\" class=\"dataframe\">\n",
              "  <thead>\n",
              "    <tr style=\"text-align: right;\">\n",
              "      <th></th>\n",
              "      <th>id</th>\n",
              "      <th>age</th>\n",
              "      <th>hypertension</th>\n",
              "      <th>heart_disease</th>\n",
              "      <th>avg_glucose_level</th>\n",
              "      <th>bmi</th>\n",
              "      <th>stroke</th>\n",
              "      <th>gender_Female</th>\n",
              "      <th>gender_Male</th>\n",
              "      <th>gender_Other</th>\n",
              "      <th>ever_married_No</th>\n",
              "      <th>ever_married_Yes</th>\n",
              "      <th>work_type_Govt_job</th>\n",
              "      <th>work_type_Never_worked</th>\n",
              "      <th>work_type_Private</th>\n",
              "      <th>work_type_Self-employed</th>\n",
              "      <th>work_type_children</th>\n",
              "      <th>residence_type_Rural</th>\n",
              "      <th>residence_type_Urban</th>\n",
              "      <th>smoking_status_Unknown</th>\n",
              "      <th>smoking_status_formerly smoked</th>\n",
              "      <th>smoking_status_never smoked</th>\n",
              "      <th>smoking_status_smokes</th>\n",
              "    </tr>\n",
              "  </thead>\n",
              "  <tbody>\n",
              "    <tr>\n",
              "      <th>0</th>\n",
              "      <td>9046</td>\n",
              "      <td>67.0</td>\n",
              "      <td>0</td>\n",
              "      <td>1</td>\n",
              "      <td>228.69</td>\n",
              "      <td>36.600000</td>\n",
              "      <td>1</td>\n",
              "      <td>0</td>\n",
              "      <td>1</td>\n",
              "      <td>0</td>\n",
              "      <td>0</td>\n",
              "      <td>1</td>\n",
              "      <td>0</td>\n",
              "      <td>0</td>\n",
              "      <td>1</td>\n",
              "      <td>0</td>\n",
              "      <td>0</td>\n",
              "      <td>0</td>\n",
              "      <td>1</td>\n",
              "      <td>0</td>\n",
              "      <td>1</td>\n",
              "      <td>0</td>\n",
              "      <td>0</td>\n",
              "    </tr>\n",
              "    <tr>\n",
              "      <th>1</th>\n",
              "      <td>51676</td>\n",
              "      <td>61.0</td>\n",
              "      <td>0</td>\n",
              "      <td>0</td>\n",
              "      <td>202.21</td>\n",
              "      <td>28.893237</td>\n",
              "      <td>1</td>\n",
              "      <td>1</td>\n",
              "      <td>0</td>\n",
              "      <td>0</td>\n",
              "      <td>0</td>\n",
              "      <td>1</td>\n",
              "      <td>0</td>\n",
              "      <td>0</td>\n",
              "      <td>0</td>\n",
              "      <td>1</td>\n",
              "      <td>0</td>\n",
              "      <td>1</td>\n",
              "      <td>0</td>\n",
              "      <td>0</td>\n",
              "      <td>0</td>\n",
              "      <td>1</td>\n",
              "      <td>0</td>\n",
              "    </tr>\n",
              "    <tr>\n",
              "      <th>2</th>\n",
              "      <td>31112</td>\n",
              "      <td>80.0</td>\n",
              "      <td>0</td>\n",
              "      <td>1</td>\n",
              "      <td>105.92</td>\n",
              "      <td>32.500000</td>\n",
              "      <td>1</td>\n",
              "      <td>0</td>\n",
              "      <td>1</td>\n",
              "      <td>0</td>\n",
              "      <td>0</td>\n",
              "      <td>1</td>\n",
              "      <td>0</td>\n",
              "      <td>0</td>\n",
              "      <td>1</td>\n",
              "      <td>0</td>\n",
              "      <td>0</td>\n",
              "      <td>1</td>\n",
              "      <td>0</td>\n",
              "      <td>0</td>\n",
              "      <td>0</td>\n",
              "      <td>1</td>\n",
              "      <td>0</td>\n",
              "    </tr>\n",
              "    <tr>\n",
              "      <th>3</th>\n",
              "      <td>60182</td>\n",
              "      <td>49.0</td>\n",
              "      <td>0</td>\n",
              "      <td>0</td>\n",
              "      <td>171.23</td>\n",
              "      <td>34.400000</td>\n",
              "      <td>1</td>\n",
              "      <td>1</td>\n",
              "      <td>0</td>\n",
              "      <td>0</td>\n",
              "      <td>0</td>\n",
              "      <td>1</td>\n",
              "      <td>0</td>\n",
              "      <td>0</td>\n",
              "      <td>1</td>\n",
              "      <td>0</td>\n",
              "      <td>0</td>\n",
              "      <td>0</td>\n",
              "      <td>1</td>\n",
              "      <td>0</td>\n",
              "      <td>0</td>\n",
              "      <td>0</td>\n",
              "      <td>1</td>\n",
              "    </tr>\n",
              "    <tr>\n",
              "      <th>4</th>\n",
              "      <td>1665</td>\n",
              "      <td>79.0</td>\n",
              "      <td>1</td>\n",
              "      <td>0</td>\n",
              "      <td>174.12</td>\n",
              "      <td>24.000000</td>\n",
              "      <td>1</td>\n",
              "      <td>1</td>\n",
              "      <td>0</td>\n",
              "      <td>0</td>\n",
              "      <td>0</td>\n",
              "      <td>1</td>\n",
              "      <td>0</td>\n",
              "      <td>0</td>\n",
              "      <td>0</td>\n",
              "      <td>1</td>\n",
              "      <td>0</td>\n",
              "      <td>1</td>\n",
              "      <td>0</td>\n",
              "      <td>0</td>\n",
              "      <td>0</td>\n",
              "      <td>1</td>\n",
              "      <td>0</td>\n",
              "    </tr>\n",
              "    <tr>\n",
              "      <th>5</th>\n",
              "      <td>56669</td>\n",
              "      <td>81.0</td>\n",
              "      <td>0</td>\n",
              "      <td>0</td>\n",
              "      <td>186.21</td>\n",
              "      <td>29.000000</td>\n",
              "      <td>1</td>\n",
              "      <td>0</td>\n",
              "      <td>1</td>\n",
              "      <td>0</td>\n",
              "      <td>0</td>\n",
              "      <td>1</td>\n",
              "      <td>0</td>\n",
              "      <td>0</td>\n",
              "      <td>1</td>\n",
              "      <td>0</td>\n",
              "      <td>0</td>\n",
              "      <td>0</td>\n",
              "      <td>1</td>\n",
              "      <td>0</td>\n",
              "      <td>1</td>\n",
              "      <td>0</td>\n",
              "      <td>0</td>\n",
              "    </tr>\n",
              "    <tr>\n",
              "      <th>6</th>\n",
              "      <td>53882</td>\n",
              "      <td>74.0</td>\n",
              "      <td>1</td>\n",
              "      <td>1</td>\n",
              "      <td>70.09</td>\n",
              "      <td>27.400000</td>\n",
              "      <td>1</td>\n",
              "      <td>0</td>\n",
              "      <td>1</td>\n",
              "      <td>0</td>\n",
              "      <td>0</td>\n",
              "      <td>1</td>\n",
              "      <td>0</td>\n",
              "      <td>0</td>\n",
              "      <td>1</td>\n",
              "      <td>0</td>\n",
              "      <td>0</td>\n",
              "      <td>1</td>\n",
              "      <td>0</td>\n",
              "      <td>0</td>\n",
              "      <td>0</td>\n",
              "      <td>1</td>\n",
              "      <td>0</td>\n",
              "    </tr>\n",
              "    <tr>\n",
              "      <th>7</th>\n",
              "      <td>10434</td>\n",
              "      <td>69.0</td>\n",
              "      <td>0</td>\n",
              "      <td>0</td>\n",
              "      <td>94.39</td>\n",
              "      <td>22.800000</td>\n",
              "      <td>1</td>\n",
              "      <td>1</td>\n",
              "      <td>0</td>\n",
              "      <td>0</td>\n",
              "      <td>1</td>\n",
              "      <td>0</td>\n",
              "      <td>0</td>\n",
              "      <td>0</td>\n",
              "      <td>1</td>\n",
              "      <td>0</td>\n",
              "      <td>0</td>\n",
              "      <td>0</td>\n",
              "      <td>1</td>\n",
              "      <td>0</td>\n",
              "      <td>0</td>\n",
              "      <td>1</td>\n",
              "      <td>0</td>\n",
              "    </tr>\n",
              "    <tr>\n",
              "      <th>8</th>\n",
              "      <td>27419</td>\n",
              "      <td>59.0</td>\n",
              "      <td>0</td>\n",
              "      <td>0</td>\n",
              "      <td>76.15</td>\n",
              "      <td>28.893237</td>\n",
              "      <td>1</td>\n",
              "      <td>1</td>\n",
              "      <td>0</td>\n",
              "      <td>0</td>\n",
              "      <td>0</td>\n",
              "      <td>1</td>\n",
              "      <td>0</td>\n",
              "      <td>0</td>\n",
              "      <td>1</td>\n",
              "      <td>0</td>\n",
              "      <td>0</td>\n",
              "      <td>1</td>\n",
              "      <td>0</td>\n",
              "      <td>1</td>\n",
              "      <td>0</td>\n",
              "      <td>0</td>\n",
              "      <td>0</td>\n",
              "    </tr>\n",
              "    <tr>\n",
              "      <th>9</th>\n",
              "      <td>60491</td>\n",
              "      <td>78.0</td>\n",
              "      <td>0</td>\n",
              "      <td>0</td>\n",
              "      <td>58.57</td>\n",
              "      <td>24.200000</td>\n",
              "      <td>1</td>\n",
              "      <td>1</td>\n",
              "      <td>0</td>\n",
              "      <td>0</td>\n",
              "      <td>0</td>\n",
              "      <td>1</td>\n",
              "      <td>0</td>\n",
              "      <td>0</td>\n",
              "      <td>1</td>\n",
              "      <td>0</td>\n",
              "      <td>0</td>\n",
              "      <td>0</td>\n",
              "      <td>1</td>\n",
              "      <td>1</td>\n",
              "      <td>0</td>\n",
              "      <td>0</td>\n",
              "      <td>0</td>\n",
              "    </tr>\n",
              "  </tbody>\n",
              "</table>\n",
              "</div>"
            ],
            "text/plain": [
              "      id   age  hypertension  heart_disease  avg_glucose_level        bmi  \\\n",
              "0   9046  67.0             0              1             228.69  36.600000   \n",
              "1  51676  61.0             0              0             202.21  28.893237   \n",
              "2  31112  80.0             0              1             105.92  32.500000   \n",
              "3  60182  49.0             0              0             171.23  34.400000   \n",
              "4   1665  79.0             1              0             174.12  24.000000   \n",
              "5  56669  81.0             0              0             186.21  29.000000   \n",
              "6  53882  74.0             1              1              70.09  27.400000   \n",
              "7  10434  69.0             0              0              94.39  22.800000   \n",
              "8  27419  59.0             0              0              76.15  28.893237   \n",
              "9  60491  78.0             0              0              58.57  24.200000   \n",
              "\n",
              "   stroke  gender_Female  gender_Male  gender_Other  ever_married_No  \\\n",
              "0       1              0            1             0                0   \n",
              "1       1              1            0             0                0   \n",
              "2       1              0            1             0                0   \n",
              "3       1              1            0             0                0   \n",
              "4       1              1            0             0                0   \n",
              "5       1              0            1             0                0   \n",
              "6       1              0            1             0                0   \n",
              "7       1              1            0             0                1   \n",
              "8       1              1            0             0                0   \n",
              "9       1              1            0             0                0   \n",
              "\n",
              "   ever_married_Yes  work_type_Govt_job  work_type_Never_worked  \\\n",
              "0                 1                   0                       0   \n",
              "1                 1                   0                       0   \n",
              "2                 1                   0                       0   \n",
              "3                 1                   0                       0   \n",
              "4                 1                   0                       0   \n",
              "5                 1                   0                       0   \n",
              "6                 1                   0                       0   \n",
              "7                 0                   0                       0   \n",
              "8                 1                   0                       0   \n",
              "9                 1                   0                       0   \n",
              "\n",
              "   work_type_Private  work_type_Self-employed  work_type_children  \\\n",
              "0                  1                        0                   0   \n",
              "1                  0                        1                   0   \n",
              "2                  1                        0                   0   \n",
              "3                  1                        0                   0   \n",
              "4                  0                        1                   0   \n",
              "5                  1                        0                   0   \n",
              "6                  1                        0                   0   \n",
              "7                  1                        0                   0   \n",
              "8                  1                        0                   0   \n",
              "9                  1                        0                   0   \n",
              "\n",
              "   residence_type_Rural  residence_type_Urban  smoking_status_Unknown  \\\n",
              "0                     0                     1                       0   \n",
              "1                     1                     0                       0   \n",
              "2                     1                     0                       0   \n",
              "3                     0                     1                       0   \n",
              "4                     1                     0                       0   \n",
              "5                     0                     1                       0   \n",
              "6                     1                     0                       0   \n",
              "7                     0                     1                       0   \n",
              "8                     1                     0                       1   \n",
              "9                     0                     1                       1   \n",
              "\n",
              "   smoking_status_formerly smoked  smoking_status_never smoked  \\\n",
              "0                               1                            0   \n",
              "1                               0                            1   \n",
              "2                               0                            1   \n",
              "3                               0                            0   \n",
              "4                               0                            1   \n",
              "5                               1                            0   \n",
              "6                               0                            1   \n",
              "7                               0                            1   \n",
              "8                               0                            0   \n",
              "9                               0                            0   \n",
              "\n",
              "   smoking_status_smokes  \n",
              "0                      0  \n",
              "1                      0  \n",
              "2                      0  \n",
              "3                      1  \n",
              "4                      0  \n",
              "5                      0  \n",
              "6                      0  \n",
              "7                      0  \n",
              "8                      0  \n",
              "9                      0  "
            ]
          },
          "metadata": {},
          "execution_count": 44
        }
      ]
    },
    {
      "cell_type": "markdown",
      "metadata": {
        "id": "xd5LfVVV6rV9"
      },
      "source": [
        "**Cek korelasi setelah dilakukan encoding**"
      ]
    },
    {
      "cell_type": "code",
      "metadata": {
        "colab": {
          "base_uri": "https://localhost:8080/",
          "height": 1000
        },
        "id": "OTI4uUoeS7Ew",
        "outputId": "7d5deac2-97d1-454f-a161-aee01d2c24fa"
      },
      "source": [
        "corr_ = dtc[list(dtc.drop(columns=[\"stroke\"]).columns) + [\"stroke\"]].corr(method = 'pearson')\n",
        "corr_ = corr_.mask(np.tril(np.ones(corr_.shape)).T.astype(np.bool_)).drop(columns = ['stroke'], index = ['id'])\n",
        "\n",
        "plt.figure(figsize = (20, 20))\n",
        "sns.heatmap(\n",
        "    corr_,\n",
        "    annot = True,\n",
        "    fmt = '.2f',\n",
        "    cmap = 'PuBu'\n",
        ")\n",
        "plt.show()"
      ],
      "execution_count": 45,
      "outputs": [
        {
          "output_type": "display_data",
          "data": {
            "image/png": "[encoded data removed]",
            "text/plain": [
              "<Figure size 1440x1440 with 2 Axes>"
            ]
          },
          "metadata": {
            "needs_background": "light"
          }
        }
      ]
    },
    {
      "cell_type": "markdown",
      "metadata": {
        "id": "C1GGWt8y66aU"
      },
      "source": [
        "**Mempersiapkan fitur dan target**"
      ]
    },
    {
      "cell_type": "code",
      "metadata": {
        "id": "jxEwVZuglnAu"
      },
      "source": [
        "X = dtc.drop(columns = ['id', 'stroke'], axis = 1)\n",
        "y = dtc['stroke']"
      ],
      "execution_count": 46,
      "outputs": []
    },
    {
      "cell_type": "markdown",
      "metadata": {
        "id": "cIlNi4OY7ZBv"
      },
      "source": [
        "**Split data**\n",
        "\n",
        "**Split to train 70%, validation 20%, and test 10%.**"
      ]
    },
    {
      "cell_type": "code",
      "metadata": {
        "id": "6W8AVAB3lsLV"
      },
      "source": [
        "X_train, X_, y_train, y_ = train_test_split(X, y, test_size = 0.3, random_state = 77, stratify = y)"
      ],
      "execution_count": 47,
      "outputs": []
    },
    {
      "cell_type": "code",
      "metadata": {
        "id": "PyIQXdaJlxxz"
      },
      "source": [
        "X_val, X_test, y_val, y_test = train_test_split(X_, y_, test_size = 1/3, random_state = 77, stratify = y_)"
      ],
      "execution_count": 48,
      "outputs": []
    },
    {
      "cell_type": "code",
      "metadata": {
        "colab": {
          "base_uri": "https://localhost:8080/"
        },
        "id": "JMFq9CEel3j5",
        "outputId": "f4757f46-ff75-45b4-f292-b979ab5202bd"
      },
      "source": [
        "print(len(X_train)/len(X), len(X_val)/len(X), len(X_test)/len(X))"
      ],
      "execution_count": 49,
      "outputs": [
        {
          "output_type": "stream",
          "name": "stdout",
          "text": [
            "0.7 0.2 0.1\n"
          ]
        }
      ]
    },
    {
      "cell_type": "code",
      "metadata": {
        "colab": {
          "base_uri": "https://localhost:8080/"
        },
        "id": "YGPZG11ml5ud",
        "outputId": "5a79d7c8-bf10-44a2-b496-738bca79cce6"
      },
      "source": [
        "print(sum(y_train==1)/len(y_train), sum(y_val==1)/len(y_val), sum(y_test==1)/len(y_test))"
      ],
      "execution_count": 50,
      "outputs": [
        {
          "output_type": "stream",
          "name": "stdout",
          "text": [
            "0.048644115180318706 0.04892367906066536 0.04892367906066536\n"
          ]
        }
      ]
    },
    {
      "cell_type": "markdown",
      "metadata": {
        "id": "V418UTyF7p8U"
      },
      "source": [
        "**Resampling Imbalanced Class**"
      ]
    },
    {
      "cell_type": "code",
      "metadata": {
        "id": "r_uI4M1vl8vu"
      },
      "source": [
        "smote = SMOTE(random_state=77, sampling_strategy=\"minority\")"
      ],
      "execution_count": 51,
      "outputs": []
    },
    {
      "cell_type": "code",
      "metadata": {
        "colab": {
          "base_uri": "https://localhost:8080/"
        },
        "id": "kBaUgE-vmAb5",
        "outputId": "3b074deb-c595-48c6-cfa0-bb4566ed3b51"
      },
      "source": [
        "y_train.value_counts()"
      ],
      "execution_count": 52,
      "outputs": [
        {
          "output_type": "execute_result",
          "data": {
            "text/plain": [
              "0    3403\n",
              "1     174\n",
              "Name: stroke, dtype: int64"
            ]
          },
          "metadata": {},
          "execution_count": 52
        }
      ]
    },
    {
      "cell_type": "code",
      "metadata": {
        "colab": {
          "base_uri": "https://localhost:8080/"
        },
        "id": "DG5pO3YWmDKl",
        "outputId": "3303a9ff-6250-44fe-f1be-535636f95f03"
      },
      "source": [
        "X_res, y_res = smote.fit_resample(X_train, y_train)"
      ],
      "execution_count": 53,
      "outputs": [
        {
          "output_type": "stream",
          "name": "stderr",
          "text": [
            "/usr/local/lib/python3.7/dist-packages/sklearn/utils/deprecation.py:87: FutureWarning: Function safe_indexing is deprecated; safe_indexing is deprecated in version 0.22 and will be removed in version 0.24.\n",
            "  warnings.warn(msg, category=FutureWarning)\n"
          ]
        }
      ]
    },
    {
      "cell_type": "code",
      "metadata": {
        "colab": {
          "base_uri": "https://localhost:8080/"
        },
        "id": "3AImuD02mE3t",
        "outputId": "5c2102c6-2f6d-4b2a-9673-05d525f3d455"
      },
      "source": [
        "y_res.ravel()"
      ],
      "execution_count": 54,
      "outputs": [
        {
          "output_type": "execute_result",
          "data": {
            "text/plain": [
              "array([0, 0, 0, ..., 1, 1, 1])"
            ]
          },
          "metadata": {},
          "execution_count": 54
        }
      ]
    },
    {
      "cell_type": "markdown",
      "metadata": {
        "id": "BSw_yvV87_6D"
      },
      "source": [
        "##**STEP 9 : MODELING**"
      ]
    },
    {
      "cell_type": "markdown",
      "metadata": {
        "id": "LSvznekC8Wfx"
      },
      "source": [
        "**Define Model**"
      ]
    },
    {
      "cell_type": "code",
      "metadata": {
        "id": "P14Lrpe1mIjL"
      },
      "source": [
        "logreg_model1 = LogisticRegression(random_state = 77, solver = 'liblinear')\n",
        "logreg_model2 = LogisticRegression(random_state = 77, solver = 'liblinear')\n",
        "logreg_model3 = LogisticRegression(random_state = 77, solver = 'liblinear', class_weight = dict({0: 0.1, 1:0.9}))"
      ],
      "execution_count": 55,
      "outputs": []
    },
    {
      "cell_type": "markdown",
      "metadata": {
        "id": "nWOXStSR8blq"
      },
      "source": [
        "**Fit Training Data**"
      ]
    },
    {
      "cell_type": "code",
      "metadata": {
        "colab": {
          "base_uri": "https://localhost:8080/"
        },
        "id": "XJnYF0k5mMAz",
        "outputId": "7d0f6b00-e21f-4662-d022-71a33b3af5ab"
      },
      "source": [
        "print(logreg_model1.fit(X_train, y_train))\n",
        "print(logreg_model2.fit(X_res, y_res))\n",
        "print(logreg_model3.fit(X_train, y_train))"
      ],
      "execution_count": 56,
      "outputs": [
        {
          "output_type": "stream",
          "name": "stdout",
          "text": [
            "LogisticRegression(C=1.0, class_weight=None, dual=False, fit_intercept=True,\n",
            "                   intercept_scaling=1, l1_ratio=None, max_iter=100,\n",
            "                   multi_class='auto', n_jobs=None, penalty='l2',\n",
            "                   random_state=77, solver='liblinear', tol=0.0001, verbose=0,\n",
            "                   warm_start=False)\n",
            "LogisticRegression(C=1.0, class_weight=None, dual=False, fit_intercept=True,\n",
            "                   intercept_scaling=1, l1_ratio=None, max_iter=100,\n",
            "                   multi_class='auto', n_jobs=None, penalty='l2',\n",
            "                   random_state=77, solver='liblinear', tol=0.0001, verbose=0,\n",
            "                   warm_start=False)\n",
            "LogisticRegression(C=1.0, class_weight={0: 0.1, 1: 0.9}, dual=False,\n",
            "                   fit_intercept=True, intercept_scaling=1, l1_ratio=None,\n",
            "                   max_iter=100, multi_class='auto', n_jobs=None, penalty='l2',\n",
            "                   random_state=77, solver='liblinear', tol=0.0001, verbose=0,\n",
            "                   warm_start=False)\n"
          ]
        }
      ]
    },
    {
      "cell_type": "code",
      "metadata": {
        "id": "p2k_wKPnmS98"
      },
      "source": [
        "y_pred1 = logreg_model1.predict(X_train)\n",
        "y_pred2 = logreg_model2.predict(X_res)\n",
        "y_pred3 = logreg_model3.predict(X_train)"
      ],
      "execution_count": 57,
      "outputs": []
    },
    {
      "cell_type": "markdown",
      "metadata": {
        "id": "mmN60N-78oPG"
      },
      "source": [
        "**Training Evaluation**"
      ]
    },
    {
      "cell_type": "code",
      "metadata": {
        "colab": {
          "base_uri": "https://localhost:8080/"
        },
        "id": "uJaMrtEkmXzX",
        "outputId": "30b45dff-918e-4bbc-e7ce-5670b2d2f8d3"
      },
      "source": [
        "cm_train_1 = confusion_matrix(y_train, y_pred1)\n",
        "cm_train_2 = confusion_matrix(y_res, y_pred2)\n",
        "cm_train_3 = confusion_matrix(y_train, y_pred3)\n",
        "cr_train_1 = classification_report(y_train, y_pred1)\n",
        "cr_train_2 = classification_report(y_res, y_pred2)\n",
        "cr_train_3 = classification_report(y_train, y_pred3)\n",
        "roc_train_1 = roc_auc_score(y_train, y_pred1)\n",
        "roc_train_2 = roc_auc_score(y_res, y_pred2)\n",
        "roc_train_3 = roc_auc_score(y_train, y_pred3)\n",
        "\n",
        "print(\"Confusion Matrix: without handling imbalanced class\\n\", cm_train_1)\n",
        "print(\"\\nConfusion Matrix: imbalanced class was handled using SMOTE resampling\\n\", cm_train_2)\n",
        "print(\"\\nConfusion Matrix: increase class_weight for minority class (stroke = 1)\\n\", cm_train_3)\n",
        "\n",
        "print(\"Classification Report: without handling imbalanced class\\n\", cr_train_1)\n",
        "print(\"\\nClassification Report: imbalanced class was handled using SMOTE resampling\\n\", cr_train_2)\n",
        "print(\"\\nClassification Report: increase class_weight for minority class (stroke = 1)\\n\", cr_train_3)\n",
        "\n",
        "print(\"ROC-AUC: without handling imbalanced class\\n\", roc_train_1)\n",
        "print(\"\\nROC-AUC: imbalanced class was handled using SMOTE resampling\\n\", roc_train_2)\n",
        "print(\"\\nROC-AUC: increase class_weight for minority class (stroke = 1)\\n\", roc_train_3)"
      ],
      "execution_count": 58,
      "outputs": [
        {
          "output_type": "stream",
          "name": "stdout",
          "text": [
            "Confusion Matrix: without handling imbalanced class\n",
            " [[3402    1]\n",
            " [ 172    2]]\n",
            "\n",
            "Confusion Matrix: imbalanced class was handled using SMOTE resampling\n",
            " [[2564  839]\n",
            " [ 604 2799]]\n",
            "\n",
            "Confusion Matrix: increase class_weight for minority class (stroke = 1)\n",
            " [[2918  485]\n",
            " [  60  114]]\n",
            "Classification Report: without handling imbalanced class\n",
            "               precision    recall  f1-score   support\n",
            "\n",
            "           0       0.95      1.00      0.98      3403\n",
            "           1       0.67      0.01      0.02       174\n",
            "\n",
            "    accuracy                           0.95      3577\n",
            "   macro avg       0.81      0.51      0.50      3577\n",
            "weighted avg       0.94      0.95      0.93      3577\n",
            "\n",
            "\n",
            "Classification Report: imbalanced class was handled using SMOTE resampling\n",
            "               precision    recall  f1-score   support\n",
            "\n",
            "           0       0.81      0.75      0.78      3403\n",
            "           1       0.77      0.82      0.80      3403\n",
            "\n",
            "    accuracy                           0.79      6806\n",
            "   macro avg       0.79      0.79      0.79      6806\n",
            "weighted avg       0.79      0.79      0.79      6806\n",
            "\n",
            "\n",
            "Classification Report: increase class_weight for minority class (stroke = 1)\n",
            "               precision    recall  f1-score   support\n",
            "\n",
            "           0       0.98      0.86      0.91      3403\n",
            "           1       0.19      0.66      0.29       174\n",
            "\n",
            "    accuracy                           0.85      3577\n",
            "   macro avg       0.59      0.76      0.60      3577\n",
            "weighted avg       0.94      0.85      0.88      3577\n",
            "\n",
            "ROC-AUC: without handling imbalanced class\n",
            " 0.5056001972566464\n",
            "\n",
            "ROC-AUC: imbalanced class was handled using SMOTE resampling\n",
            " 0.7879811930649427\n",
            "\n",
            "ROC-AUC: increase class_weight for minority class (stroke = 1)\n",
            " 0.7563255545309919\n"
          ]
        }
      ]
    },
    {
      "cell_type": "code",
      "metadata": {
        "id": "FyaOiIQDmZNk"
      },
      "source": [
        "# get decision function scores:\n",
        "y_scores1 = logreg_model1.decision_function(X_train)\n",
        "y_scores2 = logreg_model2.decision_function(X_res)\n",
        "y_scores3 = logreg_model3.decision_function(X_train)"
      ],
      "execution_count": 59,
      "outputs": []
    },
    {
      "cell_type": "code",
      "metadata": {
        "id": "dfVSHMWJmdZ_"
      },
      "source": [
        "fpr1, tpr1, thresholds1 = roc_curve(y_train, y_scores1)\n",
        "fpr2, tpr2, thresholds2 = roc_curve(y_res, y_scores2)\n",
        "fpr3, tpr3, thresholds3 = roc_curve(y_train, y_scores3)"
      ],
      "execution_count": 60,
      "outputs": []
    },
    {
      "cell_type": "code",
      "metadata": {
        "id": "ZuKOTL_pmf8c"
      },
      "source": [
        "def plot_roc_curve(fpr, tpr, label=None):\n",
        "    '''\n",
        "    ROC Curve plot with diagonal line\n",
        "    '''\n",
        "    plt.plot(fpr, tpr, linewidth=2, label=label)\n",
        "    plt.plot([0, 1], [0, 1], 'k--') # dashed diagonal\n",
        "    plt.axis([0, 1, 0, 1])                                    # Not shown in the book\n",
        "    plt.xlabel('False Positive Rate (Fall-Out)', fontsize=16) # Not shown\n",
        "    plt.ylabel('True Positive Rate (Recall)', fontsize=16)    # Not shown\n",
        "    plt.grid(True)                                            # Not shown"
      ],
      "execution_count": 61,
      "outputs": []
    },
    {
      "cell_type": "code",
      "metadata": {
        "colab": {
          "base_uri": "https://localhost:8080/",
          "height": 394
        },
        "id": "BVX48k4xmjzu",
        "outputId": "d37c7ef7-643a-4d57-d1ca-51c3c599bd31"
      },
      "source": [
        "plt.figure(figsize=(8, 6))                                    # Not shown\n",
        "plot_roc_curve(fpr1, tpr1, label=\"1st Model\")\n",
        "plt.plot(fpr2, tpr2, label=\"2nd Model\")\n",
        "plt.plot(fpr3, tpr3, label=\"3rd Model\")\n",
        "plt.legend()\n",
        "plt.show()"
      ],
      "execution_count": 62,
      "outputs": [
        {
          "output_type": "display_data",
          "data": {
            "image/png": "[encoded data removed]",
            "text/plain": [
              "<Figure size 576x432 with 1 Axes>"
            ]
          },
          "metadata": {
            "needs_background": "light"
          }
        }
      ]
    },
    {
      "cell_type": "markdown",
      "metadata": {
        "id": "8jcei0U782c4"
      },
      "source": [
        "##**STEP 10 : VALIDATION**"
      ]
    },
    {
      "cell_type": "code",
      "metadata": {
        "id": "6wSzIboImmY8"
      },
      "source": [
        "pred_val1 = logreg_model1.predict(X_val)\n",
        "pred_val2 = logreg_model2.predict(X_val)\n",
        "pred_val3 = logreg_model3.predict(X_val)"
      ],
      "execution_count": 63,
      "outputs": []
    },
    {
      "cell_type": "code",
      "metadata": {
        "colab": {
          "base_uri": "https://localhost:8080/"
        },
        "id": "irntF0YdmpFd",
        "outputId": "31ded88d-4a08-4b20-e7b7-fd12ebda7608"
      },
      "source": [
        "y_val.value_counts()"
      ],
      "execution_count": 64,
      "outputs": [
        {
          "output_type": "execute_result",
          "data": {
            "text/plain": [
              "0    972\n",
              "1     50\n",
              "Name: stroke, dtype: int64"
            ]
          },
          "metadata": {},
          "execution_count": 64
        }
      ]
    },
    {
      "cell_type": "markdown",
      "metadata": {
        "id": "NxzZKx2w9Ar8"
      },
      "source": [
        "**Evaluation**"
      ]
    },
    {
      "cell_type": "code",
      "metadata": {
        "colab": {
          "base_uri": "https://localhost:8080/"
        },
        "id": "ZcZZUmcLmq7g",
        "outputId": "50318b9e-3f93-483c-b010-c594c54bf9d8"
      },
      "source": [
        "cm_val_1 = confusion_matrix(y_val, pred_val1)\n",
        "cm_val_2 = confusion_matrix(y_val, pred_val2)\n",
        "cm_val_3 = confusion_matrix(y_val, pred_val3)\n",
        "cr_val_1 = classification_report(y_val, pred_val1)\n",
        "cr_val_2 = classification_report(y_val, pred_val2)\n",
        "cr_val_3 = classification_report(y_val, pred_val3)\n",
        "roc_val_1 = roc_auc_score(y_val, pred_val1)\n",
        "roc_val_2 = roc_auc_score(y_val, pred_val2)\n",
        "roc_val_3 = roc_auc_score(y_val, pred_val3)\n",
        "\n",
        "print(\"Confusion Matrix: without handling imbalanced class\\n\", cm_val_1)\n",
        "print(\"\\nConfusion Matrix: imbalanced class was handled using SMOTE resampling\\n\", cm_val_2)\n",
        "print(\"\\nConfusion Matrix: increase class_weight for minority class (stroke = 1)\\n\", cm_val_3)\n",
        "\n",
        "print(\"Classification Report: without handling imbalanced class\\n\", cr_val_1)\n",
        "print(\"\\nClassification Report: imbalanced class was handled using SMOTE resampling\\n\", cr_val_2)\n",
        "print(\"\\nClassification Report: increase class_weight for minority class (stroke = 1)\\n\", cr_val_3)\n",
        "\n",
        "print(\"ROC-AUC Score: without handling imbalanced class\\n\", roc_val_1)\n",
        "print(\"\\nROC-AUC Score: imbalanced class was handled using SMOTE resampling\\n\", roc_val_2)\n",
        "print(\"\\nROC-AUC Score: increase class_weight for minority class (stroke = 1)\\n\", roc_val_3)"
      ],
      "execution_count": 65,
      "outputs": [
        {
          "output_type": "stream",
          "name": "stdout",
          "text": [
            "Confusion Matrix: without handling imbalanced class\n",
            " [[972   0]\n",
            " [ 50   0]]\n",
            "\n",
            "Confusion Matrix: imbalanced class was handled using SMOTE resampling\n",
            " [[732 240]\n",
            " [ 15  35]]\n",
            "\n",
            "Confusion Matrix: increase class_weight for minority class (stroke = 1)\n",
            " [[833 139]\n",
            " [ 22  28]]\n",
            "Classification Report: without handling imbalanced class\n",
            "               precision    recall  f1-score   support\n",
            "\n",
            "           0       0.95      1.00      0.97       972\n",
            "           1       0.00      0.00      0.00        50\n",
            "\n",
            "    accuracy                           0.95      1022\n",
            "   macro avg       0.48      0.50      0.49      1022\n",
            "weighted avg       0.90      0.95      0.93      1022\n",
            "\n",
            "\n",
            "Classification Report: imbalanced class was handled using SMOTE resampling\n",
            "               precision    recall  f1-score   support\n",
            "\n",
            "           0       0.98      0.75      0.85       972\n",
            "           1       0.13      0.70      0.22        50\n",
            "\n",
            "    accuracy                           0.75      1022\n",
            "   macro avg       0.55      0.73      0.53      1022\n",
            "weighted avg       0.94      0.75      0.82      1022\n",
            "\n",
            "\n",
            "Classification Report: increase class_weight for minority class (stroke = 1)\n",
            "               precision    recall  f1-score   support\n",
            "\n",
            "           0       0.97      0.86      0.91       972\n",
            "           1       0.17      0.56      0.26        50\n",
            "\n",
            "    accuracy                           0.84      1022\n",
            "   macro avg       0.57      0.71      0.58      1022\n",
            "weighted avg       0.93      0.84      0.88      1022\n",
            "\n",
            "ROC-AUC Score: without handling imbalanced class\n",
            " 0.5\n",
            "\n",
            "ROC-AUC Score: imbalanced class was handled using SMOTE resampling\n",
            " 0.7265432098765432\n",
            "\n",
            "ROC-AUC Score: increase class_weight for minority class (stroke = 1)\n",
            " 0.7084979423868313\n"
          ]
        }
      ]
    },
    {
      "cell_type": "code",
      "metadata": {
        "id": "6vpQIBJVmucH"
      },
      "source": [
        "# get decision function scores:\n",
        "y_scores_val1 = logreg_model1.decision_function(X_val)\n",
        "y_scores_val2 = logreg_model2.decision_function(X_val)\n",
        "y_scores_val3 = logreg_model3.decision_function(X_val)"
      ],
      "execution_count": 66,
      "outputs": []
    },
    {
      "cell_type": "code",
      "metadata": {
        "id": "Bm2703ojmxyK"
      },
      "source": [
        "fpr_v1, tpr_v1, thresholds_v1 = roc_curve(y_val, y_scores_val1)\n",
        "fpr_v2, tpr_v2, thresholds_v2 = roc_curve(y_val, y_scores_val2)\n",
        "fpr_v3, tpr_v3, thresholds_v3 = roc_curve(y_val, y_scores_val3)"
      ],
      "execution_count": 67,
      "outputs": []
    },
    {
      "cell_type": "code",
      "metadata": {
        "colab": {
          "base_uri": "https://localhost:8080/",
          "height": 394
        },
        "id": "JfV5B94Qm0B4",
        "outputId": "e79b20ec-9ffa-49fe-f6d8-5ccdae8dc337"
      },
      "source": [
        "plt.figure(figsize=(8, 6))\n",
        "plot_roc_curve(fpr_v1, tpr_v1, label=\"1st Model\")\n",
        "plt.plot(fpr_v2, tpr_v2, label=\"2nd Model\")\n",
        "plt.plot(fpr_v3, tpr_v3, label=\"3rd Model\")\n",
        "plt.legend()\n",
        "plt.show()"
      ],
      "execution_count": 68,
      "outputs": [
        {
          "output_type": "display_data",
          "data": {
            "image/png": "[encoded data removed]",
            "text/plain": [
              "<Figure size 576x432 with 1 Axes>"
            ]
          },
          "metadata": {
            "needs_background": "light"
          }
        }
      ]
    },
    {
      "cell_type": "markdown",
      "metadata": {
        "id": "pdFD0Nxc9GqR"
      },
      "source": [
        "##**STEP 11 : MODEL INFERENCE**"
      ]
    },
    {
      "cell_type": "code",
      "metadata": {
        "id": "l1rplsnkm8jU"
      },
      "source": [
        "pred_test1 = logreg_model1.predict(X_test)\n",
        "pred_test2 = logreg_model2.predict(X_test)\n",
        "pred_test3 = logreg_model3.predict(X_test)"
      ],
      "execution_count": 69,
      "outputs": []
    },
    {
      "cell_type": "code",
      "metadata": {
        "colab": {
          "base_uri": "https://localhost:8080/"
        },
        "id": "6fsMue9zm9Cg",
        "outputId": "2b065e33-1860-4356-a7f7-95b2a83fd4a6"
      },
      "source": [
        "y_test.value_counts()"
      ],
      "execution_count": 70,
      "outputs": [
        {
          "output_type": "execute_result",
          "data": {
            "text/plain": [
              "0    486\n",
              "1     25\n",
              "Name: stroke, dtype: int64"
            ]
          },
          "metadata": {},
          "execution_count": 70
        }
      ]
    },
    {
      "cell_type": "markdown",
      "metadata": {
        "id": "S_hWBSe59RkA"
      },
      "source": [
        "**Evaluation**"
      ]
    },
    {
      "cell_type": "code",
      "metadata": {
        "colab": {
          "base_uri": "https://localhost:8080/"
        },
        "id": "3NvEIoccm_xS",
        "outputId": "b1d6bd4c-0bd1-4df4-ed76-2de3d5b919d0"
      },
      "source": [
        "cm_test_1 = confusion_matrix(y_test, pred_test1)\n",
        "cm_test_2 = confusion_matrix(y_test, pred_test2)\n",
        "cm_test_3 = confusion_matrix(y_test, pred_test3)\n",
        "cr_test_1 = classification_report(y_test, pred_test1)\n",
        "cr_test_2 = classification_report(y_test, pred_test2)\n",
        "cr_test_3 = classification_report(y_test, pred_test3)\n",
        "roc_test_1 = roc_auc_score(y_test, pred_test1)\n",
        "roc_test_2 = roc_auc_score(y_test, pred_test2)\n",
        "roc_test_3 = roc_auc_score(y_test, pred_test3)\n",
        "\n",
        "print(\"Confusion Matrix: without handling imbalanced class\\n\", cm_test_1)\n",
        "print(\"\\nConfusion Matrix: imbalanced class was handled using SMOTE resampling\\n\", cm_test_2)\n",
        "print(\"\\nConfusion Matrix: increase class_weight for minority class (stroke = 1)\\n\", cm_test_3)\n",
        "\n",
        "print(\"Classification Report: without handling imbalanced class\\n\", cr_test_1)\n",
        "print(\"\\nClassification Report: imbalanced class was handled using SMOTE resampling\\n\", cr_test_2)\n",
        "print(\"\\nClassification Report: increase class_weight for minority class (stroke = 1)\\n\", cr_test_3)\n",
        "\n",
        "print(\"ROC-AUC Score: without handling imbalanced class\\n\", roc_test_1)\n",
        "print(\"\\nROC-AUC Score: imbalanced class was handled using SMOTE resampling\\n\", roc_test_2)\n",
        "print(\"\\nROC-AUC Score: increase class_weight for minority class (stroke = 1)\\n\", roc_test_3)"
      ],
      "execution_count": 71,
      "outputs": [
        {
          "output_type": "stream",
          "name": "stdout",
          "text": [
            "Confusion Matrix: without handling imbalanced class\n",
            " [[486   0]\n",
            " [ 25   0]]\n",
            "\n",
            "Confusion Matrix: imbalanced class was handled using SMOTE resampling\n",
            " [[364 122]\n",
            " [  8  17]]\n",
            "\n",
            "Confusion Matrix: increase class_weight for minority class (stroke = 1)\n",
            " [[424  62]\n",
            " [ 11  14]]\n",
            "Classification Report: without handling imbalanced class\n",
            "               precision    recall  f1-score   support\n",
            "\n",
            "           0       0.95      1.00      0.97       486\n",
            "           1       0.00      0.00      0.00        25\n",
            "\n",
            "    accuracy                           0.95       511\n",
            "   macro avg       0.48      0.50      0.49       511\n",
            "weighted avg       0.90      0.95      0.93       511\n",
            "\n",
            "\n",
            "Classification Report: imbalanced class was handled using SMOTE resampling\n",
            "               precision    recall  f1-score   support\n",
            "\n",
            "           0       0.98      0.75      0.85       486\n",
            "           1       0.12      0.68      0.21        25\n",
            "\n",
            "    accuracy                           0.75       511\n",
            "   macro avg       0.55      0.71      0.53       511\n",
            "weighted avg       0.94      0.75      0.82       511\n",
            "\n",
            "\n",
            "Classification Report: increase class_weight for minority class (stroke = 1)\n",
            "               precision    recall  f1-score   support\n",
            "\n",
            "           0       0.97      0.87      0.92       486\n",
            "           1       0.18      0.56      0.28        25\n",
            "\n",
            "    accuracy                           0.86       511\n",
            "   macro avg       0.58      0.72      0.60       511\n",
            "weighted avg       0.94      0.86      0.89       511\n",
            "\n",
            "ROC-AUC Score: without handling imbalanced class\n",
            " 0.5\n",
            "\n",
            "ROC-AUC Score: imbalanced class was handled using SMOTE resampling\n",
            " 0.714485596707819\n",
            "\n",
            "ROC-AUC Score: increase class_weight for minority class (stroke = 1)\n",
            " 0.7162139917695474\n"
          ]
        }
      ]
    },
    {
      "cell_type": "code",
      "metadata": {
        "id": "feTGk-1WnFRZ"
      },
      "source": [
        "# get decision function scores:\n",
        "y_scores_test1 = logreg_model1.decision_function(X_test)\n",
        "y_scores_test2 = logreg_model2.decision_function(X_test)\n",
        "y_scores_test3 = logreg_model3.decision_function(X_test)"
      ],
      "execution_count": 72,
      "outputs": []
    },
    {
      "cell_type": "code",
      "metadata": {
        "id": "d7kXNlwgnJTQ"
      },
      "source": [
        "fpr_t1, tpr_t1, thresholds_t1 = roc_curve(y_test, y_scores_test1)\n",
        "fpr_t2, tpr_t2, thresholds_t2 = roc_curve(y_test, y_scores_test2)\n",
        "fpr_t3, tpr_t3, thresholds_t3 = roc_curve(y_test, y_scores_test3)"
      ],
      "execution_count": 73,
      "outputs": []
    },
    {
      "cell_type": "code",
      "metadata": {
        "colab": {
          "base_uri": "https://localhost:8080/",
          "height": 394
        },
        "id": "m1eV2Cj1nJ5z",
        "outputId": "22495b61-7a4f-4895-db3d-0b29d292d010"
      },
      "source": [
        "plt.figure(figsize=(8, 6))\n",
        "plot_roc_curve(fpr_t1, tpr_t1, label=\"1st Model\")\n",
        "plt.plot(fpr_t2, tpr_t2, label=\"2nd Model\")\n",
        "plt.plot(fpr_t3, tpr_t3, label=\"3rd Model\")\n",
        "plt.legend()\n",
        "plt.show()"
      ],
      "execution_count": 74,
      "outputs": [
        {
          "output_type": "display_data",
          "data": {
            "image/png": "[encoded data removed]",
            "text/plain": [
              "<Figure size 576x432 with 1 Axes>"
            ]
          },
          "metadata": {
            "needs_background": "light"
          }
        }
      ]
    },
    {
      "cell_type": "markdown",
      "metadata": {
        "id": "2CnxTc6W9em3"
      },
      "source": [
        "##**STEP 12 : KESIMPULAN**\n",
        "\n",
        "* Model Regresi Logistik dengan pra-pemrosesan data sederhana tidak bekerja dengan dataset ini karena memiliki kelas yang sangat tidak seimbang. Kinerja model untuk kelas minoritas (stroke = 1) benar-benar buruk.\n",
        "\n",
        "* Menurut hasil ini, solusi untuk meningkatkan kinerja model adalah dengan memiliki lebih banyak data untuk kelas minoritas, atau menekankan pada model bahwa kelas minoritas adalah kelas paling penting yang perlu kita prediksi."
      ]
    }
  ]
}