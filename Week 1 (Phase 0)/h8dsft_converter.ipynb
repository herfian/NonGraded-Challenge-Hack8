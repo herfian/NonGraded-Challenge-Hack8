{
  "nbformat": 4,
  "nbformat_minor": 0,
  "metadata": {
    "colab": {
      "name": "Tugas2.ipynb",
      "provenance": [],
      "collapsed_sections": []
    },
    "kernelspec": {
      "name": "python3",
      "display_name": "Python 3"
    },
    "language_info": {
      "name": "python"
    }
  },
  "cells": [
    {
      "cell_type": "markdown",
      "metadata": {
        "id": "l0cLRdh6-Cxe"
      },
      "source": [
        "##**Non Graded Challabge 2**\n",
        "\n",
        "\n",
        "*   Buatlah sebuah function yang dapat mengkonversi suhu dari kelvin ke celcius, dan celcius ke kelvin.\n",
        "*   Buatlah sebuah function yang dapat mengkonversi suhu ke fahrenheit. Tambahkan parameter untuk memastikan bahwa argumen yang dimasukan adalah celcius atau kelvin. Panggil function yang pertama jika diperlukan.\n",
        "*   Buatlah sebuah function yang dapat mengkonversi suhu dari fahrenheit. Berikan argumen untuk memastikan bahwa outputnya dalah celcius atau kelvin.\n",
        "*   Berikan dokumentasi pada setiap baris kode yang kalian tulis.\n",
        "\n",
        "\n",
        "\n",
        "\n",
        "\n"
      ]
    },
    {
      "cell_type": "markdown",
      "metadata": {
        "id": "XUk9a7EkAOIe"
      },
      "source": [
        "##**STEP 1**\n",
        "Sebelum membuat sebuah fungsi yang dapat mengkonversi suhu. perlu diketahui terlebih dahulu rumus dasar Konversi Suhu :\n",
        "(Keterangan : C = Celcius, K = Kelvin, F = Fahrenheit)\n",
        "\n",
        "*   C ➝ F =(C * 9/5) + 32\n",
        "*   C ➝ K =C + 273.15\n",
        "*   F ➝ C =(F - 32) * 5/`9`\n",
        "*   F ➝ K =(F - 32) * 5/9 + 273.15\n",
        "*   K ➝ C =K - 273.15\n",
        "*   K ➝ F =(K - 273.15) * 9/5 + 32\n",
        "\n",
        "Setelah memahami rumus diatas, langkah berikutnya membuat fungsi yang diminta yaitu :\n",
        "1. Membuat fungsi untuk mengkonversi suhu dari Kelvin ke Celcius ( K ➝ C / C ➝K)\n",
        "2. Kemudian membuat fungsi untuk mengkonversi suhu ke Fahrenheit dan berikan Parameter jika nilai yang diinput adalah Celcius atau Kelvin ( C ➝ F, K - F)\n",
        "3. Terakhir membuat fungsi untuk mengkonversi suhu dari fahrenheit, dan pastikan bahwa outputnya berupa Celcius atau Kelvin (F = C, F = K)\n",
        "\n",
        "\n",
        "\n",
        "\n",
        "\n",
        "\n",
        "\n"
      ]
    },
    {
      "cell_type": "markdown",
      "metadata": {
        "id": "VDWios4NZ10w"
      },
      "source": [
        "##**STEP 2**\n",
        "\n",
        "Membuat fungsi konversi dan konversiSuhu sebagai definisinya.\n",
        "\n",
        "Kemudian mulai membuat kondisi if untuk inputan suhu yang ingin di konversi, disini saya membuat 3 kondisi if Celcius, Farenheit dan Kelvin."
      ]
    },
    {
      "cell_type": "code",
      "metadata": {
        "id": "9BVBlesSXtsK"
      },
      "source": [
        "def konversi(suhu):\n",
        "    drjt = int(suhu[:-1])\n",
        "    inputan = suhu[-1]\n",
        "    \n",
        "    if inputan.upper() == \"C\":\n",
        "        rumus1 = float((9 * drjt) / 5 + 32)\n",
        "        rumus2 = float(drjt + 273.15)\n",
        "        suhuX = \"Celcius\"\n",
        "        suhu1 = \"Fahrenheit\"\n",
        "        suhu2 = \"Kelvin\"\n",
        "        print(drjt, suhuX, \"=\", \"{:.1f}\".format(rumus1), suhu1)\n",
        "        print(drjt, suhuX, \"=\", \"{:.1f}\".format(rumus2), suhu2)\n",
        "\n",
        "    elif inputan.upper() == \"F\":\n",
        "        rumus1 = float((drjt - 32) * 5 / 9)\n",
        "        rumus2 = float(((drjt - 32) * 5 / 9) + 273.15)\n",
        "        suhuX = \"Fahrenheit\"\n",
        "        suhu1 = \"Celsius\"\n",
        "        suhu2 = \"Kelvin\"\n",
        "        print(drjt, suhuX, \"=\", \"{:.1f}\".format(rumus1), suhu1)\n",
        "        print(drjt, suhuX, \"=\", \"{:.1f}\".format(rumus2), suhu2)\n",
        "\n",
        "    elif inputan.upper() == \"K\":\n",
        "        rumus1 = float(drjt - 273.15)\n",
        "        rumus2 = float(((drjt - 273.15) * 9 / 5)+32)\n",
        "        suhuX = \"Kelvin\"\n",
        "        suhu1 = \"Celcius\"\n",
        "        suhu2 = \"Fahrenheit\"\n",
        "        print(drjt, suhuX, \"=\", \"{:.1f}\".format(rumus1), suhu1)\n",
        "        print(drjt, suhuX, \"=\", \"{:.1f}\".format(rumus2), suhu2)\n",
        "\n",
        "    else:\n",
        "        print(\"Inputan tidak sesuai!! Perhatikan Penulisan Input\")"
      ],
      "execution_count": 11,
      "outputs": []
    },
    {
      "cell_type": "markdown",
      "metadata": {
        "id": "_70tYExI3HfN"
      },
      "source": [
        "##**Note :**\n",
        "\n",
        "**drjt = int(suhu[:-1])**\n",
        "\n",
        "Maksud dari code ini adalah mengambil data dari teks inputan tapi karakter terakhir tidak diikutkan. Misal \"30C\" jadi yang diambil cuma angka \"30\" saja, kemudian dimasukan ke variabel drjt.\n",
        "\n",
        "---\n",
        "**inputan = suhu[-1]**\n",
        "\n",
        "Maksud dari code ini adalah mengambil Karakter terakhir dari inputan. Misal \"30C\" maka yang diambil \"C\"-nya saja untuk kemudian dimasukan ke variabel inputan.\n",
        "\n",
        "---\n",
        "**Upper()**\n",
        "\n",
        "Maksud dari code ini untuk menjadikan String menjadi huruf besar. Jadi ketika kalian mengetik \"30c\" atau \"30C\" sama saja.\n",
        "\n",
        "---\n",
        "**\"{:.1f}\".format(hasil1)**\n",
        "\n",
        "Maksud dari code ini adalah mecetak isi dari variabel hasil1 dengan 1 angka dibelakang koma.  "
      ]
    },
    {
      "cell_type": "markdown",
      "metadata": {
        "id": "ijjm1fJZe2c0"
      },
      "source": [
        "##**STEP 3 (Opsional)** \n",
        "\n",
        "Membuat perulangan ketika mengeksekusi program"
      ]
    },
    {
      "cell_type": "code",
      "metadata": {
        "id": "9jmdEESIew7S",
        "colab": {
          "base_uri": "https://localhost:8080/"
        },
        "outputId": "b8d4995c-db2c-4ab0-e6ff-fd06d669ea20"
      },
      "source": [
        "i = 0\n",
        "print(\"Program Konversi Suhu\")\n",
        "while i == 0:\n",
        "    temp = input(\"\\nMasukan suhu? (Misal: 5C, 20F, 70K): \")\n",
        "    konversi(temp)\n",
        "\n",
        "    lagi = int(input(\"Hitung lagi? 1=ya & 0=tidak = \"))\n",
        "    if(lagi == 1):\n",
        "        i = 0\n",
        "    elif(lagi != 1):\n",
        "        i = 1"
      ],
      "execution_count": 12,
      "outputs": [
        {
          "name": "stdout",
          "output_type": "stream",
          "text": [
            "Program Konversi Suhu\n",
            "\n",
            "Masukan suhu? (Misal: 5C, 20F, 70K): 90k\n",
            "90 Kelvin = -183.1 Celcius\n",
            "90 Kelvin = -297.7 Fahrenheit\n",
            "Hitung lagi? 1=ya & 0=tidak = 1\n",
            "\n",
            "Masukan suhu? (Misal: 5C, 20F, 70K): 50f\n",
            "50 Fahrenheit = 10.0 Celsius\n",
            "50 Fahrenheit = 283.1 Kelvin\n",
            "Hitung lagi? 1=ya & 0=tidak = 0\n"
          ]
        }
      ]
    }
  ]
}