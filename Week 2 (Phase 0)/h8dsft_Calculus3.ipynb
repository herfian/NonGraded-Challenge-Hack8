{
  "nbformat": 4,
  "nbformat_minor": 0,
  "metadata": {
    "colab": {
      "name": "Tugas9.ipynb",
      "provenance": [],
      "collapsed_sections": []
    },
    "kernelspec": {
      "name": "python3",
      "display_name": "Python 3"
    },
    "language_info": {
      "name": "python"
    }
  },
  "cells": [
    {
      "cell_type": "markdown",
      "metadata": {
        "id": "8b-TGkYtOwKB"
      },
      "source": [
        "##Non Graded Challenge 9\n",
        "\n",
        "By : Muhammad Rizki Herfian\n",
        "\n",
        "Materi : Partial Derivative"
      ]
    },
    {
      "cell_type": "markdown",
      "metadata": {
        "id": "D7433B8Pm1hN"
      },
      "source": [
        "##**Problem :**\n",
        "\n",
        "![Screenshot_29.png](data:image/png;base64,iVBORw0KGgoAAAANSUhEUgAAAjoAAABuCAYAAAAuyLkIAAAAAXNSR0IArs4c6QAAAARnQU1BAACxjwv8YQUAAAAJcEhZcwAAFiUAABYlAUlSJPAAABy8SURBVHhe7Z09axtL28ef75FPIvwBTIr7dEeQQmC4A6cQpAi+i4NSHIQhiBQHcSCYQBCniEhhUBFQICBDQCkMCgSUwshFkAsXCy4ELhZcXM/MvsxeMzuzO5IsW1r/B36QeF80L9fM/Hfmmpn/e/LkCQEAAAAAVBEIHQAAAABUFggdAAAAAFQWCB0AAAAAVBYIHQAAAABUFggdAAAAAFQWCB0AAAAAVBYIHQAAAABUFggdAAAAAFQWCB0AAAAAVBYIHQAAAABUFggdAAAAAFQWCB0AAAAAVBYIHQAAAABUFggdAAAAAFQWCB0AAAAAVBYIHQAAAABUFggdAAAAAFQWCB0AAAAAVBYIHQAAAABUFggdAAAAAFQWCB0AAAAAVBYIHQAAAABUFggdAAAAAFQWCB0AAAAAVBYIHQAAAABUFggdAAAAAFQWCB0AAAAAVBYInU3x15gWFIfZR8v1VdjEOytG/yLJoMWY2pbrj4aPszQjaPyX5fpjZgfr0ebtep9aJ1MK0oyR4bxPv1nvBZxdbHMeWzsJobMmjfdTWtwsKDjrUYNfg9B5EFwVuHY0ovkipMXFkNp7+jOV5KGEzl6bRpcLCq9nNDyq2e95aCB0DGrUPeMKJwkXfcu91cbZnhewvaKhQb0foi4uApq8b2jXIHR82atT+8OYZlfhvVSIWrNLw7M5ib5KC+H1nCafu9R8kM6rRePrJCIU0PC/7NquCp20XK9DCm+TH5MhlCJhTP1X+/bntgRXBe6fJ3+nkKZv9WcqyUMJnQ/p74qc/nFsv+ehgdDReTMRtSIO4dWYeq+eU/33BjUPtruu3z0F7XkBWysaXmV2TldDes6uQegUUqP6UZ/GF0Il8k5wo0KnRu0vc1URnSGc0+gBviDbp0H8+8FIN5gdFDq1P4c0L81oUTd++H/t3DeuClwXHXCUtHBG/Wf6Mw9Dn5QU+da2XF+ThxI6z0S64oym2Ye6/Z6HBkJHo/U1zQ3RuR/Y73ksONvzArZXNLRplCbnVG9jHiTODzid7il06tT9MqMFFzc8bEzoCJHzTWnSSMxMPnSo+Uedant1ev6iQ71TFi/ZiW1LRd01oXOQdlAyhBT8GFL3VZMaT5/Q/kGTWv8MacaKQnbONdt7Hpjd+VKpqNDZBSB0NNRo59bXme1kd9qcDAgdK20apy3DregEz8fUP+pmf9uU0GENUvhrSC3H9FTtKLtPxqVuuefe2Smh06DhZfJi8QuTt/p8Lr+vf5Gqoe3sQCF0EiB03EDoaOxiR71NQOh4sv1Cp0XDn1Ma/nNIdSU2mPjZiNCp0+BX8v7bOQ0KR2pq1PuZ3EviXsvUxP7LHo3OA93HJ1zQ7FufWk/z9/P0hd+7VPtzEPmtxGFG/eQ+p8GUNqZyGnBAE+m4yUbKpOPY1OVzZLyz1jymEZ9GFCJ0cTmm4+aSU3h8jl6m1XZPysFQ5HB2r3ZNGfKchs8adPxtrkbbFl9b+r1PD6PRuIAXiIy/hx+QNd0XoyjdrvLIRgazssvxtEX9bzPNRorKQ/1WZP+WVSvSvk5atM+e0UYoc2HJBmCvScdyRJPH93pGo3dNqpU1KtIX62RCc2XTIsh8vBL1/G/xvHm/QKX3ckj1g2MaC9uNg/iNV8l964gIS/7LPIxGFwttukbNv4c0vWJ5W2RLRhwbb8xn5W8OStsFd7uXiVhrHqyT95Fd+9laMSwdtsDqj7ONU2Tv0kW78XebvS7mNJb2qr1PZ//VQC+fyCbi8lGjUdayEPmU+BuqsFQ+56/b0J7Za1HPbEPSOml5ViHypvvZUqau/smrrXV/TBWm82kn81UKg8wlxKduq3il7ay/nUWzCvLe24DGd+yGsrozsleFX4O9rJByHaqNd9PkbqLpO36tRq1PJT4+1ikvlr7FQhVwHNYVOsIwv+tvzIVAVhrjOfbOQAhP5xuEoQxfGs8WkHW+wqhLn6tnoz/XY2rxa8rIRWPCGxcReEUr9wUKRZ7ZR5UabyeF6VYNhVEeZUKnNE6W8lBl/2tMI+mU7wjSKTdt5FrS3+wmjFBBNL7x3+Y0SgVDGUJoTJTjZD4EWUbkhU7JszIEX/NTkyq9N6I+aMllv7Gi0JGr4oJCm3CNNJbVJYst8Xr0q6BtKGsXVhE66+a9EAZTT1srpkWjy8Tu+IdWYpvh5UjV7cJOMcIQNLa//xjRtKCYgs+H7LkU6Z8ZFJbP7Cr5t1kWcvVfQT7JsPh+nPM1LE9rnqxezIV4Tf5tCTJvrGVTZhM2O/Rqa1cQOiLfModsUa+54FhJ6DA749EU/zHtLHtWhDvWFNsrdP7ORhlmHyzXPakJAZS+J/w1ou7L5Asv+qoSyju5Rr8GxpQXS18UpN/KiAYnA0GXDpP7nAZTYBSHovKmIfjRp/bviTHJUY5vWcUOzzrac/ydUVjM1Cjb/oH8kmCNws+eZ4NXy0bOlqjcVrihyiDiN/4k82tAvaPEMXXvmKYqgaJjF/GPv0LjEa7MD8gyMqccXUUQX92zkw49l3n3tEGdDxO9ozTSUih0+HtFnAevG3GcDBsJf+qdiCr7KAj7OOtTR65Ukf5jr3labALS3QiVUxdfslliF+cD6ki/NfEF23jdp4nWwJtC51A5KEphOP3QVqO0ctRzrJ4NafKGP2emV7z5YkzDqD70qJ2W1UpCh9U18QU5fp/axD4dvh9n5RpO6dgQm23lSCvy/1uPDpO6pKfFyH9LPRq8fm6vR8FI1fUYn3bPJXTuKu+XtbVinG2Y53VN0DiEThxEnf0s2s6kzrZ42d5OqWeUrVZOoq0Yv29FPoO1359TR9ZLJtDMssjqe2IXyaiImc/Td6wjF5SnNY9ZNnPxey1r2eR/L8qjVFgkth/bhGH7ph36tLVLCx3umlD8geAvdGzXLB9fEuUnevcLGbZX6JRliidqaPNmQh3L9axCyCFAfo1XUkPZMpwVw2kUbAljTlxJRCeWvlPEucuv8Yp/LX7PbBi06T7RKWjXXLB0ivj4iSMHrPKFwiasK7PU8uN8Yx7B0jj/pBt75yythI7yOBjQPG38jPJwC50aHf9M3uuYIm18SifrRCfyIvt71sA5RqDYlGDwpWlcX0PosPfKZ/Nl1sjsQOYVrz9syel8YGlMpOhL8tAcSS1Nr8SnMTRhPnbT9/lyrfGPno/s+suRKJE4WPNhr0uTm+QGIVLV30vrkf4xosfJp91zCJ1N5n2hrRXjbMM8r/M8cQsde52tD9K6ZY7El7sumL6Z2TX2u7YPPm4X4jnrx4szrXlKy4Z/3BmCJbMze/5w29fyx6etXUroCJGjPp6EWPvUyuebT91eR+hskK0VOtmSx3UypUb1P5rUfCFw7QmhDMn8HZa+AgHgrBhOoxBf3TI+gmg0gj+TUFcdq2EsXASc2J9tqopjMTQrd1iO3JCPLNcF8mssKo8XyahJjqwR0isna5ysAjHGVR5OocOmSINT2/C5fg8XX+WNomjgko7LbGjWETrd72mDZPdHi3A1KuJLOs7/eARDeyaCTU0a9lCeXsEqQkdNOwvx+7fl+pND6kYjR/xrlZWpbTTAvId/NPjEca+nyk4TSV71JStb7f0bzfsiWyum7N3lv53lif7bHm3oi0ysann1THy0JH/PjWwrXGWR5YXL7eHwn9ieBv+2tbbEy8YNfJ45TJetax9LLP7OEfjsHi0tHm2tv9DRVzfLe61xgdBZs4O0kGX8hjNFFZ75O37pcxr5Kg1+istY1jU0K3dYjndiyFl8tMrJGkRzpIfjKg+n0FGdbFGDYW9syhs4R1oiVhU6zWz6QzoFW+8RrFEWKl1Ld7aCVeyedWp0PfXclJLlQ9FIpMoHNmLrFUc2pav5ovnUF4fQ8WD1vC+ytWLK3r36b6+RV+oD1CV+Ja73s9EgUdLTD/5O2l42buD1DBt9Uq4YvE1zfLhK1Pt5ffeq335C51i8S43liHx07pG2bv+zRpu0LhUf0UmJV2VEK5zSEs0F83f80uc08lKjSFYEXBXFaRuETlZZcsFM8xKGrHa6vnEmXq+cKu1FDZ+7PFxCJxs98wwsj8obuCxv853PqkIne6frazWirCySFU5y1Zu2+ScPhj2Up1fgJSLyNER8NUuQK2suJjR634n8MvLPsBE+r8DywTOO1tEgr3ahROhsJO+LbK2Ysnev/ttr5JWyX326WKfg/dq+YCJEq61mNDntxb5N/F6Gl40beD2zl4l59aHGpqW8An+/V1vrbmNUnOVCiOSf8l2TN27BtXb/4xXnzVB5Hx25bG/AHDdlUCsLNE9w83f80uc08iKjkMv3Uikvg1p1Y8bpnoWOdYQgqyy5YKbZq8yE6DwxOzU9/WnQKqfyQSi2B1d5uIRO9nfPwGyhvIHL8jbf+bgboWI6jqk9g4Ky2H8zpoB3sEb+q87XsHuvBn1FoSOJlxFrlqGCdLjWl9kW2KU1sHxYVuhoNuPTLmRxM9+/ubwvsrViyt69+m+vkVde7VjJ+4WgHPwI7GLyekYDy8ihl40b+D1jqe8qjZ6Bv9+rrXW3MSrOZnD4rEVA6LiMeA3YcvF1Vl1ljVVI88/ZKgeFKjwz8/3S5zRyp1EwZ+NbedhausKE4TKWdQ3NChuiN52fHTjT7GPILA1yE0i14kzhaDTVc3c7opONHPrmV4YzHxSOtES4G6FisneuNKLDHF4pmFAvXYXIUOlaurMV+NhoGXJFzj99Gp3NKOCjNlojvGr+CTzjqGzmrkZ0Npr3RbZWTNm7V//tNfJK2e+KIzoa+9R41aX+6SQ+m1EFUTcMB2AvGzfwesY2oqMWZqzQ8fu0tb5CZzGlwefs41PeCx8dha+Rrcid7KPDnNJc+0uowjMz3y99TiN3GQWblw0+O1auuIxlXUNzkDkwO1ZCGTjT7GHIx+nGjjf5pcIxjkZzUz46vLFx+ujYKW/gHGmJcDdCxazno5OVtftcI5WupTtbgaeI8EffBytbUaSvXnT66NjwiuPd++hsNu+LbK2Ysnev/tur59V6PjrFaHtmBSNqsmteNm7g9YzNR4evwivw0bHiJRo8hI5a0ca3rLAtgxes2/94xXkzbK/Q4Q5ltyLTXKtLIlw7I2cF7TQkZYBm5vulz2nkLqNQf3d3rLWTVPvfj9DRnEFF51l2YKczzR6GrJ51dk6uRjObspHl4erYXHFzCh0moNyrO+w480HhSotkVaHDl9mLtLiGmR1lofLBGWfWwRt2X55egZeI0OmIr8nZueCLa1duVhfPszgp0azVeQ9YHJ3twjqrrtjXO8+DzeZ9ka0VU/bu1X/bI69cQod/6C676urNMLan8xF1HfXD1R542biBzzP2VVfZh3jRSlIrXqLBQ+jwOPNl97ZNCj3qtrPvkkDoOGAZG14M7MciCPh+CvqmbllB2/dTEGngu0Deh9BhKt66nFlzojOMxacTWUXoiAY2W7IsK0WnYJUCa4zNNPsInXRfI+uS4PwyR369bB+d2p+ZaDHj5hQ6xgoN6/48Il7Sr2h+pu+kunoHIHE3QqWU7aOz18pGfYyy4CdV2zaW05yCl+5sBT42aqBsz3XUCxMdWl6xfHCuFpH+cJczGv7JypXF0e6ToNuhvr8Ls2HrqKT+LM+DzeZ9ka0VU/ZuHm/bSBSPt/7bPm1oVg90e+FT/Ha72H+bbQarvZ85+c5PbKPm7MPYSLOXjRuoZ8SvWvfR4W26MYKUtWnuvamkX9f8wjjr0aOtXVroCLS+NFensvdZZ0i0/tTS/6wzVbcm9yB05EZE4sbb0Lq1eTF6oxHvBNxSu+E2X3SoL8/4SC7nVSirLCLIXYg7yR42ciddfct/2cnxZ/3S56wYzgafvVcY9/y0S60oTi3qii9b/YR4UcG5cW9M6Ag0IxUxC+TZZq1k/6F475/WP/JsLpZpV0Ot0vpUvrq6RwTxG/3XcXk05Y6+/N0i5BpsvoNxtLNsvDNytFPqOjsjs43n0h2X05U++wcdGkj7jYJojP79TT1X3ihmZZ3vfNjUy0KIvv/VqX7g2l/FhA8zJ3adnuhftjMy7+SjnalFGcv8f9WloUpnEoxRt/L0ClYQOlr+R3U83R22RvX/8Z1sTbtimz2KEF6Oo3yM4izyQu4sy6co1PQTzwMZop2R5Un9ct8t0aacFe2MrNuw9DNTeW/JQy0PNpr3RbZWTOm7ebyvJ9R7JffAkm2CzCv9CI27EzoCS37Jeil3r47ayuRSFLT3sx2oxV1qN2Zxrfa7vvu8rwAoQj0ThWRnZGkTka/ZsHhnZL6ZYPKsHlc2bXvKzgvckNAx+9z5Jy6+eH8qfV6z9ldPpwyWdpZ95C9+yHTWqRHt6J5c3+mzrv47ZJ3IjHq2ewrZp85pwXk0aRAVQftqSzGXGRohOM+Ekj6M7Zc+p8EUNPhSNWsrL7QgOtOLNMcM8VXwTsWqQkey16Lhr9KcjoI8o6RjLvv1qnx8B05LCGY0TxNpmd7SdkM1g6ggs1/JVaM8CoWOILcaJhdExTZ2Cy1vFIs7H777bhyK8s3AEKZmyOw6Lw7aX83fZYGfH2Skqzy9Ah8btdB4X3B2WxTEh9IX2+hVflVlLgQTOuYfQCqOohP8vuxZV5JDGhiiXAtB4MiDTeZ9sa0VUf7uGnXPCkonFOm1rgT0aUMLhI4gt+0AD+x3c+8/6BWerSVDeDXKjeZ52biBeuZqWnz+nONDv9YcFPZRMgTGaPLmhI6EC0Vj9PHloPBMwOyMPVs7y9+bBP77Kk0iFGmKFbiHER3RKCSdpzxEbal5SEa078oP4/RxuSz7ek6TE8tqKk6yzNA8UTY+wTYzhuV3QC0wmJIG337y+CTeLI1Pb/Ht3DctdCLkmVN9GpsnvYsQ3ixEBzqm/hFT4RyvyidJT1/mBRJ/ecnpST69ZTvGouj0ciVojPIoEzoRttOzk3cXrpBxNoplnY9+6rAUat6HekqKTi9nnXm+LGrUfDfST3UW+T8/i09K1qZYbEdeONMrWFHoSFx1vPxE++z0cr6UODp53tY2GHmTOx278PTyBEvek/i92emxsOGizntTeb9JoSOxn5g+P5P55Pptnza0WOhI3KeXl7xfnQjOC0k8LurI2LGJoF9e6KhnZByK6qTlWYUtrtL2hXga2NrbjQodAT9Ox5jezbW/Isg9iqI0lvU/B8c0vmRlKcSmGmlVgxLiY397zroCAAAAHgiX7xYABhA6AAAAtg85PXvpmj58wg7b9dsWAzxeIHQAAABsHWq6WS4QyDkUM98qjy0xwOMGQgcAAMD2sdemUZHTtwzXhqM5ABYgdAAAAGwpsaN5dCCz6WieLF6wPwdABoQOAAAAACoLhA4AAAAAKguEDgAAAAAqC4QOAAAAACoLhA4AAAAAKguEDgAAAAAqC4QOAAAAACoLhA4AAAAAKguEDgA7R43qfzSp+ULwh+MkefCIqFHz04zCS3YSNABAAaEDwC6wV6f2hzHNrpLzf3i4DSn4MaDWo9kltkH9i+RogIu+5Xr16F/EyS0MjyQvAFgWCB0Atp4Wja+Tziyc0/B1g/bl3yPxMyUlfa7H1M49e9+ko01JHDdA4+MsO9ARQicLEDoAWIHQAWDradM4UjMLGh/FJzhzGp+DqJ+TYfpOv3b/pHGdUd96fU0O+jTj5zw+KqEjRK6crnRxsG99FoDHDoQOAFtPKzrFOTwfUN12/a+xGtVZfGvnr98rmxQ6deqfC5UTzmj8PUnxoxI6GxKPAFQcCB0Adh0mdOYn+RGf+2VzQqf+QU5ZhTT7IAVPlFwIHQBAKRA6AOw4jU/zqM+XUxuDZ4573o5odi1kws2CZictY6XWPnU+z2hxI64HY+po15ZlQ0LnWTJl9WtADfF/5bNSIHT2Xw1oerWI0jz/dhw9p93zok+T8xnNEiYfD/XrWwSEDgCrA6EDwA5Taw4Sn5WQZh8b1nsi591bIWKUb0tAo5fp9Rq1v6XjQSJcDu3TY95sQugkU1bSR+Ug/luZ0KkdjWlxK3JFiLc0TN+bo101qr+fKsfm8KxjXHdxSN2TAQ1WpkdthyB1AaEDwOpA6ACwizwVna0chRGduVyJNX5rFzlP/tOn2W3qxHxIo8RvOfjSjK7HK5hCmn/uUO8soOB0XR+fuxc68ZSVjHM24lIodP7To6lQddO30jm3QcOr7N7cnkMvRkL2ycDFXxkiT6NnVg2iPP6yvddNnN45Df7Xpf6nMU3TUajTPnVfwgkZgCIgdADYIVpf5mxkRoSbGY3+bVO9YA+d2l42kqFGb86FQIh8e0KanTTvcNPBOxY66ZSVsXS+dETn6b5KU/NLou5uJtRl90S8m8bXfjkcva3c/4hOL/VJkkEYAB+pkmHxo5efmgMAREDoALBD1I96cWd5OqHZJZtyCuc0siw9z/H3JJ6qWcxodh2v0lpe5HRoyHxbdObxKJP4lcB6XTKh/gvbe03SKav8svqc0Nmr03PX3j1pmuXUlyEwut/llZCm7zzy7kHZp4aZvr0mHX8LkrStWpYAVB8IHQB2mYNjmqjNBGfUT3xYnOwNRHefBDlKstJuyvczdZNOWYXfu7kO3BQ6jRORqoVrw8Qsvvo+Qx2a3Ig/BiM61O7fJYQYTPOiwBkdgMcMhA4Au87L1M9EiIJSh9psl+XZR9t1H+TogmXDugghvKKBpqLN7Z4XTrXFHNM0HapIpmo0olEjEaSTdTqN4xQ6zZxvkqT+UcqfkCZ/b/toTgnp9JsIq5cpANUFQgeAnSf1ixEhGFHTek/CwVCN6Gxmc8G78tEpmh6bUSBHYmS4CbK/n/WdaT/+Gd8uR4fivyXxvOivsMqsR1NTeC3FnEavbO9dka3aMBKA7QNCB4Cdx1Po7In7pF9OkNy89lJyG3cldIopc0Y2qad7DSVpjvceWmalFef+V10VslUbRgKwfUDoALDtJBvbuTe0Y0Ln57HluiQ58Vv6o6gl1ZsQI9spdJ7IfXXk/XJ6K1nJtfi6G6MfzQ8Tmp2P6djlf6Omru5YQAFQESB0ANh20i/2cErHFt+WmlpVFNLkDbv2rE09ufRciJxjeTaUclbuxk64IqTOuXXZmZ526Lf02ZXZUqGjRmHmNP0pVc6qjtj3T7olgH1aijkj77RTNQCbA0IHgG2HTU2Ev4bU/j2dnqhR/WhI88QXN/hqLC9OvvTjfXf4Eu1a1jleT2n4aUJBmF/CvRr3IHT2MqFGwZhaXoIlc8LW82L7yXaujo/vUEvMnx5GmzxGwWfFHQCPFAgdALadvRb1vs0oWCSKxgzXMxq9y2/61/qq5FHueIjoiITkKt0uaPresbPy0mxY6LwQwi5dcZWGUK7wstxrkB4Eumv7zdSP+jQ+D5L9iYxwG1LwY0Ctp/ZnAQAQOgDsGDWq/+G3THv/IL6v4eoEnzY8l3ovQ4tGl3Jl0ZR61usPhHTElgLM2GF554jKLCn/Axz9AIAPEDoAgIqTOGJjegeARwmEDgCgwuxTJ/Jx2S2/HADA3QGhAwCoFNEhnsGYOi86NDiXIifvowQAeDxA6AAAKgRbURaFBU3/vcvT2QEAuwaEDgCgQjSp/3NB4c2C5mdD6jYxXQXAYwdCBwAAAACVBUIHAAAAAJUFQgcAAAAAlQVCBwAAAACVBUIHAAAAAJUFQgcAAAAAlQVCBwAAAACVBUIHAAAAAJUFQgcAAAAAlQVCBwAAAACVBUIHAAAAAJUFQgcAAAAAlQVCBwAAAACVBUIHAAAAAJUFQgcAAAAAlQVCBwAAAACVBUIHAAAAAJUFQgcAAAAAlQVCBwAAAACVBUIHAAAAAJUFQgcAAAAAlQVCBwAAAACVBUIHAAAAABXlCf0/A1RnMRz1W28AAAAASUVORK5CYII=)"
      ]
    },
    {
      "cell_type": "markdown",
      "metadata": {
        "id": "965_O0MXPA5T"
      },
      "source": [
        "##**Solution :**"
      ]
    },
    {
      "cell_type": "code",
      "metadata": {
        "id": "sLu6WHgOjcTh"
      },
      "source": [
        "import sympy as sy \n",
        "from sympy.tensor.array import derive_by_array"
      ],
      "execution_count": 1,
      "outputs": []
    },
    {
      "cell_type": "code",
      "metadata": {
        "colab": {
          "base_uri": "https://localhost:8080/",
          "height": 39
        },
        "id": "Ws0zod4AjszO",
        "outputId": "433951be-b7c9-4507-ad16-f7bf13921107"
      },
      "source": [
        "x,y= sy.symbols(\"x,y\")\n",
        "G = 3*x + 4*y - 5\n",
        "derive_by_array(G,(x,y))"
      ],
      "execution_count": 2,
      "outputs": [
        {
          "output_type": "execute_result",
          "data": {
            "text/latex": "$\\displaystyle \\left[\\begin{matrix}3 & 4\\end{matrix}\\right]$",
            "text/plain": [
              "[3, 4]"
            ]
          },
          "metadata": {},
          "execution_count": 2
        }
      ]
    },
    {
      "cell_type": "markdown",
      "metadata": {
        "id": "mMXUGT80oH00"
      },
      "source": [
        "##**Another Example :**\n",
        "\n",
        "![Screenshot_30.png](data:image/png;base64,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)"
      ]
    },
    {
      "cell_type": "code",
      "metadata": {
        "colab": {
          "base_uri": "https://localhost:8080/",
          "height": 39
        },
        "id": "m4Q2c9zskqXu",
        "outputId": "9119fc7f-c843-4d45-af18-2f1bf2b2b923"
      },
      "source": [
        " z= sy.symbols(\"z\",real=True)\n",
        " F= 4*x*y + x*sy.sin(z) + x**3+ z**8*y\n",
        " derive_by_array(F,(x,y,z))"
      ],
      "execution_count": 3,
      "outputs": [
        {
          "output_type": "execute_result",
          "data": {
            "text/latex": "$\\displaystyle \\left[\\begin{matrix}3 x^{2} + 4 y + \\sin{\\left(z \\right)} & 4 x + z^{8} & x \\cos{\\left(z \\right)} + 8 y z^{7}\\end{matrix}\\right]$",
            "text/plain": [
              "[3*x**2 + 4*y + sin(z), 4*x + z**8, x*cos(z) + 8*y*z**7]"
            ]
          },
          "metadata": {},
          "execution_count": 3
        }
      ]
    }
  ]
}