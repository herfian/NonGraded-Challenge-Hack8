{
  "nbformat": 4,
  "nbformat_minor": 0,
  "metadata": {
    "colab": {
      "name": "Tugas3.ipynb",
      "provenance": [],
      "collapsed_sections": []
    },
    "kernelspec": {
      "name": "python3",
      "display_name": "Python 3"
    },
    "language_info": {
      "name": "python"
    }
  },
  "cells": [
    {
      "cell_type": "markdown",
      "metadata": {
        "id": "AnKMx9kz3Yq3"
      },
      "source": [
        "##**Non Graded Challenge 3**\n",
        "\n",
        "By : Muhammad Rizki Herfian\n",
        "\n",
        "Materi : SQL"
      ]
    },
    {
      "cell_type": "markdown",
      "metadata": {
        "id": "5UMWGLXK32IW"
      },
      "source": [
        "#**Training SQL :**\n",
        "\n",
        "![Screenshot_32.png](data:image/png;base64,iVBORw0KGgoAAAANSUhEUgAABHAAAADCCAYAAAAhOzW3AAAAAXNSR0IArs4c6QAAAARnQU1BAACxjwv8YQUAAAAJcEhZcwAAFiUAABYlAUlSJPAAAFe1SURBVHhe7Z07jiS5Fa7vPrQSrUArkCFPhjwBWsOgV6EVFHoFMi4gr8e+hryeHYxX3nh1gxkP/of8D3mYkY+IzP8AHzDDZJDnySBZ2VX/509/+tOXEEIIIYQQQgghhDguusARQgghhBBCCCGEODi6wBFCCCGEEEIIIYQ4OLrAEUIIIYQQQgghhDg4usARQgghhBBCCCGEODi6wBFCCCGEEEIIIYQ4OLrAEUIIIYQQQgghhDg4usARQgghhBBCCCGEODi6wBFCCCGEEEIIIYQ4OLrAEUIIIYQQQgghhDg4usARQgghhBBCCCGEODi6wBFCCCGEEEIIIYQ4OLrAEUIIIYQQQgghhDg4usARQgghhBBCCCGEODi6wBFCCCGEEEIIIYQ4OLrAEUIIIYQQQgghhDg4L3CB8+3rx+fXIp9fP35hff709fHb0uXr59cH+fxU/PJjsnSWz1+/8T4H5Nuvm9ZunF6ZR9n/7n5+qVqf4PFc1r3PH1/fiv6H48nrVfbfJL99dPvMOsJ75Qw+FkIIIYQQb8H5L3DgcJDEOyDoAifzrAP+vnk/psgt4hzCjs6j/L53niPWyohN73CBk9um1ltcitzzkuWBFzg09viOoJcx7IcAusARQgghhBDH4/QXOHiQuYiz2dYFTmbvAf9a9s2rC5woe+fRBc6xoLZva8CNcumVL3B639KkFzy6wBFCCCGEEMfj5Bc4uDHP8vN73VcXOJlHXSSU7JtXFzhR9s6jC5xj8ZC8eekLHPQh0eH7trLAZ7rAEUIIIYQQx+PcFzhwMPj5vX3Apxt72LhPu3Q4HMFYq3ibeDNGEn5oxAPEKuyiiWGfnfT87h+I2vPwCy+rM+tzzUG4GGfy34d7EO34u/LxLNb2gZgBW16kvsU8/LAZnWfE/j0+v+U8xLYkxr6o/QPxaNYQ0zmJ75+xWk/UuvLarPu5OWjWIK99guS2X9OgNzzXX0fasWBrRpJ53HGbRtarduwTeZ70bKlrtp3YmGS1k37LZibnC+YF5B3J28pnXm5Tal3pWoM6r4K+9nIAnyvzTQghhBBCnJpTX+DkTfS86fd++pqoPjObY+jPNs2b2HHzmLXghrrVj27cgdazSfD5/jy9w7BzCLpIeeht0RonCYwV8Tc55CbZbB+IWcmIf+PzDNi/y+e3nsfpww7BlYD9N62hG1zgGH2K55zcuohzWK5k6wf+Mwdn3u5dnFyE9oN4eof3kkAsPD3mccdsutV6lW1ycnKTYO6aPMIcgOfMJYx3gePlY5JevU7cIt82fZzYRHNDCCGEEEKcjhNf4JDNa2Pjag91uNm3m+7q8JeAcbcDCG6wt80zOQzAASofXrzDRAEevuAQgQcfdomR5+GHE3og9NqZ7R3wQEh1gfGZv/F5epDDw8pEfIwa6kujax4zOs+I/bnvuM/vNQ+z02tn9tPn99TQBNXfwc7P/THTi/Pa/4p+JkdZO2vj60IvdrH87sSCrh+JAZtG1qtw7KHNsT+SuwmWq9443gUOjsF8Z31Ugra08qg/d6vWWj4QQgghhBDn5rwXOHTj7R027Cb5M++Dq8NPvZnmuJvkTa/l+fDmvoYeOBLuYauG6UkPhC6dg9om5PBR+CY8L7XPjy0l6CMvjq7vS6p5bmB/yNb7zePmNoP4+eY1NLWN5CzO36p1XEPsZ9kvF5u8XIL2+XkvbvHcZXZS213dLdFY+PUStynrWejUzJFe7Md86o6bAD1qnUv/sEsUfrFix2nUTDiP/NquCPtLCCGEEEK8Aqe9wPEOJt4GPrejdDb5IPZQgxtsX9ZDTHjuAvdw4R0Emnrl+fxDy4Rj/0XWAwHts44VOeQU88JhtJRsX+dgEhqjxj3weQfk7jxX2B/xecX95nF9koj42ZknnqtZVt83c7YgWm95zIYkv3i5UDF22ZDguibJdlLbozqFYmH72c/iNkXyrqqRhsx2jfm0mbtVzfg1xOsL5nSlkZ/hPJpw6qx+Lut08S34ujuHEEIIIYQ4HXe7wPnzX//x9c+//4V+tp/IRnrZ0C7PuAel4kC1wg9366Fg7PA5w3WuDlJA/ECU2ns+yQcad9zG4fwijq8s/qGIzcv9nIXaV+gRH6PGPfCRw1ZsnjH7r/f5/ebxfDLqZ97/uhqiNjlEa71nz0XSMyQXOF6Osvae/axGeDwjB/V2LCbe4gKn0LH1y5VpfcGcrjTyczBmCZrLRb1vfab2/AvMuf1CCCGEEOLc3OkC599f//sjbSJ///rPv9jnO+kdRleBjS5uhNNmHf+/u5mG+daNfu+g0AYPMP7zeOgyOpLDlnd4YnryvuzAkvAOUB6+bfW8zti9C6rAQc4/kFq8ONa+j84zYv8en99vHu6TfX7eW0M8Zzl53Hku/H9TR9EDtWcjtDdzhLU7czM7qe1R3RkkFn4c4zZlPQudyNjx2A/4dKI7LuiSheUUqxmvjoKE84jj+neLJ/yTQeMrIYQQQgjxKtzpAufb139/nzaRf0yb6L+xz/eRN+n8MMc+rzf2cADY2pwNOtt4wyGI9WX9cNMdOsDgYQPmyM/mefjmntk4QXVyLgTQzuChAHXJBxXUZY0LtIF9/PnAJUR3jBrmS+63+Dxx+/f5/F7z5HGxvqL236GGir6tQ24iVutlO9q62LDpxJ/P85B8hn7oo83PYE+2E+OU9aHxCPljIBaou8m5AZsG1qt47AN6dXMXQR8vgvOzfvA5tTux2FOvp6gH92Uzj8gcSWzMcdxZejUihBBCCCHOyQl/Bw5sVunGe4IcjupDne23bZSxrRJ7KMCDSSWbbuTAgGIOJTXNOSbZDjp4eKICdld958/M4YRJR9dMfaCwkv0Yto/0rWPLBcco2TN/Kblv3P59Pr/TPGUNLLkctv/mNTTh5Ow6DpLH7NR62V4J6NrohzkS9/M1seP6NA/r4VjU69Q67kju3KyettiDn0wtOO2lveQdUdqDOmX4BU54PUc9WvqBxPOozn3rS782hBBCCCHEuTndBQ5ubPnGOwGb++rwaTe3uPHN45HDFTkIXCAbcqYX25BHf0pqn02Hrqyfmas85E4Hh/wsHtbKMbNPSj1/fvcOMj2Kg056dvOV1cUePqx97qFtErQ9PobF5EURSxaf+Dxx+/f5/D7zGDvhs2tjdRHPlqtqyD+kmpjS9nL8qK51v1iOgJ9bPjKxy2NnuyGepJ9P0L5i/cBx4zaVcbI5UsW1G3vQ3fNdMb/RtWsn+NTQrsGylpLYOGT96vjU8aAxrC4tJyls3UA/en2EEEIIIcTpOeE3cIS4Hd5hXwghhBBCCCGEOBK6wBFvjS5whBBCCCGEEEKcAV3giLdGFzhCCCGEEEIIIc6ALnDEW6MLHCGEEEIIIYQQZ0AXOEIIIYQQQgghhBAHRxc4QgghhBBCCCGEEAdHFzhCCCGEEEIIIYQQB0cXOEIIIYQQQgghhBAH55QXON9+/Vx+8ezX18/vxefffy6fJPn8+vFL8fkTyPreUJ/Fzmz/x9dm+W8ftu+TwDgxqWK3m+P5oMVd8uKE5F8kneXz12+07wVT47Pw/pAPnz++vlWft2nl7+1zd5Rz5bp4Hsf9Re2Qw5t01sK71P7SV3UkhBBCiBPwWhc4v/yYtn+rHOdQfPuDOm5810358Q50vQuci1ylq2fr8XzQ4u0vcEy9EqkOXt++fjQfKA+okA83vsC5yBVjruyP/blyXTyPI17g9GqrvpS5X+3jBfKRfyAihBBCCJF4oQscu8Fr/gT/wdzjoL5tOrfN5fE2nDxOCdB1kvFvM3i2nmvTfY+8OA+2XjEH8ECFdYzteCgz7V4+7LzA8daZa/Nsf+zPlevieeT6OMgFjrm4RZ3wvWDr4q61v32rx9FF9SWEEEKIA/EyFzj+Ru75POagfrwNJz8AL+Amfvhw7dl6rk33Y/LioGD8q1iRw1cnX3L9oy/JOAO08pfPF2d/7M+V6+J55Fw9xgVO870A/0Rqu7x9Qu2rvoQQQghxVF7jAsf8u3h/k4rPzVIfnnKfNA5s4pI4G8Fq3KJf/hzmMz+FtBvZWs9yowvfAtjm4htOc7Fl9CpsS1LaBzqm+c1YxHclaEe1Ua822OX/575mg/7/Kq0vMm/2rQ9KP9Y6JIgfyg37Tj/MFN/cmGz8YHmxUv2uhyKvr9Cp9Mfnrx9Zp8Lmfg5mvyXfx3yN+PFmtHNpgh38Bucoac6J9TvkuyIPNsH4sj7lumZz/Zr4J2G+jPZjeuI3pjyyrpNNxTq4+bLIfz5uf/5sS3Q9L/qk5zZdSr/G+mYd7POsffNN0s3zDVKtE9OjhQ+Mv+lznl5ZbPyz3Wmusj/PFQDmjuQLjk/HpuNBbDq1X8WB+DSJ1fW63BdCCCGE2MsLXODgJtpuRBF7wLGCGy+2eTViNtHeYSxJ1qXaIJqNv9U5pifMu21OYcxFR2ML6l0eDIzAJr/ZLwn0Jdg4lZ/XG+xsO/qk6NfcXKNfmRT58SA/jOrVyoHNj4M6jeR1LAcHfU0o52kdgHhuIKDPZkuRO9UzbUbzN7X3feetGWu8Wn516oJKPKfQ79F+zfzr+Lo1R0tMDILzj+T9mE/jfbMONiasvecbjEHTNlrPS44Z39l1Ihb/sdyrKZ9v9886ef1gvCtqv4pD7wJnR+4LIYQQQuzl9Bc4RrzNE27Itg0eHqTyxtCMTfvmDS/2pZu75Xm7QbQHOO9QkjfLbG5o22wuNrFoc+GXakM/gbbwS4JOX4Lfz/pgsxV0Zv7MPmEb9qId9KXjOvGnuXJDP1AbevOzw8iIToG+zFaqK8s3R//8vIfNgyww3sLQIY7pWNRAhHZ82zFp+w7HtvbQdurTvv+HY0r7ddYfmLvtrwxeEmzzmByF52k9xOfHNv58rgeql+Pnkb4jse6Oy3I7bFdq4zpeeGTtF/HeBGpkJetf6LvR0ZGMifD4wPObfxP7cl8IIYQQYi+vdYEzCds42g0sfEY2nPHNNmzkig1i7jvPh89+rv85SaUrbmrNprGEzY0b1mme5T8rmz3Y5p1u6BvtBa04bWJ8V9vF4+FtrgfaXRvIIWiXH8h4C8y2fq4ufUd0gjy3hwvPXzW1XqMxaAHPoMDz9z7EMTB/60NZfGwWU57XHsynrC3h51tJpRfkTjN2bt7D3I3neY7XtT+3Ez8PzO/5uW735t/bd0QHzzd+e0l7TPv+iV401HN7uee1N8ALOhDUDfVH/2VIjtA2Do+PY8vO3BdCCCGE2MtrXOA0Lyz8zTbbpMU32/CsK3PfSt+L8M1o3qyiRGxy9PE2k87GOcm2MfU2q+4m1sLtzsKetX72Yudsrkfa3UsNEutdfhg57EHfhlz0HdCpnmfF81dLjzsc4pAiL1cbhg5x27zQ1jnEMTB/4xc4Ed+1YjIBMayE2Vb4uT5wJ2J6hdafxtqxScPfXf28Wl/bB+b3/Fy3+/7c13dEB883kfZS2JgoRUw3nlf7Vk+mv/Vfhs0LbY1cTPD4OLbszH0hhBBCiL3c7QLnz3/9x9c///4X+tle8oZrkmVzxdpmvINBot6kxTfb8Kwrc1+jG4q70eNj54M6s8nXx7+g4LLNs+viws5TH4AdYOyfv3rzOJvrkXZd4Ewwf/l5NMt9D3EzMMbis24uQTyzP+pxqucaNOcEP4/7rhGT3gGRzVX4uT7sx/WqxgbZ/LrzEFvrl/DqhMRwYH7Pz3W77899fUd08HzD2ntrBRuzkEL3eJ549vt+CUPqOPtp0uAOtc/j49iyM/eFEEIIIfZypwucf3/974+0k/n96z//Yp/vg2/o7IYWN3repri9Wexttv2DeQnqmzaD+P95w+mBdpHN+zY3br6Tjvj/aLezMWUXAgOXBAwepx7sYGJj4R8UBtpdG4i/d/mBxW+G5ZqbqyUjOkGe2zjUfmE6JWq9RmNgaecGjLHmN9jF6i3rh3qTcQZo6cjmi/vO68vqOsF86vu5nG9Er5qBegjC5w3YTnKhN79ne93uzb+374gOfkyqdqem22NOrZO/8P97z9rnV5283PNzMkPyCWGXMXeufW63Y8vO3BdCCCGE2MudLnC+ff3392mH88e0Qfsb+3wfecNlN6D2p2OwOcT2bTOGG8m8cfM2sawd9TCbvGW+Vbf6WT63tymvN9DsAEE2nNRuvrFFW9jG2WxWg5tYHNPEqYPxaxL07QXvAOUdIFh7PwZb3xv6IfcDnbz50bZlru35EZ2gDevC+HmxlccMdV2fH/E1wegE9k8wvRJ48ETfmHZPF5MnMbgvMG8mgfnivpugtY5j99YvHLedv2G9qE6d9WeSui/oTqjHSwRqemuPz59t93Ist2Me9ep0pC/6Pz6u9WHVDrHKY6JfWmOS2E/E8xfavHoz7Racx8a6F9dFblz7PEe8fIznXtYB24QQQggh9nH634GDG6iEt6Ez7YXkDbC3mQts8phUByh4Fg+wzsGkks0etrnkm2e0e/VVyxdJNn+MXBIQWnFqYg73/NnShlmPwYNFMY8V2HTv9IOZn4rNtWZ81ngP6oSxoLL6pemTJLc5xCW6OmEMLnTqo+rf8/skDR27+pUHw7DvWN/5s3CcRnIqrFd0/emP2ar3nN8YL7amJcBObA/On/0ZWc8HfHqnvtw3rH3nmOxSMJwnMLepH6+9pFfHk1TP36/2vRwp1+FtPR3OPXhWCCGEEGInL3eBU27c8HN8bha7YbN97Gdeu/0sC5/XG3MS2LD2xuOHncCmGua3m9PUTp6HjWrkkqAE7ajj1AI36+XGfMXGedYj4APTXo9zkbLPTj/MFAeQFLftEFXnlDlgLRKau6VTMebP745fYIyLTJ/VOXyNrxnOwaz1LPHNKjbPSGxLaczD6nAWEq+VkO9m7Pg5z8t5f35v13uKc13PeZ4LV+s1C69fFjuvXjP0QoGuaQmIoWkvntnEzt+3sfRVMeY058ct+hL/5zzOfblvvPYiv5N/oDbWmPXHnB5d14pH1n451yLNd8Udat/PBTuGXU8Dub/ZV44rhBBCCHE9p7zAEa8ObI4jBwFxHXiAOrWfi8OackbckHzR0T+Ij/QVt0C1L4QQQoj3Qhc44niQnyKLnVwua/yfwL+Cn5M91beOhBigyiG85Cy+ATTSV9wX1b4QQggh3gVd4IgDUfw0VYegG8G+7g+in1oL0fznOdNiZL9RM9JXCCGEEEKIG6ELHHEg8AKn+H0CYjfx320ixLtSXCIncS+SR/oKIYQQQgixH13gCCGEEEIIIYQQQhwcXeAIIYQQQgghhBBCHBxd4AghhBBCCCGEEEIcHF3gCCGEEEIIIYQQQhwcXeAIIYQQQgghhBBCHBxd4AghhBBCCCGEEEIcnHNf4Pzy44v8YeT6z09/n//Yq/5k8nOY/3z159ePX/jn7823rx8X9xzrzw9//HYpmUmO8+fcj6jTo1ANtVj+nPdvH+SzMwB/jvyGNsw5k6SdN0+tK3iHf/76jfdxWdbOy8PH+/Pt2f8gzfiCPZvwmODYvX3N09eOXTG+Ac+eX5yE+6zDe3jnPQ/nihixcyJ5X9D1GqReZ0EXV5x1dzmTXoTawd4Fnqxz7NCnQXQfIR7PaS9w8sLGJRcbJrUWwYeDi+cBN9nPBl8aR9pc7ts43Gcj9LabGdVQE3wXPOWSfvcB8T71Et14PbWudvnuqBc4vY008TNu6ImUvsH3RjPnnbXjoZvynfWxOz9316d4D+6zDu/hbfc8LmMxwr1BLXbtwzXVFTNnb51PwtdXqxeLrS5wRJ9zXuDgZgc3brhZgaLYiuUgi/J7kRcibZ4IW84ea3Hct3G4z0bofTczqqEm2/vgSXmx+4B4n3rRBc5zwM052mQOCBhns2+ZorBeyJh2G0Mcq31pydeOh27Kd9bH7vzcXZ/iPbjPOryH993zeAzEyFyKg/+cdndN9dZn1GXo/QPPLdJew2dyLnhr9rX6tHnou0IMccoLnFYixzc2QgiPfRuH+2yEtJkRh2T3AfE+9RLdeD21rnb57ogXOK1NNOgLvs7+J3sWPDxAbuzd5zx0U76zPnbn5+76FO/BfdbhPWjPUxKNEV9rV9j62VxT4dInryGttb6BuUBaJPB8zgVd4IiZU17gjG1e+CbPLIy4SUqyLgxFodmXfy6W1I6bMC/RUe9VrP52zLJ/19Zio8J1woUtCXsxlH2S8BeInSNJaTtbcMftLPt8/vqRdQy+bPMYSUfQK8maG14uGIpnk9AFM9APcmy1O+uZfO7oaSjjNdn3PdvRr5FijslmUx+tvklQJ/ZymsTUDuljPnegOpmxityr5uE5bDhLDYGeKb5cT2RvjsyYGFy1bi5Ec6CcI0lRk7auy7bk80gNlXk9PbfpyPw5U65Lq6A/WR/rbxvffiwTdX6V/mN+YZiYru23rqsF64tpXMhBX/8s1m/ggyqmnXVqwvrHyZHQ+wDBuET8AvPSvOTjoW/atWtzi+XNLIWuD4kx0wXnITFMYvzUG2PCrOmwb7gIsysw5kI/R1dqW9pxm7nZehuYf5sr+TeS92WO4NpV5XI5/2TP9nxeX+haRNvzeMneMg7Mt/1YgY5gb557kh25l+YyY4HdHtQfxu/lGK04o75WT7ueQD+0d50X2wr71vGYHnUOWX9vtmK/Isd+fucxqsD8Zf3I59YHfv9cX6BLle8+m53TMx/bnCO54PW9Th9LkdNNHe+f/6LNOf8JFRbfRYqkMfDFyCZSXHJhkwXKiE3O1nx0QaDSSfjKL0Exxd7SAednxZuF+mlbSMfsZC9eI62FHOiO44jZEDV9DHkY7QcvqNVnY/a245Ckehkh3ZwZtKl44a6y+rBpWyeOuYaWuYw+oKfpW8s+fzjy6BoaidveHAH2r5sDOeDk0kXA33m87NuxGhpbjxBvntXeu6z7rdh3/MJ4SF1N9HIH19mY3/i7vV0b2Z5ujjhi3geEatzWuoa6Ov1YHHGOtt/LtcNbC7JfHhPjyBrp9NliHRljYmitDI45EcvRidY61sqNiZ4/PTFxCs4fj11nzCTh92GS7Nesg7furO3xMe3ztdCcXPxiatnE6h65V1PZ3VibI3Hm6wauCfOYuV+eI+sC9m1zRm1GnR0fMt8zMfEoAF/01uuV5ppKxwP9Tb63yM9cxgFf9fSk/jdcow/SyukkOG+r7+3yX7Q57S8xdherqqj5Jg8X9K1wimTbihjn2sbHBGYL2iRrX1qkrNj6YzaL3OjPFt5Jtrlw0c5z5UWsMz+05cWuY9OA73hMsk1mcW8t5AB/BnVx5qV5w3VZfcH6Rf3I9axfsrG+eVwG5sbWr5tHbdt5zL12bhfDzu/kUAJ8SuMM8aw4Sw0F6iKeTzh/G/QDr1EYqxeHZg5AG8SrbR+LwSTNeRybWvlVAvbn5732TnxxLuq/Xs61/cJ4eF1Bv14+tf3Gc8TaM7e1/TMJs2cSplPTzgW0C6WqMxx308HS070a0wD2wPhubjwoxnR+mDvHncdzaAzUy8mJYb1ojrL1BfMpz51tKvxfwHxn7YH492LXmZ/ORWOPY3I/9eLvjZH72ljX7X0d2rHq2JX859iTuGXuterX2u3YfAE/a8QZ9WE5srZttqzzYG5n+7bxN//w95PxJc1NkMvn3B70Wx6HwGLRwY2JiSH63dF/kzJGLG/4O4xRxbLqM64PgvbTOoHnazsm7pD/os15L3AWMBGyYKLGN3l+MUESb+3QZhYSXMBw7JpaB29Mr72AvqgmoLCwWOJFROYPL5BM9wE7Hd1pX7NYrNJZdCa6uWDaCcTv/cV2gdjn6cnaue4Trt8Q8GHx8nDHLaE558WX49lbgj79XB+ZpLSv75PGPGepIU/PZi4GcgSez9LLt5F1k1PnQLz+WP54OdWcp9DRG6PCi4VD7UOvXogP3Lmg7zJGVP9H1FXWpRh3wHf1/H7sKsg8nn+6OV7a74LPgKCuWG/OWsl85/qzgufWmO0TD4kx19XViTKwVobXp/aYXtwuOO8NHLPlk24uGr2JPQPze36u2l1/Mr38GmU5GNaBxaTZXtMcc1oIV+1KXXzI3J6vgjWRdWyvzbviTJ/Nz13aMN+TXOyD2PbsNWsh83dRf6CTHYf4mOE+74Prlyeeb7mUayXzgb8Wl2Au8H6j+iBct0RUPxqbnfkv2pz+AieDCZhkTUJoh0WiXrz9vnyh8ReS7tiVrP28Mf25DF5ROIt7ZMNVyTa/Y0+5EFPd43b6iwcZg+qdn/PG6scL2yfAn6Vsfnd8WC1WJDaennW7l68TTswtfl5xn0xEbG+Mm8hjl1LG2MKfK/Rr1lkW1ydnqSFPz6p9MEeo3jku3Voxc4DexdyhHHByrYwdq5d4Dfm56o1R4cXiQisfVx8O1GGj/jZZfB3V/xF15eri+i7it1hul7LO4+nUzfHKNwHKuiJ1XMZ+hemZ23yfz/Dc4rY/OMalT1BAVx6PgTG8+b38GdYLxeqIcXLFiXuim4ud9XZkfs/PVbvzLuR6ja2vYR3ccb32Vm6TMVG8+OzJPTcnLdluFOubxFCeFfHjPgd/Tc+t43/++mPxUeqb/bXlgZsbLN5+bvjjNJ5B4PmWf5G2D4s17QLoUr5/GJgvqPtwLjBdEoP6GLw1hdfphQfkv2hztwucP//1H1///Ptf6Gf3BItwLnyemN1FyyQxKwx/IWm+bKiQfmZMfy6DVxTOYlj7yvalUs7vFHGeh+ket9NdPKI+AbyxurkA7egzJuVixPvDPCQ2np51u7/o+i9AxPch80ncdm9c9CmTMsaWrFMhQ3PM4vrkLDXk6Vm1780Ry/51czwHaNxhHlYv8Rrya8Abo8KLBY5NZfWhr0Pl715uJVl8E9X/EXXl6kJ9F/Ubz7s8F5d1Hk+nbo6b9hHYGKxGes9YG9u1y3OL2/7AGA+skTweA2O49UnyZ3TtdnK1zrGGVGNmurlocqbOpZH5PT9X7e57g+nF8y/B8iWsgzsua+cxykLGLKTK+b255+akJdtdiOvLhhB/5AuZSbwxp1j+uOgxx2nV6ef07NwDYuXmBou3F8MJd5zGMwj4l/Yjn6MPtzmxn6m1BOhSfVYTihH6siDnQrG+bozpY/HWFBa3iQflv2hzpwucf3/9748Umt+//vMv9vke2klaFyFPTP6iiL8Y/YUExljGpgUwse+lRPCKwlkMo74Kzx/204CdexdyIB6HRB1Hd87oYgS2bP2IfZ6erJ3rPuH6DQF7TLwHcpPa7vTt5qG1tyTrNM+F/4/juT6JcJYa8vQk7ftyxMLHGlg3d+ZA7W/+rDde3e7pHtfJi4X3fO1DPzeqvl7cCVH98xzzmPj/GCMe+xhZFzsmsyfuNxY7x5e75kmw9wEB8ruODx/D8/cF0Bvtcf1Zwf0xZnuMeIwD6wXo2o1Hbwy3ZsoxxvSqIfG9Yo1FrrZ9bR+Y34t91R72p9c2w3IwrIMbk7o9nuvw7KUv/j/qM5Annq9cH1qyjnM//H8Tz8E8w3FWqZ4DHWdZfABzXQR9EMmNzZdeDCfcdbTxjIHNl2Frlbd+uT5HXYrcrkF92uLFL+th8zgzok+J76+6fh6X/6LNnS5wvn399/cpMn9MifA39vk+zOJjihgSqJNseQxM1kBibu1srglc3Bbd+MKAz/cWNK+9wCsKZ3Gv9XKKuGkTLibMf0z3ATvNSyTrhLo3fQJwnQO5sLWDfpAfqMvsdyePWHxIbDw9WTv3A+qex2XQlxP1edT21O7YT1/KqKu1t6SOE+i0tU1gvhL/m9ooOUsNeXqS9r05guxeN8M5QGwunl91Zn7kvuXtWANZJ8wtO0YN1xX9nv2L47I8hrlIzrTiNtuR4+L5oOTRdYXPMt/H/dapFZgHx6znsf7p5rhpL0E9Uf+Jjv9W2Z4x7VZH7iMG6NOpo7L9fjF2fEnz3YvTwBjGj7lvnRMDYzr+a9cS0R99TOjmonme5X58fj7XgE1O7tTx98fAvrwOiA6Y16Sd1wrO3xiT5uR1uWdqx2svaPse5jbtgTxDXZOUn1/AMSfZ7LftVn/0jZMbbJytbYXbibGsnylw8tHazsc2a6Kzrhkdqf8AHIPp3ft8IucCxhcZ0IdQr4epHeOwzvu4/BdtTvo7cDCpuOSkgGSDpK4XRr8vL4yeDlBkWJxUVh1gTFPEXnuBVxRQWLgwsQXLLJBMtvnb9tMFgD0bsDOuU5s8jl0Au7kA7bjBYLLZbV4SpfAXWx0DqydvRz25mJdRSTg3B2wnfefP2jlT2ltC48ReGqYvkdbL7Sw15OlJ23fmCEBjcKd1s+3HPD+rC14rXvu+vGT+vfgzXFuD83fGrfOwrf9D6mqi+ewkW76G/cbzLjqP559ujpt2QnPtT0Li0XnG1PhE1t2TdQ6ydiQqH2ebHhHjrv6oa+mbRYfwGOF8GtGrs6a29DdyRW0OrbcTwfn5XE57L8c9vaiAD65ZM9HXrH3nmJjTw+94mNvUsNde0PX91XlmY+LpwGwvc7/aOzT9jbnlxXBmaI1wQP1rsT7B+UqbuB+sD7nMc7TGnum/X7IOZSxX4vrUzyZ6z+dnH5X/os25f4kxXbDKBOUvO7owDr0Y7eJjFwpSgOWiNj2Ti2DV2Y6Zn/faC7yiAD/h4uEtKmVx/vzu+YUtkKX/me5X2FnE+uf3oE+A2t8z3Vww7aXNaayAPasU/mOx8fT02hNV/jkx5xR6TjbkuW5je87HYq7kj6CuPE5WJy/vV+m+LM5SQ1e8GPflyAyPwci6WbQnaeVAuW4mKeqd1YVXK167rfdJJp0+3L6EQs/NhlJ/U1vruNkfKWY2Tt7chb4XsXXh22rhMb1xXS1knZIkvaztW9+Q36I1ZedZ88fzTzfHCz95WB0WKfS0sJguUjxn/chktam2m49R2PSAGJc2hNdI+Cw0BuSS+fwidSxH9Cr7JuFrKcRhlWIsRjcXzRgwRzV2f34+l99e1ujnrx+un6rcnj5319ci91LOZD+vOnh57bQPrsPumKDraO5561urrvoxKZ/vx3klj1H4H6j93m7PED2K9cf3N1DkgvGx90xJGfskxCcYz6qGcYztWWJjJXb98/3VmX+iH6+oPuzZlbpO897MPvuI/Bdtzn2B81QCi4+4H7igyv8VvZeBEMqRNpENrhD3xG6SlYfiyMCe2Lk0QLS+PpfN/4FYCSGOhy5wrkYXOA/jclnj/wTi3Q+fl02+ycHYjb94H5QjbdJ64v2ESBtc8VTI+0+I55LeH/5P5Mufqmt9PRjgf30DQohzogucq9EFzmMovtJXyrv7HjdCRPTNCqEc6UD+uUgW/XRYCCEQ/AFaJeWFjNbXA1Hup3UxLMRZ0QXO1egC55HYr5LPosuJFXbJpRezQJQjbfAbSYvoJ8NCCMEhFzP+tzm0vh4D3Afo8kyIM6MLHCGEEEIIIYQQQoiDowscIYQQQgghhBBCiIOjCxwhhBBCCCGEEEKIg6MLHCGEEEIIIYQQQoiDowscIYQQQgghhBBCiIOjCxwhhBBCCCGEEEKIg3POCxz484X5zxbinynkfx7v47flY/rnc8mfOWTjkD+dWMny5xHZn75GsX8Gm/2ZX0/05/+EEEIIIYQQQoh34kUvcCb57cM+M+Fd4PQuWvIcEze8wLnIpqcucIQQQgghhBBCCMF53QucSew3XJwLnF9+fOV7E7zYcb7RQ+fm4AWO0cXMWeu5kvXVhY0QQgghhBBCCPHOvPQFzvpNmPU5doHjXrIk2Dy3uMBJBMbRBY4QQgghhBBCCCESr32BMwlejtBv4AxcyFy41QUOfAtHFzhCCCGEEEIIIYRo8ZoXOJ8/vn6Qyxp6gVNd/HQuS251gRMYRxc4QgghhBBCCCGESLzsBc438g0XfoEzUfxOmk2Kf4J1AeamAs/EfgeOfzmjCxwhhBBCCCGEEEIkXvcCZ2rLFyjzBYh7gbPiXM6Yy5crL3A8qb6ZA+gCRwghhBBCCCGEEImXvsAxbb999C9wgNw3CVyg0Lk57Quc/qWMLnCEEEIIIYQQQgiRePELHNs3S/8C5wKb58oLnO2bNvjPp1BPgi5whBBCCCGEEEIIkXj9C5w/ffv6UX0RZr3Awc/Ipc49LnAm8Ns9+idUQgghhBBCCCGE6PEGFzgT1S8pzpc15p85NS5+touWG1zgRL+FE7nAWefo6SKEEEIIIYQQQojz8h4XOBP4rRe8wOHf0Cnkt488FsztyjK/e4EzEfkWTv8CB2w2NgkhhBBCCCGEEOKVeJsLnO5lh/OnxKvLlRtd4ES+hRP5Bs7WBy+ZhBBCCCGEEEII8VKc8wJHCCGEEEIIIYQQ4o3QBY4QQgghhBBCCCHEwdEFjhBCCCGEEEIIIcTB0QWOEEIIIYQQQgghxMHRBY4QQgghhBBCCCHEwdEFjhBCCCGEEEIIIcTB0QWOEEIIIYQQQgghxMHRBY4QQgghhBBCCCHEwTnlBc63Xz+/fPn8+vELf+4xfPv6sar3+ePrG+3jk217th0vzvefi5+/vn5+J58Lw8dvi7O+fn59kM/Fg9iZt3eJ4y8/ptVqls9fv/E+R+FMut6au9i+7333eD6mzJ/ktw/ymeXMa57Wa595j/We+6v3yIulxpME6rxm7/NCiEMB++ZSzrwPfMELnFnuHxRvkdcFzil40AXOEeJ5Cx10IDgIL3iB89Aa0QXOjW0/1wVOzv9+/dx7zbvn+A9br89WT6DvOS4cb8vD8uKp6AJHDLBrDVOunILGBc4se9bD5+XA6S9wzCYMX867AhJBFzinRhc4Q7zHxu8E6AJnH2c7cN6Su9h+sm/gbPXTz/97r3n3HP9h6/Xp6inn69vV/8R7vMd1gSMG2LWGKVdOAeybMcZ5PZzk6v2LLnCGcC9wOp/dFl3gnBpd4AzxHhu/E6ALnH3oAufGth/jAmfNoVvG9N5r3j3Hf9h6/c71dELe4z2uCxwxgC5wXh/nAieR95/TqnjVWVAXOEO0HM4OA94BwWs3AVkFN6eQDChzYrQ2tJ1xJ6xORf/oBhkWpItMSZXHzS9u72Xuv+TBtkXKYjDPbn7C/y6fARs79mUbsvCC6+vZPAhX8S39sFLHM89T6zCLN9ZYPLa25DMS7/nZtg4jdUF1M34qaygTymnXBm+sRa6pn85cxrdFLlR5tNDTy24SPra4mPFKvSYZyluSj2UfE8egz0usrZOfv6NtVt/KL5NknSI1wvrg521GdO3XffZvera0ja1FZR+MfeXvav5ax1jdO5gcXMct/OvVwialT+D5Mucn+s8Hc7JZh5j37dzI8SjXq6J2pnmNXjBGhNpunK+u04ss/vPm9fUZ0b2upzLHso/Ss8XYEOMyt1dhdeBh9NxiXOjcrcuZWK2BPUWu07g0+kTXgChVzpB6StR+L3N5ZSQvyLjO/C3M+FfV8kokFgvFeD+/kxjTtc9rJ89v1HrtiTmroch7JMmefpF1YIbEgeZFv1/WLeVr0X/t6+VMQS9X8+cpz5252DiLhGJarUuzfP76f8G3ts5wvsscYO/P72VM+Dp36xys1p1LfEjfMjaT0HlJvyq3TN05++Fb2gmxqvMc5ilzm8TYPO/mQLtPrcN1vNgFDgY8J3/ubxOTtpPky7KM2Qyas6GNjDvhLSibeC+xleY8SfJc3suctrfGBTvrxSBJGscpkmZhZfi4s5jngnrivJhDrXlMrjk5cJFLjOoX5CzW18hIPFp6Jqly0cg8zkhdVDoYP/s2Jbo57YjNB8+WJFnPW8wV8+2YXl5ebmO18imQt/18nPuN2VYz8nyr79yvVyP1CzyLzVnGrXTNfm7pk8SrI0cgLs2+t4of5ODaD8ezz7byGn0C/TBPw8/3bfKEjtF5P7K1rfnOuEh7fbNE7HbyaPFf9oedl7aP6N7qC7GL5q3XD+PSg8c+69zKDZwnXmvge8yVph8xDmNrQIzWmF4O1GLqdyinWzk7Zk9Lv5aYnAnHYiDuMKbnp9zu5EjwHRslGstb92v6F9fwaByC/bqxcsToHszVh6xhTj4kfXHcPBbqvvil6bskNt9vm4Pxd3TLnyY+Lf0CubWNdeNaw/FsPiVIXCaaObTq0MiB8Bg7eNFfYuxtpPvteRHkgcxJ7SzymAyQsNFxsS0nGk8wBi7im66mWPLzTCfejvPzRXKdC+fPMo+TP2Nj2NgYQP+2T+J6YuGxthxTiPMWT9xwMX8O2rcQj4f1c/YJ09XXYaTd6oD29+1C/1O/TrLZgLlKbXD6LuPeYq6uby8+mPtG9TJtIPMzA2OzvHWez3awODrPgx8qRvwFfakPr83P5osYGNH1qrrv6GTizWNK59ra+Jrfzc1g/NKzXJcZmnvG/lUn0JPGtPd8P3+StNfoOCynaE048evSq0+ai3b8kfa47vF3I88Lno9lTs1946D+WZbxo3XpxIrbAc9T23hd0+edvqN+oDFk41F9uO7xvHBqFftuc/XBea+r5Wtj0Ym7l6e0neUInyvbC7pG6M1Lcjv3I7UY7ef4l60D2bZsL8vLaL9uPU6y6Q72dN8r2HcZl8/F/GGfz76LwnJlguhE+2I/0InaeeschBhtNdnJwRwL5kuuXzdmIPPnN7YzQfIx07Gllz+07+gY1/GiFzg2SLm/DbzXXkEL3AsaBAgWHgoZd5+uoFMxN1tk6cLL2qn9CbB18UGzyKpxgr7CYje+LhjQky1enj9y38Umbx5oX8cM59hEOB6DfUdzirXncT+/PtePJ8kLv483D7eBLXB+nuSx57775/J9m8eePrnYHdermcP0RZog9cz6Bp5f89SzzWtHavsX3LqrYfN4MeN4665lRFfX9rLu3blJeySmDf0TzC974mdsxyKu1t5IXq92sb4jz3u6e2OA/yq9+9Q+9ccL+bQE4n5NLYy1D+ju1ij4eclHlndu+0DtM7Kedi77WeH/si6Hao20RXyz6cDGbLX38PK8jkvfH6v+A3nhzo/xLuZrwHX05iB6jsTCrbWBGNN28nwgx6wO11H5D/Rr5tUV/Vz/VvlW1yYS7eetK92c2drjufq4NYzkykJlF8shd25SG7fOQbd+Crx5t/bFlwH9WJ1X+XprOxNNW1mucXhe+TnA8HLzGl7ud+DkosmfDRVzAoJdSg6+FzR/kYmMO6yrwU8ktkjyhbO98Liy2OqNOVP4ZmDhxLhmKeYY0BP7znmCRezLpW/1rE8sbjPheAz2Hc0p1h7yv4M3D7eBLaaQ167MY++fy/dtHfe4Xq1NgqdzotKF5F5+viHLeuDZ5toMuHq6trVqKs/Tst+86EtpvCzjug7Uvbu+1u2+TZE1upQ8xp74eb6s115fx6b/tvfdyPOe7mzcBIxt2mPUcYnEo+HTCiefiK6jsazbB3QfeDd6uUvbSTxH8H0cr8uxWiNtjfd5PF/8WLSJPufVQ6Icwx+zmUOulH714fEcqOWRWLh9if1entL2+vk8d0Oa8WO0cjz7L/sUpayXYL+BdQB9g1LVebCfV6fdnNna47nqzUXbd61hJNdWivykdrpz1zVz+xx08q9YXzxflrT6VbY3fH57OycgFnWMWa7N8JpKgjY2ciA8xnXc7QLnz3/9x9c///4X+tleMMDlIs8Sw0ss1t5Lnhx8L2h14Y2MO6JrjZ9IbPGgCwprH1j0vTFXsh0/v36EbEL4Ar7FZOTlVCyu7mJWyKVv9axPLG4z4XgM9h3NKdaexy0ksJB683Ab2GLK425lHnv/XL5v67jH9Yq9sKzOiUoXknv5+YYscfJsc20GXD2pbT3f5HnccXv13Mi9uK4Dde+ur3W7H1M2Rk+HPMae+KHtViI6LrT8t73vRp73dGfjJmBs0x6jjouva8inHo6v8X0xGsu6fUD3Xi0lWfzp5S5tJ/EcwfdxvC7Hao20Nd7n8XzxY9Em+pxXD4lyDH/MZg65UvrVh8dzoJZHYuH2JfZ7eUrb6+fz3A1pxq+k5/eyHnj/uuY6/QbWgXVMbnupX79fXUsz3ZzZ2ns+SzKP7c1F23etYXWusM8+f/3B+7lz1zXD/VvIUA4ugA4oa015vixp9ati3PD5XeyEvG/WzJb7vfcP2ujlwMgY13GnC5x/f/3vj6Tg71//+Rf7fB8Y4HKRZ4nhJVbd7gSCJlsgaFsyxMeN68pgiTjDFkm+cI4VW4k35gaMtUmhawyywA/oyV7+Xd1XvHmgfXTxS4TjMdh3NKdYex53thn/v6rBAm8ebgOJK60pzv65fN/msadPLjbH9WrmZmQjuo7P+rrP13i2ee1Ibf8CsW0kDryv51tv3bWM6Bqxfcabm7RHYtrpy/yyJ35o+6Uf/r/xsZ/XtV9Z35HnPd0D8S/GjlD71B8vnhc9+ByjsazbB3RvrT8FLO/c9oFxGS0ftz4zjNQaa3NtgBzcdGBjttp7eHkO7ct4rj/A/ln/gbxo1Oo1cB0HankkFpXda9+BGNN28rybY9fh1Vgs54kvKKTfznr1fV5A+o3ZzGz08qjmcWtYu+6zbVlM/rhzk9q4cQ5yBubd2hdfuvqRMVs+v4edMGY5X84JmM/RgeeVkwNDY1zHnS5wvn399/dJvz+mwvsb+3wf1OEXwJGTrJ9h/xw87Ls6kiSa+7y3mLD2+LhecL32ElwwNt9AsUyt2yIZ74uLKfTdxmBj5jaLHSuJjSHBKYR6rriedExoMzFdfMJzh9kOMXJ0Z+TnoW83dtbPtL27kHi2ZTvqcbkPGF7uchswhrkddWWL5GrXLebKfT2/jOvVfGEFxt6eobHkMdvsg1zmfvDbDZiLdMysJ+rO9YR5qE08NtiXbZg2BnQ1Y0br3sxN2p26pfkC8+e50P5WHbbbDSQHaY657Sx+oCf4Lv68pzsf14xB5kMbGFkv5tNJA1KvTZ8WsPH7PvLWqr4+8b6YT9B3GyOP6enF272aiMFjvxCtS8c3Wd9JNt2YvrzW+Frj2Xu9H2gM2ZpA9eG6j+QQ99PEMh/mSg8ez5FavjIWPXvQdtAB/UTXKToX5v+ir7GrD+qY/UvsAbvrmk0y2M/4l/Ul/UjtXZov/or289aPQM5AezRXvbl4O4t3FMf+FczbJGWfQE3SvDT6LzpcnYNkrEvzMh6tHRYfkr8T1BaSH5kBO1f/9uIGccD5sP7puJPk/mhzx2fDY1zHy/4SY+NIkxBMsiNNQIm4wZ9k/owHMzouLyq/vcIsCExgkbxh33Xh5IuxxcbP75fBpCeCxRvUE4uLv/CIOMVZCuZIrU/D3oF4eH6m7a4O19QFjIs+aCygXu5yGzDWXjuRZf5bzJX7cjHxjeYmxMA+v9DIJy/vMG+bz/fi2GgvCftmIJe9/LTrBJHOS3skjs2+m/+hXszcvD2u/846bLQbaA5i/mLNtPM65x70M+/c6POe7t644CsWl5b9E3R9GMnVLu1Ymtova3a1Z1ftlBLvu8bEW0N5ex3neZzcbtapgl7exuryylrDGm76BnVznqftMR80c8bkftsfJreGcrpdq9bONvtreSIci5G4d3Jpkuw/J8bBd+zWr4idIRyfaGwGYhhcB4btpZL7eetKN2fcdiKLnbdZw2KUeWXqsKht+9nEUJ1OBH296lTNZ2isO5Pgs606M75q6efUONUxZCfGzca5ojleksLPHd+U8/EcGBvjGl7yAocmRFkoqdC3oLaCkT5zFnRanJBUzZcvH3ds4fEoEmcaO8/dXhCSDXmuMqnZ4mn7uPMgGAvjzzYs7nyh7euJdldjkGKnOUUKlOlj9W74JRGMh+dnr93VIVgX/fk8H/m5y8fE2Nm5Er0cuMVcpm8RD55vfb26L6yizypV31besheGuwZZ33rtDGtr8nOe1+hLcsuLjx0z61D69ed3f31lhHVNdOse/GvWLa99osqfwBhJkm0k1rvi5+WgiZM37irl+O149J/3dPfGBT9B+zZG6f8CL/8q/5tcbfjUoba7nI/0QzuLvEnx8vUZ0R3XvFVsH89Hru+KOp9zNc/jrZkJHvuCbl3yfrzWWNtK4cckrT7mM9Ye88FKlTPV3DM5Dqvw3BrLCzZuTG+Ex3OslqvPVnH8Uccd5jPPlLmfdMzz5JxisVwhepW6r/pUNhVc/X6chcUmHsPSF0lYDQbsDfbzbOvmDNGrZ2ffj5E1LIq1vVybsn2kTs07+cPGxM2fvq/XOek6WVCtO0zPRJmv4X5ED2O3p+NATrm+WiDvkFX8WBfzpzlgHPuclwMjY4xzygscMQ5fJJ8EFO/eBBbi1hyqVsRrgZsb70AiDkm90S2kt4l8K/IB7Gnv+KfX2gF8cCvIoawU7eUWohc44rjcMN+39wbLB5gnctkSZZ3zlmOK46ELnDfhSIdSHZDFkVF+iptw2ZzZHMq5pQPP2cDYUdGBDVh/8uj8lPbWHLLWHuyDe6ILnDDbtwJ0QX9ebpXvvQua3udX8UIXx6KJLnDehEMcSouvsel2WBwRXeCI/bCvqINocy9emMceYo9ZazrIvyMvdGkndlCuSc5e8h4XOPoG2NugC5w34XAXONrUiIOiCxxxK/K/uc+in4qJV2fO+8eun0ertWf4QDyZ9DvWprDrh5PvDl7gNC7z7nCBk37HyqcuEN8CXeAIIYQQQgghhBBCHBxd4AghhBBCCCGEEEIcHF3gCCGEEEIIIYQQQhwcXeAIIYQQQgghhBBCHBxd4AghhBBCCCGEEEIcHF3gCCGEEEIIIYQQQhwcXeAcgo+v7Q9sw5/Xnv8M5bP+HBzXyWX5E+H5z3bCn9H7/PH1rey/MTjPS/HOtj8S+flUVGvJE4A/77mJmzuQX4uE/iToMsdI34sU6yn788lZ9OdEhRBCCCFeCV3gHAJywGxs2B/DyKEXDzA/vz4ubbrA6fPOtj8S+fm23MKf3hjQPv3XvJY8luaFSLmWsYueVahvYF1cJHKB8/Hb0jnJ0AXOLKFLIiGEEEIIcXh0gXMI2GEmb/Sfs/keO6RtBwyivy5wPN7Z9kciP9+WW/jTH6NeSx6Ic3GOFyj4zaDcnr/pghcq2Ne7aOmu78s3kjZpXOCYby2Zy6XnXIYJIYQQQojbogucQ3DEA+ZenXSB0+edbX8k8vNtuYU/jxmTfBlS/NMjuAzJFy6eDbx9Gzuth3Q8Boy1SvQCp/OZEEIIIYQ4H6e7wAn9tBE30+VPLycpN8zbT1GLjfVF2OGiHHPqY8Yo+5cUz//8zjb8jQPOiE3TKB+eTcU4dgw7P/4EeupZ/F4Fdllz3QUOxjcJPXTcLKagY/ITPO/lWalfkvDBKBT3FfhskXKeu+ZtwMfZF8l3hb7NmCO1neU8KzYHkzjfKhjyM+bALN78Pnn89Gy7VqwuW1+jV1Sn2neu36t4Fr6D/El55tpA8iKJ0a+XO80xWusGsbeKp41FaD2JAP7ZbGFtFwJrn/usZdP/tx/umN5aZT8r81AIIYQQQpyR830DBw+qsHlnm9hy824Enq0PhlbMBts5fGzSObg2dUqy6WUPeqHnB2zyJB8AyGHJCB4I2IElcIi5MDLP7WPK8sYeoPNBtzVm6xCWiMd9opVjV9jYHTMJxCjq4yGbGEE7bTxqwUPrkE64lpTSqWPLSA47fVe9ojq1+kHOJlp5svmuOV6SZczm5Uswd5pjOOtG2N6x9SQK2rX5DOzAHAytfWCPu3ZsfZLO/phUtwvoi+LCTgghhBBCnJIT/hOq3uF6bYPN63Zo6z2Lm2l4ftsw44YYDgJ4IPE27Bf4htocejZdmf47bSoOQewgQufybGU6bPb7Bw4L9wnOQ2Nyjf34/KoT+qTlZ3rgIuNRuI3duEPfbE+OxX3yFvp2fMz1531r4nbiPNTO7Xk+Zl9PPpc9DLcI+JfGF+TyeVyn7CfwMauZng6sDhzfZX/A89uYXruXD94Y0H/LSe6Xvn9535xDQdA3WOcwps0VZkMBXU8sa4znz/0xTX5TAT8IIYQQQohTc87fgVNtnL3DQE3e7OZNLT0MsXZ30x3YsCfcQwTT/x42eXrCXFu7Nz8eptax2bhBn7jz3MN+3l61uQezGm8ew0jc3blz33WMsI1783aC+Zi1tdoNnk7QPtvv65jnWfqO+Dnik07eZbxchbG2GEHf0ucDOuUYN3w84ebn5qvl+UA8crtnL4fnQ8Bnq38ifmH+NeOO6ZyB57Y5FtxaJTaUuDYtbGOvc/pjYh14QucQQgghhBCn46S/xLjYjLsbaTzAlJIPE+GD8J4Ne8J9nh0u/APH9TZ5esJcW3tk/tbhIugTd5572O+0F3HxnjU2VVL2BQbiHjmMrX3DNl6Rt3mMUrKPvYsar93g6lTi50F1CB6pL+jrSjNvkUiurjFq2DOiE9iO4l9w+HLxlXehQNsbNkxEcscfg+RkI1fqXPPGbevMQf+RXHb18utqo3mBk3XNn/lj4ppR+gdjUX4mhBBCCCHOx0kvcGBjOm1mf1SHpETv8JI35PUhy2nfs2FPuM+zwwVr22uTpyfMtbX7B556bDZu0CfuPPew32vPc33++qOvDxU7j2Eg7s+/wIn7WBc4K76OdYwa9lyhE8+Xda5eLGe5+OomFzjx3AmNsdrayJU617xxG36nWFtojrqXMMSGksYFTmgNmGTVCftXejbmEUIIIYQQ5+O0Fzj0sIMbc2fTzw6X4YPwng17AnSyz7PDBWnbbZOnJ8y1tfsHnnpsNm7QJ+4897A/0p6lN4d9zo5nGIm7YyMjbONI3g742POJ127wdIL2eX4/j/I8S98RP9/0YOvlMOi+xcjrO7FXJ2J/KD8TgXjkdseGgdwJ+WyNt+uXEf82/E7A9cCPxY65WrEGP7Zk9XFVBzjW3pwSQgghhBCH4rwXOLhJvkhxWKSHOdzw5/7hg7CZE+bDDXf0sgLmwg143vCTQ8Bum8jh6ALMtbUHbN10ZeN6c5UQO732u8R0Ae1KUujMD0noo2I8A+/XjTv6fbUT9LpL3g74mB/M/XYL90nWnc2DOrHnR/yMNk294eA762B92ibgXxZfk++JqE7QD/OUHdZZjKHv1s876NN2Z/6B3HHHoO3OGEP+bfndknMQ7eCwfMXnqwuVleGLFc9fNr/tfJiX+Nk6FsZDCCGEEEKcgRNf4NiNcrmpLTevtbANtz200XY8NDCp9LCYwyST5kFkr03eIQDG3drjc3UPXU2fMDu99r32++3l2NWhCg5cXMrxLPG4TzRz7N55G/dxtglzwW+vaOhk/Q+5RAQPrUN+7sTUPXxXxH3G8xqI6hTMkUTOByJr3L0LBae9HHP+bMQP3hjOutH0C+a/59+O31c6/p8F5mv1D85jc93DX0+7OZ8En8HcaekohBBCCCEOx6kvcHAjyjfBxYEibWLhmfUwNHQQThSb9s9fP4KXFQvF4evnd9icbxvqwEEkyZBN3iEAxtzac1vyrT1slQdzNq5/4LAE7LyZ/Y2Yms+ci4fysDbpFb6sSITivlLYmaTw47CN4byN+Xj3Bc6F2s7tkqIg27VKHcMLQ36GzzZxxnWxuWr1LMeyfe04K1Gd+jmyUfgkiVkzvQsF96LBzp0/K3Rycscfo7VuEHtbdWM+89oLyhqn0ojpItZXBNevHr5fehc49fhZX6/WhBBCCCHEMXmRC5zIQfGewAbeO0CJw7MdvN8mhsrbHv1vN6TDfPByQAghhBBCCCF2cOILnNZPau9JOqx53ziYVAn9NFUcjuGfiJ8N5e016AJHCCGEEEIIcRROeYFTHqoe+TXw+p9xgOhbDCek/Ocq7J+qnB/l7T3RBY4QQgghhBDi/pz+Aucp3xzo/T4JcSLwAufZ/xTvzihv74QucIQQQgghhBD359y/A0cIIYQQQgghhBDiDdAFjhBCCCGEEEIIIcTB0QWOEEIIIYQQQgghxMHRBY4QQgghhBBCCCHEwTn3BQ786ecs5K8ILb+89ZF/reopPPtPYVd+ftafep+AX9j78nF/CsFf3HvSP8+ef1H6c36x9bPnvxf5r6Ed46+9HUaf4l32ymvW0XLgVvCaXd6B+kt/Mchejfn1aDl0jPcFybskZ8u9U+wZ3qeun1pru3Lh2DWQ/TrJql9w/Xt13tHmazjtBY5JfiK5AOCg+WIbxoqnvviYn1//Aud9Fxpd4NyTV82rox289ulzo78+BmvVKrrAOR+sZnPbM9a/G+Xnw+B7NebXo+XQU9drvPzd9lm6wLknz63rx/LUWnvJCxzQa5WLfvH179V5R5uv4ZwXOLjhxcLEFxkUwLYAvfqf+H3yi6/2sy5wXhdd4NyTV82rox289ulzmwNy1uG+a9VROFoO3Apas9v694w6PtsFDttDcL8eLYeeu17nfVZ+x+oC5648ta4fy1NrbVcuHLQGwKZSr+j69+q8o83XcMoLnLyg1MHNgX+PzbDhcC8+XeC8LrrAuSevmldHO3jt0+cWB2RYIw/ik3tztBy4Fcer2fNd4DCYX4+WQ8eLvS5wxG14aq294gUOnE0iNr3qXrDFO9p8Dae8wMnBnZaU7uGcF7FZlPBGNMm62Sm+2m6LLW+OUnseLwlPOtR7Fau/HbPs37W1WOz6OuHhYRW+SPd1Z34eW0D7c6zUelcLYesCp4irZ7PZAC+S52G+S+K/5LJ9Uyy+r7Eq4hLVrczZSbivahuqzbzJm4/NLuPTQq+f34OHA/oCLnxnng/E1oP4xNOtyrUiP3msFinGNH0hll47jUlr/l+K/oFa2mo/9W2uYysjOqWcjOhU9Jn85m8G+/OP9WPcUJ+qTmdp1UwS8znL14vMuhjdtrFQz4Avivrj74Sy5kpfzOT4LxL2u4X63PiqXy92rYPPp5iWeq59ue0LdJ1qtJc+m3zxweod7CrX58qfk3h2pbk9uyiR/AzkT56zsQ6VeVysj5vfU/9CL9enoIfVoRhz0iiSQ3f19UTIT4b6PWdsAWzeJrG2lfk/tzFfRm2E8Qrdsy6j/vWxz07jwvvW5sf94zhTxC9JGUNW1zdYa7O+U3unrmYCeQTjJF25Xj6jtcb895xc4OvJTD/GefxkX9F/7RuKUaau5Vlm27i+Vg87XuWDys4G1TvCy8VVv7ndWwMqX0zC417nrB/b2maROec/oaoSpViwDLwovELqSU5IsgAYsYnXmi8n79iYFaSArKCfWnNdozvzc2sBtcTmmGjZiHOwF+xEax6z2FSLG8hlka4XoVn8XKwW24tkX0d14+PMEvYV6un0W8dqzXeR1ksLxl7HQzuvii2jFS/zrBe3JDkWIzZ7LxvaHozJLp9PtHIpyTV5MqRTc8wk/fyb5Yp+jFvr4+RbqGZWP7nzzHPwGC7z38RnDbmiZqJku5gtoHuiuw6nfr33pifcT15t5PaB9/QV76Gr5inp5Gc0f7o17wj6ML4W8f0CW0dHcujuvp4YW6+je69W3WE+wXjbPMyXcRuzz1AfeB7iE/MvJ54bj4ljtC5oXTefbQjNdUeuyaOuXrZeSrLf+7UWW685t88Fvp5EY3yLta/E03t+Jr7+tdeGTo5PtPyX1xWcY/ELxBftbPnK+KPl+67NouS0v8TYXSiqRYIXBSbwlmBFcm2JjHNt4+PiCUnG+sK4OZnZy7A/pimGEtSfFkO2iRYIm4fqTgqb+pn7vuKaOUBvZh/aEo4jjUNe0HPOsLnBjw6oZ5bluahuNMZxX9F5cEyQORbcF8aWTV9CEVv/uYHYVsCzkGfsWWxjOb7qxPXs6WhzgLXnHOK+bOpJ48yh61s3r+M6cZ+wMfPzNs/G52f96JpFuIc+xp8ml1m7Fzs/pqhzlrlPWMeujZPQdYTXYKtmoljdMSdt/fTzde3PxzD5Sp/nfjJ5RNqpPzw72HuIzgXP0/cQH9PoWgHPFzGK5o/x4TYG6gU6YE7AOoz+5v5adYD8o+t49kE4hx7ka54TvLaZPXQeljs93dl6c42NrI35Muxfwki+PCiOrC7CsUF74Hm0J+vZX2v5u4P17djp6IVz5fyqCdea+YzZX/YH7pILfD1hMWa+4LFAG7lOOBfFzUWuL4sz6kZ1KNZ7A8xP7UL9ja/zt/PRd9x2zNm1bz/na983ckac+AJnwRTZJhj0eBF7fXlyQ5spFpa4nFoHb0yvvYAubI32CjJPdFGgvvP8WRCdw7UD5lmfJy9YHnPsu+RNwI/XLDRsoVoJ60bsov0ivlrnavkf5rPjXJGTn9n+Kh8i+rrzEJsofj7m2MzPu3El/vD6hnOD2L53TC+f8vNF/pTs0glyo/Czm+clZP78bMefFffRJ1wDC9x/fu4O28t0pHpPOOtInR/xmlnbe6BduCRU+eitdeD32SYnDgHbu36q2v140fi6NtTUuejlVzTvxvKT+YDnrFc33DdejUVzjekQziGHW/va85PXXkPmYXlKYToyX47YWD8ft8WPOVLHf8GrRcKt44h51bSR1XVgvUE7mf2uj/fkQnhtW8ewhGvNXeuyTt4898kFvp5QyDxeLHhu87WP4sYyuv75duW+vg5c/4lNL8/eLCZGXtzL8dxYgj1Lzrp1IAynv8DJYAElaRdxtwhNYcCiuLX7L4R+gZey9vPG9OcyjC7U0F4JzMMK2NqWYL7z/FkTmgMWClfWeapFpeX/LJe+3oJEGFlo/L5x3cLzNWyoxnAX1gl3nPGcRGnN40orh5znXZ1dmX3i+pn4yuvrjtGw9eoxC/gaNOHF86Y6ja6NE4H5w7lUcSd9OjXA17Qk6D+sfauDq9vKoM+Mn5w8yLFc2+M1s43dgfulthF1ceXidycOAdu7fqra/XcarQ/Hz+01f/WFl1/tvMt0+gXyx6t5nps8lyM1NvuG+5bpEM2hmfv72vOT1+6tZRfZ5nH0rt6DTEfmyzEbre48NjMR/9ZEfGNq8QFx9OJi9Zhgde3p7awB2f7cPuyTSB4Fnq3sA26/Xtvn7LO3zIVGzj5o7aPA3K5NzfUPctmVwo8bLb9lse+qYr7Cl27sSho+32QZOzzmm3O3C5w///UfX//8+1/oZ/ckB35NQl4U3SI0SQoJvLX7L4R67F7BkX47Xz7dhbpXTNU83IY8D/Od50+PzhwDCwD2rfKgIZe+1bM+IwuN3zeu2zWLZWlDNUbrRe6OM56TVgr9R2LbgG42WM26Muvl+pn4yuvL2nMbl2vGZPD1bYLE8/Y6+bnB9IrOv8L7F3Ya7qWPN26vntF/2Nfa4MZwIqyjV9tOXeO4c3u8ZraxO9AaTVLEpmfjRS7POHEI2N71U9Xuv9OyvuAP6ueeT9d4e/nltZf4/aL5Q22a4LnJc9nN48o33LdMh2gOPcrXnp96OUGlnAdyEIXm0/Ys8+WgjTDvz1+d+sBnqRQxBzyf8VqMzjNoo0PWDQVsYXXtrSF0DbBzrO1DPonmkaeX115w+/Xajm+fvWUu9NYTLus8nk4jax8F4mb9Hl3/evYnKfy4gXr6gnmKMbhI5L3H6OVrkmXs8Jhvzp0ucP799b8/kvN///rPv9jne4DkLRIpgcU5JyEvim4RmrHZnN4LoS7k+ELgjem1F4QX6oCdrXmIjXxMb54IZI7gC+cCeWnymBMCfuy+cAmtvmHdnM1Abl/Gdn016Ff3ZTOek5f58P8xJ1o6XEl0LWC4sSJ6en3rdsdnu8bkePmUn199cg+dYMzCz+E1L5oPbn4i99LH6evUKPcfqccFf00Y0NHzY1fHtX3PGs7Jds064f+jLp6ONYM5xHLG61u1+/Gi8SU2eHUUzkW3vWTweeKDuK4J7hsvj6O5xnSI5tCjfO3NU7d79XRFTLfn2bNsnlEbMZ6r9Oyb8WKO5GdtzPbl4aiNAdh6wdamwHrDczO3e3bWOgzkUXhtW8ewRGvNszPCfXJhoAZ2zZPAWvFz/gLLpws8prUeXuxjcP090K4sRm8v7lv7oncw3xJuHQjDnS5wvn399/fJ939MCfI39vk+cAFxF+lOsneL0FsU2UKASQbJvOrGFyd8ftXBWVzc9oLwQo1FCfYT3b3ijC2Wnj8Lrpljkrovt2Xrh/ahPot/ss9YbFAfHm/Uh9FclKK6QSypn6mv2vnp5s0F7gvM6dGcxGfzfAOxrXDqg8TG1Xvp2+7HfcrtQb+tfaENYsyez202V7z2kpyreUwey/vohPNvscTcHZ4ffE/q49K82Vlze31Su6MT5B3ta/yH7TbHs85l7g/o6PmH1EY5xmjNRKntYnlZthOfbbZDP9QvYDvzE/qU1RHPBUdX4mfmY+4Dxy63vcTJT3y+kz+5zdY8z02ey8yH3F6uL9MhmkOP8rXnp7rdqXfIk3UePibzEdMx2q/Vbv13kcbnbf8Srqy5+8WR5x9dR9j6ebe1FnNmPI9cvbz2gmit2XaSs+jTkrvkQqcGYB4cs57H1nTtj4QTDwbEyPqd6cv14HkysYyNeVaBOYIxWWJgdCp0pbbT2DF/YJvVcR43j8l9vz5v4/HOnPR34GCxcslJyIuiW4SY2LToezpAkmGCU1l1gDGHXz4T3oJM2s0CwIS+PIiwfqyIjT9LonNMdHy5LQqw8NQLhSOoIy5yhXi+nQXzyeK9EFaiurViZxbupq9ATy9vFuK5QqBjY7zjddJ6KbV1dGqcyWLLmM3xtaAZ40nq+rS54rWXROcZ6TukUyeWGJOwro2aLHWquIc+pO/82cC7weSjXTvy2LbdfsZl09GrbWd9xLzP7dH1Ofdr1Sq1C2OLtRWKufN+DNjeimUpue9AfJmfw7novfe99hqen3FbvZqnMXRyOe5XeJ6+77IOdH6WQw/y9cjaiDVGZZunnWc0H7dnmS+vsLHwX1XXYf9ywrnxqJoJrTe2H6vrHBun7wTmwdoez42Bvp5eXntBuNbK9kpsbZTcPhf4ehKdh9WufR5zm699FPCR9Xt8/bPzEWnl+ETTB2y9WNvQ98FcNGtGJ3Z1HfCa69n3Lpz7lxjTxaJcJHpF7BQh9KWJXLwQbEGQAi4Td3qmTtKdLx9vQXbay6L7+d2znxeoKUzqO388Rn+OFRh3k8LnkBvVGCRv7EK6An5fhOlj9fYX7zrehKhu1ULojVnbUOWQlzdIoZfJlZ05aX0WiK1H5ZNJHN16uZY/n+Yux2Vjsj6bz2xs7FqRPqvr28uVUA5NmPWtil2rf5Jb6VTk3jSO8evWLzY/HTNJYG2Zub8+OceLuZKOEIccA8x3TwfbXn+exNHRqz+qC8bStpefrWL7ZFtYjq14dqE9dh0qfJnExNyJTcB2O0+59iT98tjNvia+UAeOn9l6UdeRY5fbzrC+Qxsi+VPrVD6LMeS5bPqCP5J4+YPxZToM5dADfO35qd8+S2vvZeOUxI7FdWTjXWMjj6kh5F8f64vUP+tjau5JNXORIia0rgPrDeY72r22G3u+W3vt+lOPkYTmkaeX114wVGsXAv5zuG0uRGvKzrPmRz1e+Sz6I1AnK5AP1m9cX08P+1kWu6Y2KNbiJKgP+gjH9NqrmBB9Z9BXq1ifcZtzjMI2vjjnvsB5KnXBCyHEEeCbDCHuSd6YaYMlVrQWnRk4bGmfe3dah3UhhEB0gXM1usARQhwTHZrE41nfiTp8iIzWohPjfHtE3Add4AghougC52p0gSOEOCY6NIlHsx0+9D4UgNaiMwL72yTBfwIj9qELHCFEFF3gXI0ucIQQx0SHJvFo5sOH8k1YtBadEbzAUdwehS5whBBRdIEjhBBCCCGEEEIIcXB0gSOEEEIIIYQQQghxcHSBI4QQQgghhBBCCHFwdIEjhBBCCCGEEEIIcXB0gSOEEEIIIYQQQghxcHSBI4QQQgghhBBCCHFwdIEjhBBCCCGEEEIIcXB0gSOEEEIIIYQQQghxcHSBI4QQQgghhBBCCHFwdIEjhBBCCCGEEEIIcXB0gSOEEEIIIYQQQghxcHSBI4QQQgghhBBCCHFwdIEjhBBCCCGEEEIIcXB0gSOEEEIIIYQQQghxcHSBI4QQQgghhBBCCHFwdIEjhBBCCCGEEEIIcXB0gSOEEEIIIYQQQghxcHSBI4QQQgghhBBCCHFwdIEjhBBCCCGEEEIIcXB0gSOEEEIIIYQQQghxcHSBI4QQQgghhBBCCHFwdIEjhBBCCCGEEEIIcWj+9PX/AbNz4pd+pBsuAAAAAElFTkSuQmCC)"
      ]
    },
    {
      "cell_type": "markdown",
      "metadata": {
        "id": "psfgJrLM4YqX"
      },
      "source": [
        "#**STEP 1 :**\n",
        "###Import library yang dibutuhkan terutama library sqlite3 untuk pengoperasian SQL di Python."
      ]
    },
    {
      "cell_type": "code",
      "metadata": {
        "id": "OoMqMl7PP9YL"
      },
      "source": [
        "import pandas as pd\n",
        "import numpy as np\n",
        "import sqlite3\n",
        "from sqlite3 import Error"
      ],
      "execution_count": 1,
      "outputs": []
    },
    {
      "cell_type": "markdown",
      "metadata": {
        "id": "tIksq4GP42rQ"
      },
      "source": [
        "###Kemudian membuat function SQL untuk connection, query dan select dengan perintah seperti dibawah ini."
      ]
    },
    {
      "cell_type": "code",
      "metadata": {
        "id": "AT2-kLjCQqCx"
      },
      "source": [
        "def create_connection(path):\n",
        "    \"function untuk connect ke database\"\n",
        "    connection = sqlite3.connect(path)\n",
        "    return (connection)\n",
        "\n",
        "connection = create_connection(\"db_ng3.sqlite\")"
      ],
      "execution_count": 2,
      "outputs": []
    },
    {
      "cell_type": "code",
      "metadata": {
        "id": "Fgp8FwtTQ4GD"
      },
      "source": [
        "def execute_query(conn,query):\n",
        "    \"execute query NON SELECT\"\n",
        "    cur = conn.cursor()\n",
        "    cur.execute(query)\n",
        "    conn.commit()"
      ],
      "execution_count": 3,
      "outputs": []
    },
    {
      "cell_type": "code",
      "metadata": {
        "id": "Djm1HbKvQ967"
      },
      "source": [
        "def select_query(conn,query):\n",
        "    \"execute query SELECT\"\n",
        "    cur = conn.cursor()\n",
        "    cur.execute(query)\n",
        "    rows = cur.fetchall()\n",
        "    \n",
        "    for row in rows:\n",
        "        print(row)"
      ],
      "execution_count": 4,
      "outputs": []
    },
    {
      "cell_type": "markdown",
      "metadata": {
        "id": "SHJ7yqoN5UNq"
      },
      "source": [
        "#**STEP 2:**\n",
        "###Setelah berhasil membuat function langkah berikutnya adalah membuat table dengan perintah CREATE, disini ada 6 table yang akan dibuat sesuai dengan 6 data yang akan digunakan, berikut proses pembuatab table."
      ]
    },
    {
      "cell_type": "code",
      "metadata": {
        "id": "Cv5ryE7ISAlc"
      },
      "source": [
        "assessments_table='''\n",
        "CREATE TABLE assessments (\n",
        "    code_module varchar(25),\n",
        "    code_presentation varchar(25),\n",
        "    id_assessment INTEGER PRIMARY KEY,\n",
        "    assessment_type varchar(25),\n",
        "    date date,\n",
        "    weight float \n",
        ");\n",
        "'''\n",
        "\n",
        "execute_query(connection,assessments_table)"
      ],
      "execution_count": 5,
      "outputs": []
    },
    {
      "cell_type": "code",
      "metadata": {
        "id": "CIVjinPjSEMU"
      },
      "source": [
        "courses='''\n",
        "CREATE TABLE courses (\n",
        "    id_courses INTEGER PRIMARY KEY AUTOINCREMENT,\n",
        "    code_module varchar(25),\n",
        "    code_presentation varchar(25),\n",
        "    module_presentation_length INTEGER\n",
        ");\n",
        "'''\n",
        "\n",
        "execute_query(connection,courses)"
      ],
      "execution_count": 6,
      "outputs": []
    },
    {
      "cell_type": "code",
      "metadata": {
        "id": "Y6Q-G1zFSHia"
      },
      "source": [
        "vle='''\n",
        "CREATE TABLE vle (\n",
        "    id_site INTEGER PRIMARY KEY,\n",
        "    code_module varchar(25),\n",
        "    code_presentation varchar(25),\n",
        "    activity_type varchar(25),\n",
        "    week_from INTEGER,\n",
        "    week_to INTEGER \n",
        ");\n",
        "'''\n",
        "\n",
        "execute_query(connection,vle)"
      ],
      "execution_count": 7,
      "outputs": []
    },
    {
      "cell_type": "code",
      "metadata": {
        "id": "zQAwZSLPSK6u"
      },
      "source": [
        "student_info='''\n",
        "CREATE TABLE studentInfo (\n",
        "    code_module varchar(25),\n",
        "    code_presentation varchar(25),\n",
        "    id_student INTEGER PRIMARY KEY,\n",
        "    gender char(1),\n",
        "    region varchar(25),\n",
        "    highest_education varchar (25),\n",
        "    imd_band varchar(25),\n",
        "    age_band varchar(25),\n",
        "    num_of_prev_attempts INTEGER,\n",
        "    studied_credits INTEGER,\n",
        "    disability char(1),\n",
        "    final_result varchar(25)\n",
        ");\n",
        "'''\n",
        "\n",
        "execute_query(connection,student_info)"
      ],
      "execution_count": 8,
      "outputs": []
    },
    {
      "cell_type": "code",
      "metadata": {
        "id": "ASU9U6k1SVCh"
      },
      "source": [
        "student_regist='''\n",
        "CREATE TABLE studentRegistration (\n",
        "    code_module varchar(5),\n",
        "    code_presentation varchar(5),\n",
        "    id_student INTEGER,\n",
        "    date_registration INTEGER,\n",
        "    date_unregistration INTEGER,\n",
        "    FOREIGN KEY (id_student) \n",
        "      REFERENCES studentInfo (id_student)\n",
        ");\n",
        "'''"
      ],
      "execution_count": 9,
      "outputs": []
    },
    {
      "cell_type": "code",
      "metadata": {
        "id": "qRATxOXxSd_I"
      },
      "source": [
        "student_assessment='''\n",
        "CREATE TABLE studentAssesment (\n",
        "    id_assessment INTEGER,\n",
        "    id_student INTEGER PRIMARY KEY,\n",
        "    date_submitted INTEGER,\n",
        "    is_banked INTEGER,\n",
        "    score INTEGER,\n",
        "    FOREIGN KEY (id_assessment) REFERENCES assessments (id_assessment)\n",
        "    FOREIGN KEY (id_student) REFERENCES studentInfo (id_student)\n",
        ");\n",
        "'''\n",
        "\n",
        "execute_query(connection,student_assessment)"
      ],
      "execution_count": 10,
      "outputs": []
    },
    {
      "cell_type": "markdown",
      "metadata": {
        "id": "4cdyNrV-UIDv"
      },
      "source": [
        "#**STEP 3:**\n",
        "###Setelah berhasil membuat table langkah berikutnya adalah mengisi isi masing-masing table dengan perintah INSERT table, sebelum itu import file /data csv di local komputer ke dalam google collabs untuk diolah menjadi datafram pandas."
      ]
    },
    {
      "cell_type": "code",
      "metadata": {
        "colab": {
          "base_uri": "https://localhost:8080/",
          "height": 423
        },
        "id": "UiNb7XVPT_r6",
        "outputId": "c1d66eea-cd84-459a-d4d1-3a26bff30bbc"
      },
      "source": [
        "df_assessments = pd.read_csv(\"assessments.csv\")\n",
        "df_courses = pd.read_csv(\"courses.csv\")\n",
        "df_studentAssessment = pd.read_csv(\"studentAssessment.csv\")\n",
        "df_studentInfo = pd.read_csv(\"studentInfo.csv\")\n",
        "df_studentRegistration = pd.read_csv(\"studentRegistration.csv\")\n",
        "df_vle = pd.read_csv(r\"vle.csv\")\n",
        "\n",
        "df_assessments"
      ],
      "execution_count": 11,
      "outputs": [
        {
          "output_type": "execute_result",
          "data": {
            "text/html": [
              "<div>\n",
              "<style scoped>\n",
              "    .dataframe tbody tr th:only-of-type {\n",
              "        vertical-align: middle;\n",
              "    }\n",
              "\n",
              "    .dataframe tbody tr th {\n",
              "        vertical-align: top;\n",
              "    }\n",
              "\n",
              "    .dataframe thead th {\n",
              "        text-align: right;\n",
              "    }\n",
              "</style>\n",
              "<table border=\"1\" class=\"dataframe\">\n",
              "  <thead>\n",
              "    <tr style=\"text-align: right;\">\n",
              "      <th></th>\n",
              "      <th>code_module</th>\n",
              "      <th>code_presentation</th>\n",
              "      <th>id_assessment</th>\n",
              "      <th>assessment_type</th>\n",
              "      <th>date</th>\n",
              "      <th>weight</th>\n",
              "    </tr>\n",
              "  </thead>\n",
              "  <tbody>\n",
              "    <tr>\n",
              "      <th>0</th>\n",
              "      <td>AAA</td>\n",
              "      <td>2013J</td>\n",
              "      <td>1752</td>\n",
              "      <td>TMA</td>\n",
              "      <td>19.0</td>\n",
              "      <td>10.0</td>\n",
              "    </tr>\n",
              "    <tr>\n",
              "      <th>1</th>\n",
              "      <td>AAA</td>\n",
              "      <td>2013J</td>\n",
              "      <td>1753</td>\n",
              "      <td>TMA</td>\n",
              "      <td>54.0</td>\n",
              "      <td>20.0</td>\n",
              "    </tr>\n",
              "    <tr>\n",
              "      <th>2</th>\n",
              "      <td>AAA</td>\n",
              "      <td>2013J</td>\n",
              "      <td>1754</td>\n",
              "      <td>TMA</td>\n",
              "      <td>117.0</td>\n",
              "      <td>20.0</td>\n",
              "    </tr>\n",
              "    <tr>\n",
              "      <th>3</th>\n",
              "      <td>AAA</td>\n",
              "      <td>2013J</td>\n",
              "      <td>1755</td>\n",
              "      <td>TMA</td>\n",
              "      <td>166.0</td>\n",
              "      <td>20.0</td>\n",
              "    </tr>\n",
              "    <tr>\n",
              "      <th>4</th>\n",
              "      <td>AAA</td>\n",
              "      <td>2013J</td>\n",
              "      <td>1756</td>\n",
              "      <td>TMA</td>\n",
              "      <td>215.0</td>\n",
              "      <td>30.0</td>\n",
              "    </tr>\n",
              "    <tr>\n",
              "      <th>...</th>\n",
              "      <td>...</td>\n",
              "      <td>...</td>\n",
              "      <td>...</td>\n",
              "      <td>...</td>\n",
              "      <td>...</td>\n",
              "      <td>...</td>\n",
              "    </tr>\n",
              "    <tr>\n",
              "      <th>201</th>\n",
              "      <td>GGG</td>\n",
              "      <td>2014J</td>\n",
              "      <td>37443</td>\n",
              "      <td>CMA</td>\n",
              "      <td>229.0</td>\n",
              "      <td>0.0</td>\n",
              "    </tr>\n",
              "    <tr>\n",
              "      <th>202</th>\n",
              "      <td>GGG</td>\n",
              "      <td>2014J</td>\n",
              "      <td>37435</td>\n",
              "      <td>TMA</td>\n",
              "      <td>61.0</td>\n",
              "      <td>0.0</td>\n",
              "    </tr>\n",
              "    <tr>\n",
              "      <th>203</th>\n",
              "      <td>GGG</td>\n",
              "      <td>2014J</td>\n",
              "      <td>37436</td>\n",
              "      <td>TMA</td>\n",
              "      <td>124.0</td>\n",
              "      <td>0.0</td>\n",
              "    </tr>\n",
              "    <tr>\n",
              "      <th>204</th>\n",
              "      <td>GGG</td>\n",
              "      <td>2014J</td>\n",
              "      <td>37437</td>\n",
              "      <td>TMA</td>\n",
              "      <td>173.0</td>\n",
              "      <td>0.0</td>\n",
              "    </tr>\n",
              "    <tr>\n",
              "      <th>205</th>\n",
              "      <td>GGG</td>\n",
              "      <td>2014J</td>\n",
              "      <td>37444</td>\n",
              "      <td>Exam</td>\n",
              "      <td>229.0</td>\n",
              "      <td>100.0</td>\n",
              "    </tr>\n",
              "  </tbody>\n",
              "</table>\n",
              "<p>206 rows × 6 columns</p>\n",
              "</div>"
            ],
            "text/plain": [
              "    code_module code_presentation  id_assessment assessment_type   date  weight\n",
              "0           AAA             2013J           1752             TMA   19.0    10.0\n",
              "1           AAA             2013J           1753             TMA   54.0    20.0\n",
              "2           AAA             2013J           1754             TMA  117.0    20.0\n",
              "3           AAA             2013J           1755             TMA  166.0    20.0\n",
              "4           AAA             2013J           1756             TMA  215.0    30.0\n",
              "..          ...               ...            ...             ...    ...     ...\n",
              "201         GGG             2014J          37443             CMA  229.0     0.0\n",
              "202         GGG             2014J          37435             TMA   61.0     0.0\n",
              "203         GGG             2014J          37436             TMA  124.0     0.0\n",
              "204         GGG             2014J          37437             TMA  173.0     0.0\n",
              "205         GGG             2014J          37444            Exam  229.0   100.0\n",
              "\n",
              "[206 rows x 6 columns]"
            ]
          },
          "metadata": {},
          "execution_count": 11
        }
      ]
    },
    {
      "cell_type": "code",
      "metadata": {
        "colab": {
          "base_uri": "https://localhost:8080/",
          "height": 363
        },
        "id": "oVd5nkem8n2d",
        "outputId": "045d59a2-e874-4aa4-ee2d-2d5aff3723fb"
      },
      "source": [
        "df_assessments.head(10)"
      ],
      "execution_count": 12,
      "outputs": [
        {
          "output_type": "execute_result",
          "data": {
            "text/html": [
              "<div>\n",
              "<style scoped>\n",
              "    .dataframe tbody tr th:only-of-type {\n",
              "        vertical-align: middle;\n",
              "    }\n",
              "\n",
              "    .dataframe tbody tr th {\n",
              "        vertical-align: top;\n",
              "    }\n",
              "\n",
              "    .dataframe thead th {\n",
              "        text-align: right;\n",
              "    }\n",
              "</style>\n",
              "<table border=\"1\" class=\"dataframe\">\n",
              "  <thead>\n",
              "    <tr style=\"text-align: right;\">\n",
              "      <th></th>\n",
              "      <th>code_module</th>\n",
              "      <th>code_presentation</th>\n",
              "      <th>id_assessment</th>\n",
              "      <th>assessment_type</th>\n",
              "      <th>date</th>\n",
              "      <th>weight</th>\n",
              "    </tr>\n",
              "  </thead>\n",
              "  <tbody>\n",
              "    <tr>\n",
              "      <th>0</th>\n",
              "      <td>AAA</td>\n",
              "      <td>2013J</td>\n",
              "      <td>1752</td>\n",
              "      <td>TMA</td>\n",
              "      <td>19.0</td>\n",
              "      <td>10.0</td>\n",
              "    </tr>\n",
              "    <tr>\n",
              "      <th>1</th>\n",
              "      <td>AAA</td>\n",
              "      <td>2013J</td>\n",
              "      <td>1753</td>\n",
              "      <td>TMA</td>\n",
              "      <td>54.0</td>\n",
              "      <td>20.0</td>\n",
              "    </tr>\n",
              "    <tr>\n",
              "      <th>2</th>\n",
              "      <td>AAA</td>\n",
              "      <td>2013J</td>\n",
              "      <td>1754</td>\n",
              "      <td>TMA</td>\n",
              "      <td>117.0</td>\n",
              "      <td>20.0</td>\n",
              "    </tr>\n",
              "    <tr>\n",
              "      <th>3</th>\n",
              "      <td>AAA</td>\n",
              "      <td>2013J</td>\n",
              "      <td>1755</td>\n",
              "      <td>TMA</td>\n",
              "      <td>166.0</td>\n",
              "      <td>20.0</td>\n",
              "    </tr>\n",
              "    <tr>\n",
              "      <th>4</th>\n",
              "      <td>AAA</td>\n",
              "      <td>2013J</td>\n",
              "      <td>1756</td>\n",
              "      <td>TMA</td>\n",
              "      <td>215.0</td>\n",
              "      <td>30.0</td>\n",
              "    </tr>\n",
              "    <tr>\n",
              "      <th>5</th>\n",
              "      <td>AAA</td>\n",
              "      <td>2013J</td>\n",
              "      <td>1757</td>\n",
              "      <td>Exam</td>\n",
              "      <td>NaN</td>\n",
              "      <td>100.0</td>\n",
              "    </tr>\n",
              "    <tr>\n",
              "      <th>6</th>\n",
              "      <td>AAA</td>\n",
              "      <td>2014J</td>\n",
              "      <td>1758</td>\n",
              "      <td>TMA</td>\n",
              "      <td>19.0</td>\n",
              "      <td>10.0</td>\n",
              "    </tr>\n",
              "    <tr>\n",
              "      <th>7</th>\n",
              "      <td>AAA</td>\n",
              "      <td>2014J</td>\n",
              "      <td>1759</td>\n",
              "      <td>TMA</td>\n",
              "      <td>54.0</td>\n",
              "      <td>20.0</td>\n",
              "    </tr>\n",
              "    <tr>\n",
              "      <th>8</th>\n",
              "      <td>AAA</td>\n",
              "      <td>2014J</td>\n",
              "      <td>1760</td>\n",
              "      <td>TMA</td>\n",
              "      <td>117.0</td>\n",
              "      <td>20.0</td>\n",
              "    </tr>\n",
              "    <tr>\n",
              "      <th>9</th>\n",
              "      <td>AAA</td>\n",
              "      <td>2014J</td>\n",
              "      <td>1761</td>\n",
              "      <td>TMA</td>\n",
              "      <td>166.0</td>\n",
              "      <td>20.0</td>\n",
              "    </tr>\n",
              "  </tbody>\n",
              "</table>\n",
              "</div>"
            ],
            "text/plain": [
              "  code_module code_presentation  id_assessment assessment_type   date  weight\n",
              "0         AAA             2013J           1752             TMA   19.0    10.0\n",
              "1         AAA             2013J           1753             TMA   54.0    20.0\n",
              "2         AAA             2013J           1754             TMA  117.0    20.0\n",
              "3         AAA             2013J           1755             TMA  166.0    20.0\n",
              "4         AAA             2013J           1756             TMA  215.0    30.0\n",
              "5         AAA             2013J           1757            Exam    NaN   100.0\n",
              "6         AAA             2014J           1758             TMA   19.0    10.0\n",
              "7         AAA             2014J           1759             TMA   54.0    20.0\n",
              "8         AAA             2014J           1760             TMA  117.0    20.0\n",
              "9         AAA             2014J           1761             TMA  166.0    20.0"
            ]
          },
          "metadata": {},
          "execution_count": 12
        }
      ]
    },
    {
      "cell_type": "code",
      "metadata": {
        "colab": {
          "base_uri": "https://localhost:8080/",
          "height": 363
        },
        "id": "KSIeik_y8uPB",
        "outputId": "5d59fab8-0aa8-4f8d-cd30-5fb28b040c6b"
      },
      "source": [
        "df_assessments.tail(10)"
      ],
      "execution_count": 13,
      "outputs": [
        {
          "output_type": "execute_result",
          "data": {
            "text/html": [
              "<div>\n",
              "<style scoped>\n",
              "    .dataframe tbody tr th:only-of-type {\n",
              "        vertical-align: middle;\n",
              "    }\n",
              "\n",
              "    .dataframe tbody tr th {\n",
              "        vertical-align: top;\n",
              "    }\n",
              "\n",
              "    .dataframe thead th {\n",
              "        text-align: right;\n",
              "    }\n",
              "</style>\n",
              "<table border=\"1\" class=\"dataframe\">\n",
              "  <thead>\n",
              "    <tr style=\"text-align: right;\">\n",
              "      <th></th>\n",
              "      <th>code_module</th>\n",
              "      <th>code_presentation</th>\n",
              "      <th>id_assessment</th>\n",
              "      <th>assessment_type</th>\n",
              "      <th>date</th>\n",
              "      <th>weight</th>\n",
              "    </tr>\n",
              "  </thead>\n",
              "  <tbody>\n",
              "    <tr>\n",
              "      <th>196</th>\n",
              "      <td>GGG</td>\n",
              "      <td>2014J</td>\n",
              "      <td>37438</td>\n",
              "      <td>CMA</td>\n",
              "      <td>229.0</td>\n",
              "      <td>0.0</td>\n",
              "    </tr>\n",
              "    <tr>\n",
              "      <th>197</th>\n",
              "      <td>GGG</td>\n",
              "      <td>2014J</td>\n",
              "      <td>37439</td>\n",
              "      <td>CMA</td>\n",
              "      <td>229.0</td>\n",
              "      <td>0.0</td>\n",
              "    </tr>\n",
              "    <tr>\n",
              "      <th>198</th>\n",
              "      <td>GGG</td>\n",
              "      <td>2014J</td>\n",
              "      <td>37440</td>\n",
              "      <td>CMA</td>\n",
              "      <td>229.0</td>\n",
              "      <td>0.0</td>\n",
              "    </tr>\n",
              "    <tr>\n",
              "      <th>199</th>\n",
              "      <td>GGG</td>\n",
              "      <td>2014J</td>\n",
              "      <td>37441</td>\n",
              "      <td>CMA</td>\n",
              "      <td>229.0</td>\n",
              "      <td>0.0</td>\n",
              "    </tr>\n",
              "    <tr>\n",
              "      <th>200</th>\n",
              "      <td>GGG</td>\n",
              "      <td>2014J</td>\n",
              "      <td>37442</td>\n",
              "      <td>CMA</td>\n",
              "      <td>229.0</td>\n",
              "      <td>0.0</td>\n",
              "    </tr>\n",
              "    <tr>\n",
              "      <th>201</th>\n",
              "      <td>GGG</td>\n",
              "      <td>2014J</td>\n",
              "      <td>37443</td>\n",
              "      <td>CMA</td>\n",
              "      <td>229.0</td>\n",
              "      <td>0.0</td>\n",
              "    </tr>\n",
              "    <tr>\n",
              "      <th>202</th>\n",
              "      <td>GGG</td>\n",
              "      <td>2014J</td>\n",
              "      <td>37435</td>\n",
              "      <td>TMA</td>\n",
              "      <td>61.0</td>\n",
              "      <td>0.0</td>\n",
              "    </tr>\n",
              "    <tr>\n",
              "      <th>203</th>\n",
              "      <td>GGG</td>\n",
              "      <td>2014J</td>\n",
              "      <td>37436</td>\n",
              "      <td>TMA</td>\n",
              "      <td>124.0</td>\n",
              "      <td>0.0</td>\n",
              "    </tr>\n",
              "    <tr>\n",
              "      <th>204</th>\n",
              "      <td>GGG</td>\n",
              "      <td>2014J</td>\n",
              "      <td>37437</td>\n",
              "      <td>TMA</td>\n",
              "      <td>173.0</td>\n",
              "      <td>0.0</td>\n",
              "    </tr>\n",
              "    <tr>\n",
              "      <th>205</th>\n",
              "      <td>GGG</td>\n",
              "      <td>2014J</td>\n",
              "      <td>37444</td>\n",
              "      <td>Exam</td>\n",
              "      <td>229.0</td>\n",
              "      <td>100.0</td>\n",
              "    </tr>\n",
              "  </tbody>\n",
              "</table>\n",
              "</div>"
            ],
            "text/plain": [
              "    code_module code_presentation  id_assessment assessment_type   date  weight\n",
              "196         GGG             2014J          37438             CMA  229.0     0.0\n",
              "197         GGG             2014J          37439             CMA  229.0     0.0\n",
              "198         GGG             2014J          37440             CMA  229.0     0.0\n",
              "199         GGG             2014J          37441             CMA  229.0     0.0\n",
              "200         GGG             2014J          37442             CMA  229.0     0.0\n",
              "201         GGG             2014J          37443             CMA  229.0     0.0\n",
              "202         GGG             2014J          37435             TMA   61.0     0.0\n",
              "203         GGG             2014J          37436             TMA  124.0     0.0\n",
              "204         GGG             2014J          37437             TMA  173.0     0.0\n",
              "205         GGG             2014J          37444            Exam  229.0   100.0"
            ]
          },
          "metadata": {},
          "execution_count": 13
        }
      ]
    },
    {
      "cell_type": "markdown",
      "metadata": {
        "id": "w_1jhHar815W"
      },
      "source": [
        "###Proses insert data"
      ]
    },
    {
      "cell_type": "code",
      "metadata": {
        "id": "_mm2Vb1XUp6W"
      },
      "source": [
        "for i in range(len(df_assessments)):\n",
        "    inputt='''\n",
        "    INSERT INTO assessments (code_module, code_presentation, id_assessment,\n",
        "    assessment_type, date, weight)\n",
        "    VALUES ('{}','{}',{},'{}',{},{})\n",
        "    '''.format(df_assessments['code_module'][i],df_assessments['code_presentation'][i],df_assessments['id_assessment'][i],\n",
        "              df_assessments['assessment_type'][i],df_assessments['date'][i],df_assessments['weight'][i])\n",
        "execute_query(connection,inputt)"
      ],
      "execution_count": 14,
      "outputs": []
    },
    {
      "cell_type": "code",
      "metadata": {
        "id": "ZPbjFozJVY08"
      },
      "source": [
        "a= 'SELECT * FROM vle'\n",
        "execute_query(connection,a)"
      ],
      "execution_count": 15,
      "outputs": []
    },
    {
      "cell_type": "code",
      "metadata": {
        "colab": {
          "base_uri": "https://localhost:8080/",
          "height": 81
        },
        "id": "aKhQMdm1VbUm",
        "outputId": "4e4704a8-bf34-4355-dc5a-bd893d272082"
      },
      "source": [
        "pd.read_sql_query('SELECT * FROM assessments',connection)"
      ],
      "execution_count": 16,
      "outputs": [
        {
          "output_type": "execute_result",
          "data": {
            "text/html": [
              "<div>\n",
              "<style scoped>\n",
              "    .dataframe tbody tr th:only-of-type {\n",
              "        vertical-align: middle;\n",
              "    }\n",
              "\n",
              "    .dataframe tbody tr th {\n",
              "        vertical-align: top;\n",
              "    }\n",
              "\n",
              "    .dataframe thead th {\n",
              "        text-align: right;\n",
              "    }\n",
              "</style>\n",
              "<table border=\"1\" class=\"dataframe\">\n",
              "  <thead>\n",
              "    <tr style=\"text-align: right;\">\n",
              "      <th></th>\n",
              "      <th>code_module</th>\n",
              "      <th>code_presentation</th>\n",
              "      <th>id_assessment</th>\n",
              "      <th>assessment_type</th>\n",
              "      <th>date</th>\n",
              "      <th>weight</th>\n",
              "    </tr>\n",
              "  </thead>\n",
              "  <tbody>\n",
              "    <tr>\n",
              "      <th>0</th>\n",
              "      <td>GGG</td>\n",
              "      <td>2014J</td>\n",
              "      <td>37444</td>\n",
              "      <td>Exam</td>\n",
              "      <td>229</td>\n",
              "      <td>100.0</td>\n",
              "    </tr>\n",
              "  </tbody>\n",
              "</table>\n",
              "</div>"
            ],
            "text/plain": [
              "  code_module code_presentation  id_assessment assessment_type  date  weight\n",
              "0         GGG             2014J          37444            Exam   229   100.0"
            ]
          },
          "metadata": {},
          "execution_count": 16
        }
      ]
    },
    {
      "cell_type": "code",
      "metadata": {
        "id": "NdfuxjTK9I05"
      },
      "source": [
        "Drop= 'DROP table assessments' #Drop Table\n",
        "execute_query(connection,Drop)"
      ],
      "execution_count": 17,
      "outputs": []
    }
  ]
}