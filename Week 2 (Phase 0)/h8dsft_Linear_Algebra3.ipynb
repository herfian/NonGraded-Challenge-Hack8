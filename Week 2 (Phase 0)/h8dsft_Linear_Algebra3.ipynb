{
  "nbformat": 4,
  "nbformat_minor": 0,
  "metadata": {
    "colab": {
      "name": "Tugas6.ipynb",
      "provenance": [],
      "collapsed_sections": []
    },
    "kernelspec": {
      "name": "python3",
      "display_name": "Python 3"
    },
    "language_info": {
      "name": "python"
    }
  },
  "cells": [
    {
      "cell_type": "markdown",
      "metadata": {
        "id": "N9ESOW4Ofmm9"
      },
      "source": [
        "##Non Graded Challenge 6\n",
        "\n",
        "By : Muhammad Rizki Herfian\n",
        "\n",
        "Materi : Eigendecomposition"
      ]
    },
    {
      "cell_type": "markdown",
      "metadata": {
        "id": "f40RvA_IfuhQ"
      },
      "source": [
        "##**Problem :**\n",
        "\n",
        "![Screenshot_28.png](data:image/png;base64,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)"
      ]
    },
    {
      "cell_type": "markdown",
      "metadata": {
        "id": "RnHIBsGsf_bR"
      },
      "source": [
        "##**Solution :**\n",
        "##Langkah-langkah penyelesaiannya adalah,\n",
        "\n",
        "##Pertama untuk mengetahui apakah vektor [1,3] merupakan eigenvektor dari matrix, caranya adalah dengan mengkalikan matrix dengan vektor kemudian hasilnya dibagi dengan vektor [1,3]."
      ]
    },
    {
      "cell_type": "code",
      "metadata": {
        "id": "IIvc4e7-gKRV"
      },
      "source": [
        "import numpy as np #Import Library yang dibutuhkan\n",
        "import sympy as sy"
      ],
      "execution_count": 35,
      "outputs": []
    },
    {
      "cell_type": "code",
      "metadata": {
        "id": "HWQUUi5mgtpU",
        "colab": {
          "base_uri": "https://localhost:8080/"
        },
        "outputId": "617cb2ad-a8dc-464c-eed9-375b3ed912a0"
      },
      "source": [
        "vektor=np.array([1,3])          #Membuat vektor\n",
        "matrix=np.array([[1,-1],\n",
        "                 [6,4]]) #Membuat matrix\n",
        "print(vektor)\n",
        "print(\"-------\")\n",
        "print(matrix)"
      ],
      "execution_count": 36,
      "outputs": [
        {
          "output_type": "stream",
          "name": "stdout",
          "text": [
            "[1 3]\n",
            "-------\n",
            "[[ 1 -1]\n",
            " [ 6  4]]\n"
          ]
        }
      ]
    },
    {
      "cell_type": "code",
      "metadata": {
        "colab": {
          "base_uri": "https://localhost:8080/"
        },
        "id": "8NcSiKJ1Q2hT",
        "outputId": "0ac64332-fd64-4b48-cbee-ad003c407a9c"
      },
      "source": [
        "dot=matrix@vektor #Perkalian Matrix dengan Vektor\n",
        "dot"
      ],
      "execution_count": 37,
      "outputs": [
        {
          "output_type": "execute_result",
          "data": {
            "text/plain": [
              "array([-2, 18])"
            ]
          },
          "metadata": {},
          "execution_count": 37
        }
      ]
    },
    {
      "cell_type": "markdown",
      "metadata": {
        "id": "CmfVNPpzhafC"
      },
      "source": [
        "##Kemudian hasil dari perkalian dibagi dengan vektor, lalu disederhanakan sampai mendapatkan nilai yang sesuai."
      ]
    },
    {
      "cell_type": "code",
      "metadata": {
        "colab": {
          "base_uri": "https://localhost:8080/"
        },
        "id": "6xCaP2_XQ-fs",
        "outputId": "0de7c619-d91d-4590-8a35-b0a293e00278"
      },
      "source": [
        "eql = dot/vektor \n",
        "eql"
      ],
      "execution_count": 38,
      "outputs": [
        {
          "output_type": "execute_result",
          "data": {
            "text/plain": [
              "array([-2.,  6.])"
            ]
          },
          "metadata": {},
          "execution_count": 38
        }
      ]
    },
    {
      "cell_type": "code",
      "metadata": {
        "colab": {
          "base_uri": "https://localhost:8080/"
        },
        "id": "G9ACgfsjRVz0",
        "outputId": "c1970e5f-504f-4b1b-a9e5-324af27c6a24"
      },
      "source": [
        "eql / 1/2"
      ],
      "execution_count": 39,
      "outputs": [
        {
          "output_type": "execute_result",
          "data": {
            "text/plain": [
              "array([-1.,  3.])"
            ]
          },
          "metadata": {},
          "execution_count": 39
        }
      ]
    },
    {
      "cell_type": "markdown",
      "metadata": {
        "id": "lUtaMwnahurR"
      },
      "source": [
        "##Langkah berikutnya adalah mencari nilai eigenvaluenya, dengan menggunakan perintah seperti dibawah ini."
      ]
    },
    {
      "cell_type": "code",
      "metadata": {
        "colab": {
          "base_uri": "https://localhost:8080/"
        },
        "id": "-ErlNRwYMeVN",
        "outputId": "e018017b-307a-4b72-a374-0315b5cff572"
      },
      "source": [
        "eigVal_matrix,eigVec_matrix=np.linalg.eig(matrix)"
      ],
      "execution_count": 41,
      "outputs": [
        {
          "output_type": "execute_result",
          "data": {
            "text/plain": [
              "array([[-0.23145502+0.29880715j, -0.23145502-0.29880715j],\n",
              "       [ 0.9258201 +0.j        ,  0.9258201 -0.j        ]])"
            ]
          },
          "metadata": {},
          "execution_count": 41
        }
      ]
    },
    {
      "cell_type": "code",
      "metadata": {
        "colab": {
          "base_uri": "https://localhost:8080/"
        },
        "id": "cvGUNxf3L7Ya",
        "outputId": "fc2bc46f-345a-49f0-9924-fde2d9b8a285"
      },
      "source": [
        "eigVal_matrix"
      ],
      "execution_count": 42,
      "outputs": [
        {
          "output_type": "execute_result",
          "data": {
            "text/plain": [
              "array([2.5+1.93649167j, 2.5-1.93649167j])"
            ]
          },
          "metadata": {},
          "execution_count": 42
        }
      ]
    },
    {
      "cell_type": "code",
      "metadata": {
        "colab": {
          "base_uri": "https://localhost:8080/"
        },
        "id": "QKbr5C0_NLn9",
        "outputId": "f3d120ef-13f2-46fa-9e78-c6a6f6e8017b"
      },
      "source": [
        "eigVec_matrix"
      ],
      "execution_count": 43,
      "outputs": [
        {
          "output_type": "execute_result",
          "data": {
            "text/plain": [
              "array([[-0.23145502+0.29880715j, -0.23145502-0.29880715j],\n",
              "       [ 0.9258201 +0.j        ,  0.9258201 -0.j        ]])"
            ]
          },
          "metadata": {},
          "execution_count": 43
        }
      ]
    },
    {
      "cell_type": "markdown",
      "metadata": {
        "id": "Vz3dF7NlNUZ9"
      },
      "source": [
        "##**Kesimpulan :**\n",
        "##Eigen vektor dari matrix adalah [-1,3] yang mana mendekati [1,3] dan untuk eigen value dari matrix adalah ([2.5+1.93649167j, 2.5-1.93649167j])"
      ]
    }
  ]
}