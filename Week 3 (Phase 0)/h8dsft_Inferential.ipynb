{
  "nbformat": 4,
  "nbformat_minor": 0,
  "metadata": {
    "colab": {
      "name": "Tugas12.ipynb",
      "provenance": [],
      "collapsed_sections": []
    },
    "kernelspec": {
      "name": "python3",
      "display_name": "Python 3"
    },
    "language_info": {
      "name": "python"
    }
  },
  "cells": [
    {
      "cell_type": "markdown",
      "metadata": {
        "id": "OBhVmh2q1NsE"
      },
      "source": [
        "##**Non Graded Challenge 12**\n",
        "\n",
        "By : Muhammad Rizki Herfian\n",
        "\n",
        "Materi : Inferential Statistics"
      ]
    },
    {
      "cell_type": "markdown",
      "metadata": {
        "id": "MR9yIZWt1QiY"
      },
      "source": [
        "##**Problems :**\n",
        "Dengan menggunakan data covid_19_indonesia_time_series_all.csv maka tentukanlah :\n",
        "*   Lakukan hypothesis testing terhadap dataset diatas.\n",
        "*   Ambil kesimpulan dari hasil analisa.\n"
      ]
    },
    {
      "cell_type": "markdown",
      "metadata": {
        "id": "rpLldI9t1WDf"
      },
      "source": [
        "Pertama import library yang dibutuhkan, disini ada 4 library yang akan digunakan."
      ]
    },
    {
      "cell_type": "code",
      "metadata": {
        "id": "Fxc9OQ-qJNIw"
      },
      "source": [
        "import pandas as pd\n",
        "import numpy as np\n",
        "import matplotlib.pyplot as plt\n",
        "from scipy import stats"
      ],
      "execution_count": 1,
      "outputs": []
    },
    {
      "cell_type": "markdown",
      "metadata": {
        "id": "WhukzV3c1btn"
      },
      "source": [
        "Karena data yang digunakan sama seperti data project sebelumnnya (Non Graded 11) maka data yang sudah bersihkan sebelumnya akan digunakan kembali ke dalam project pengerjaan project ini."
      ]
    },
    {
      "cell_type": "code",
      "metadata": {
        "id": "5rZiz6HaJUzi"
      },
      "source": [
        "data = pd.read_csv('CovidClean.csv')"
      ],
      "execution_count": 2,
      "outputs": []
    },
    {
      "cell_type": "code",
      "metadata": {
        "colab": {
          "base_uri": "https://localhost:8080/",
          "height": 851
        },
        "id": "oewZoBhSJfxC",
        "outputId": "abf82f01-337c-447a-f179-7f42981c2f8e"
      },
      "source": [
        "data.head(15)"
      ],
      "execution_count": 3,
      "outputs": [
        {
          "output_type": "execute_result",
          "data": {
            "text/html": [
              "<div>\n",
              "<style scoped>\n",
              "    .dataframe tbody tr th:only-of-type {\n",
              "        vertical-align: middle;\n",
              "    }\n",
              "\n",
              "    .dataframe tbody tr th {\n",
              "        vertical-align: top;\n",
              "    }\n",
              "\n",
              "    .dataframe thead th {\n",
              "        text-align: right;\n",
              "    }\n",
              "</style>\n",
              "<table border=\"1\" class=\"dataframe\">\n",
              "  <thead>\n",
              "    <tr style=\"text-align: right;\">\n",
              "      <th></th>\n",
              "      <th>Unnamed: 0</th>\n",
              "      <th>Date</th>\n",
              "      <th>Location ISO Code</th>\n",
              "      <th>Location</th>\n",
              "      <th>New Cases</th>\n",
              "      <th>New Deaths</th>\n",
              "      <th>New Recovered</th>\n",
              "      <th>New Active Cases</th>\n",
              "      <th>Total Cases</th>\n",
              "      <th>Total Deaths</th>\n",
              "      <th>Total Recovered</th>\n",
              "      <th>Total Active Cases</th>\n",
              "      <th>Location Level</th>\n",
              "      <th>Province</th>\n",
              "      <th>Country</th>\n",
              "      <th>Continent</th>\n",
              "      <th>Island</th>\n",
              "      <th>Time Zone</th>\n",
              "      <th>Special Status</th>\n",
              "      <th>Total Regencies</th>\n",
              "      <th>Total Cities</th>\n",
              "      <th>Total Districts</th>\n",
              "      <th>Total Urban Villages</th>\n",
              "      <th>Total Rural Villages</th>\n",
              "      <th>Area (km2)</th>\n",
              "      <th>Population</th>\n",
              "      <th>Population Density</th>\n",
              "      <th>Longitude</th>\n",
              "      <th>Latitude</th>\n",
              "      <th>New Cases per Million</th>\n",
              "      <th>Total Cases per Million</th>\n",
              "      <th>New Deaths per Million</th>\n",
              "      <th>Total Deaths per Million</th>\n",
              "      <th>Case Fatality Rate</th>\n",
              "      <th>Case Recovered Rate</th>\n",
              "      <th>Growth Factor of New Cases</th>\n",
              "      <th>Growth Factor of New Deaths</th>\n",
              "    </tr>\n",
              "  </thead>\n",
              "  <tbody>\n",
              "    <tr>\n",
              "      <th>0</th>\n",
              "      <td>0</td>\n",
              "      <td>1/8/2020</td>\n",
              "      <td>ID-JI</td>\n",
              "      <td>Jawa Timur</td>\n",
              "      <td>9</td>\n",
              "      <td>3</td>\n",
              "      <td>1</td>\n",
              "      <td>5</td>\n",
              "      <td>9</td>\n",
              "      <td>5</td>\n",
              "      <td>10</td>\n",
              "      <td>-6</td>\n",
              "      <td>Province</td>\n",
              "      <td>Jawa Timur</td>\n",
              "      <td>Indonesia</td>\n",
              "      <td>Asia</td>\n",
              "      <td>Jawa</td>\n",
              "      <td>UTC+07:00</td>\n",
              "      <td>Daerah Biasa</td>\n",
              "      <td>29</td>\n",
              "      <td>9.0</td>\n",
              "      <td>666</td>\n",
              "      <td>777.0</td>\n",
              "      <td>7724.0</td>\n",
              "      <td>47803</td>\n",
              "      <td>40479023</td>\n",
              "      <td>846.78</td>\n",
              "      <td>112.732941</td>\n",
              "      <td>-7.723346</td>\n",
              "      <td>0.22</td>\n",
              "      <td>0.22</td>\n",
              "      <td>0.07</td>\n",
              "      <td>0.12</td>\n",
              "      <td>55.56%</td>\n",
              "      <td>111.11%</td>\n",
              "      <td>0.0</td>\n",
              "      <td>0.00</td>\n",
              "    </tr>\n",
              "    <tr>\n",
              "      <th>1</th>\n",
              "      <td>1</td>\n",
              "      <td>1/9/2020</td>\n",
              "      <td>ID-JI</td>\n",
              "      <td>Jawa Timur</td>\n",
              "      <td>0</td>\n",
              "      <td>1</td>\n",
              "      <td>23</td>\n",
              "      <td>-24</td>\n",
              "      <td>9</td>\n",
              "      <td>6</td>\n",
              "      <td>33</td>\n",
              "      <td>-30</td>\n",
              "      <td>Province</td>\n",
              "      <td>Jawa Timur</td>\n",
              "      <td>Indonesia</td>\n",
              "      <td>Asia</td>\n",
              "      <td>Jawa</td>\n",
              "      <td>UTC+07:00</td>\n",
              "      <td>Daerah Biasa</td>\n",
              "      <td>29</td>\n",
              "      <td>9.0</td>\n",
              "      <td>666</td>\n",
              "      <td>777.0</td>\n",
              "      <td>7724.0</td>\n",
              "      <td>47803</td>\n",
              "      <td>40479023</td>\n",
              "      <td>846.78</td>\n",
              "      <td>112.732941</td>\n",
              "      <td>-7.723346</td>\n",
              "      <td>0.00</td>\n",
              "      <td>0.22</td>\n",
              "      <td>0.02</td>\n",
              "      <td>0.15</td>\n",
              "      <td>66.67%</td>\n",
              "      <td>366.67%</td>\n",
              "      <td>0.0</td>\n",
              "      <td>0.33</td>\n",
              "    </tr>\n",
              "    <tr>\n",
              "      <th>2</th>\n",
              "      <td>2</td>\n",
              "      <td>1/10/2020</td>\n",
              "      <td>ID-JI</td>\n",
              "      <td>Jawa Timur</td>\n",
              "      <td>0</td>\n",
              "      <td>1</td>\n",
              "      <td>14</td>\n",
              "      <td>-15</td>\n",
              "      <td>9</td>\n",
              "      <td>7</td>\n",
              "      <td>47</td>\n",
              "      <td>-45</td>\n",
              "      <td>Province</td>\n",
              "      <td>Jawa Timur</td>\n",
              "      <td>Indonesia</td>\n",
              "      <td>Asia</td>\n",
              "      <td>Jawa</td>\n",
              "      <td>UTC+07:00</td>\n",
              "      <td>Daerah Biasa</td>\n",
              "      <td>29</td>\n",
              "      <td>9.0</td>\n",
              "      <td>666</td>\n",
              "      <td>777.0</td>\n",
              "      <td>7724.0</td>\n",
              "      <td>47803</td>\n",
              "      <td>40479023</td>\n",
              "      <td>846.78</td>\n",
              "      <td>112.732941</td>\n",
              "      <td>-7.723346</td>\n",
              "      <td>0.00</td>\n",
              "      <td>0.22</td>\n",
              "      <td>0.02</td>\n",
              "      <td>0.17</td>\n",
              "      <td>77.78%</td>\n",
              "      <td>522.22%</td>\n",
              "      <td>1.0</td>\n",
              "      <td>1.00</td>\n",
              "    </tr>\n",
              "    <tr>\n",
              "      <th>3</th>\n",
              "      <td>3</td>\n",
              "      <td>1/11/2020</td>\n",
              "      <td>ID-JI</td>\n",
              "      <td>Jawa Timur</td>\n",
              "      <td>0</td>\n",
              "      <td>3</td>\n",
              "      <td>8</td>\n",
              "      <td>-11</td>\n",
              "      <td>9</td>\n",
              "      <td>10</td>\n",
              "      <td>55</td>\n",
              "      <td>-56</td>\n",
              "      <td>Province</td>\n",
              "      <td>Jawa Timur</td>\n",
              "      <td>Indonesia</td>\n",
              "      <td>Asia</td>\n",
              "      <td>Jawa</td>\n",
              "      <td>UTC+07:00</td>\n",
              "      <td>Daerah Biasa</td>\n",
              "      <td>29</td>\n",
              "      <td>9.0</td>\n",
              "      <td>666</td>\n",
              "      <td>777.0</td>\n",
              "      <td>7724.0</td>\n",
              "      <td>47803</td>\n",
              "      <td>40479023</td>\n",
              "      <td>846.78</td>\n",
              "      <td>112.732941</td>\n",
              "      <td>-7.723346</td>\n",
              "      <td>0.00</td>\n",
              "      <td>0.22</td>\n",
              "      <td>0.07</td>\n",
              "      <td>0.25</td>\n",
              "      <td>111.11%</td>\n",
              "      <td>611.11%</td>\n",
              "      <td>1.0</td>\n",
              "      <td>3.00</td>\n",
              "    </tr>\n",
              "    <tr>\n",
              "      <th>4</th>\n",
              "      <td>4</td>\n",
              "      <td>1/12/2020</td>\n",
              "      <td>ID-JI</td>\n",
              "      <td>Jawa Timur</td>\n",
              "      <td>0</td>\n",
              "      <td>3</td>\n",
              "      <td>1</td>\n",
              "      <td>-4</td>\n",
              "      <td>9</td>\n",
              "      <td>13</td>\n",
              "      <td>56</td>\n",
              "      <td>-60</td>\n",
              "      <td>Province</td>\n",
              "      <td>Jawa Timur</td>\n",
              "      <td>Indonesia</td>\n",
              "      <td>Asia</td>\n",
              "      <td>Jawa</td>\n",
              "      <td>UTC+07:00</td>\n",
              "      <td>Daerah Biasa</td>\n",
              "      <td>29</td>\n",
              "      <td>9.0</td>\n",
              "      <td>666</td>\n",
              "      <td>777.0</td>\n",
              "      <td>7724.0</td>\n",
              "      <td>47803</td>\n",
              "      <td>40479023</td>\n",
              "      <td>846.78</td>\n",
              "      <td>112.732941</td>\n",
              "      <td>-7.723346</td>\n",
              "      <td>0.00</td>\n",
              "      <td>0.22</td>\n",
              "      <td>0.07</td>\n",
              "      <td>0.32</td>\n",
              "      <td>144.44%</td>\n",
              "      <td>622.22%</td>\n",
              "      <td>1.0</td>\n",
              "      <td>1.00</td>\n",
              "    </tr>\n",
              "    <tr>\n",
              "      <th>5</th>\n",
              "      <td>5</td>\n",
              "      <td>1/13/2020</td>\n",
              "      <td>ID-JI</td>\n",
              "      <td>Jawa Timur</td>\n",
              "      <td>0</td>\n",
              "      <td>0</td>\n",
              "      <td>0</td>\n",
              "      <td>0</td>\n",
              "      <td>9</td>\n",
              "      <td>13</td>\n",
              "      <td>56</td>\n",
              "      <td>-60</td>\n",
              "      <td>Province</td>\n",
              "      <td>Jawa Timur</td>\n",
              "      <td>Indonesia</td>\n",
              "      <td>Asia</td>\n",
              "      <td>Jawa</td>\n",
              "      <td>UTC+07:00</td>\n",
              "      <td>Daerah Biasa</td>\n",
              "      <td>29</td>\n",
              "      <td>9.0</td>\n",
              "      <td>666</td>\n",
              "      <td>777.0</td>\n",
              "      <td>7724.0</td>\n",
              "      <td>47803</td>\n",
              "      <td>40479023</td>\n",
              "      <td>846.78</td>\n",
              "      <td>112.732941</td>\n",
              "      <td>-7.723346</td>\n",
              "      <td>0.00</td>\n",
              "      <td>0.22</td>\n",
              "      <td>0.00</td>\n",
              "      <td>0.32</td>\n",
              "      <td>144.44%</td>\n",
              "      <td>622.22%</td>\n",
              "      <td>1.0</td>\n",
              "      <td>0.00</td>\n",
              "    </tr>\n",
              "    <tr>\n",
              "      <th>6</th>\n",
              "      <td>6</td>\n",
              "      <td>1/14/2020</td>\n",
              "      <td>ID-JI</td>\n",
              "      <td>Jawa Timur</td>\n",
              "      <td>0</td>\n",
              "      <td>0</td>\n",
              "      <td>0</td>\n",
              "      <td>0</td>\n",
              "      <td>9</td>\n",
              "      <td>13</td>\n",
              "      <td>56</td>\n",
              "      <td>-60</td>\n",
              "      <td>Province</td>\n",
              "      <td>Jawa Timur</td>\n",
              "      <td>Indonesia</td>\n",
              "      <td>Asia</td>\n",
              "      <td>Jawa</td>\n",
              "      <td>UTC+07:00</td>\n",
              "      <td>Daerah Biasa</td>\n",
              "      <td>29</td>\n",
              "      <td>9.0</td>\n",
              "      <td>666</td>\n",
              "      <td>777.0</td>\n",
              "      <td>7724.0</td>\n",
              "      <td>47803</td>\n",
              "      <td>40479023</td>\n",
              "      <td>846.78</td>\n",
              "      <td>112.732941</td>\n",
              "      <td>-7.723346</td>\n",
              "      <td>0.00</td>\n",
              "      <td>0.22</td>\n",
              "      <td>0.00</td>\n",
              "      <td>0.32</td>\n",
              "      <td>144.44%</td>\n",
              "      <td>622.22%</td>\n",
              "      <td>1.0</td>\n",
              "      <td>1.00</td>\n",
              "    </tr>\n",
              "    <tr>\n",
              "      <th>7</th>\n",
              "      <td>7</td>\n",
              "      <td>1/15/2020</td>\n",
              "      <td>ID-JI</td>\n",
              "      <td>Jawa Timur</td>\n",
              "      <td>0</td>\n",
              "      <td>0</td>\n",
              "      <td>0</td>\n",
              "      <td>0</td>\n",
              "      <td>9</td>\n",
              "      <td>13</td>\n",
              "      <td>56</td>\n",
              "      <td>-60</td>\n",
              "      <td>Province</td>\n",
              "      <td>Jawa Timur</td>\n",
              "      <td>Indonesia</td>\n",
              "      <td>Asia</td>\n",
              "      <td>Jawa</td>\n",
              "      <td>UTC+07:00</td>\n",
              "      <td>Daerah Biasa</td>\n",
              "      <td>29</td>\n",
              "      <td>9.0</td>\n",
              "      <td>666</td>\n",
              "      <td>777.0</td>\n",
              "      <td>7724.0</td>\n",
              "      <td>47803</td>\n",
              "      <td>40479023</td>\n",
              "      <td>846.78</td>\n",
              "      <td>112.732941</td>\n",
              "      <td>-7.723346</td>\n",
              "      <td>0.00</td>\n",
              "      <td>0.22</td>\n",
              "      <td>0.00</td>\n",
              "      <td>0.32</td>\n",
              "      <td>144.44%</td>\n",
              "      <td>622.22%</td>\n",
              "      <td>1.0</td>\n",
              "      <td>1.00</td>\n",
              "    </tr>\n",
              "    <tr>\n",
              "      <th>8</th>\n",
              "      <td>8</td>\n",
              "      <td>1/16/2020</td>\n",
              "      <td>ID-JI</td>\n",
              "      <td>Jawa Timur</td>\n",
              "      <td>0</td>\n",
              "      <td>0</td>\n",
              "      <td>0</td>\n",
              "      <td>0</td>\n",
              "      <td>9</td>\n",
              "      <td>13</td>\n",
              "      <td>56</td>\n",
              "      <td>-60</td>\n",
              "      <td>Province</td>\n",
              "      <td>Jawa Timur</td>\n",
              "      <td>Indonesia</td>\n",
              "      <td>Asia</td>\n",
              "      <td>Jawa</td>\n",
              "      <td>UTC+07:00</td>\n",
              "      <td>Daerah Biasa</td>\n",
              "      <td>29</td>\n",
              "      <td>9.0</td>\n",
              "      <td>666</td>\n",
              "      <td>777.0</td>\n",
              "      <td>7724.0</td>\n",
              "      <td>47803</td>\n",
              "      <td>40479023</td>\n",
              "      <td>846.78</td>\n",
              "      <td>112.732941</td>\n",
              "      <td>-7.723346</td>\n",
              "      <td>0.00</td>\n",
              "      <td>0.22</td>\n",
              "      <td>0.00</td>\n",
              "      <td>0.32</td>\n",
              "      <td>144.44%</td>\n",
              "      <td>622.22%</td>\n",
              "      <td>1.0</td>\n",
              "      <td>1.00</td>\n",
              "    </tr>\n",
              "    <tr>\n",
              "      <th>9</th>\n",
              "      <td>9</td>\n",
              "      <td>1/17/2020</td>\n",
              "      <td>ID-JI</td>\n",
              "      <td>Jawa Timur</td>\n",
              "      <td>0</td>\n",
              "      <td>0</td>\n",
              "      <td>4</td>\n",
              "      <td>-4</td>\n",
              "      <td>9</td>\n",
              "      <td>13</td>\n",
              "      <td>60</td>\n",
              "      <td>-64</td>\n",
              "      <td>Province</td>\n",
              "      <td>Jawa Timur</td>\n",
              "      <td>Indonesia</td>\n",
              "      <td>Asia</td>\n",
              "      <td>Jawa</td>\n",
              "      <td>UTC+07:00</td>\n",
              "      <td>Daerah Biasa</td>\n",
              "      <td>29</td>\n",
              "      <td>9.0</td>\n",
              "      <td>666</td>\n",
              "      <td>777.0</td>\n",
              "      <td>7724.0</td>\n",
              "      <td>47803</td>\n",
              "      <td>40479023</td>\n",
              "      <td>846.78</td>\n",
              "      <td>112.732941</td>\n",
              "      <td>-7.723346</td>\n",
              "      <td>0.00</td>\n",
              "      <td>0.22</td>\n",
              "      <td>0.00</td>\n",
              "      <td>0.32</td>\n",
              "      <td>144.44%</td>\n",
              "      <td>666.67%</td>\n",
              "      <td>1.0</td>\n",
              "      <td>1.00</td>\n",
              "    </tr>\n",
              "    <tr>\n",
              "      <th>10</th>\n",
              "      <td>10</td>\n",
              "      <td>1/18/2020</td>\n",
              "      <td>ID-JI</td>\n",
              "      <td>Jawa Timur</td>\n",
              "      <td>0</td>\n",
              "      <td>0</td>\n",
              "      <td>8</td>\n",
              "      <td>-8</td>\n",
              "      <td>9</td>\n",
              "      <td>13</td>\n",
              "      <td>68</td>\n",
              "      <td>-72</td>\n",
              "      <td>Province</td>\n",
              "      <td>Jawa Timur</td>\n",
              "      <td>Indonesia</td>\n",
              "      <td>Asia</td>\n",
              "      <td>Jawa</td>\n",
              "      <td>UTC+07:00</td>\n",
              "      <td>Daerah Biasa</td>\n",
              "      <td>29</td>\n",
              "      <td>9.0</td>\n",
              "      <td>666</td>\n",
              "      <td>777.0</td>\n",
              "      <td>7724.0</td>\n",
              "      <td>47803</td>\n",
              "      <td>40479023</td>\n",
              "      <td>846.78</td>\n",
              "      <td>112.732941</td>\n",
              "      <td>-7.723346</td>\n",
              "      <td>0.00</td>\n",
              "      <td>0.22</td>\n",
              "      <td>0.00</td>\n",
              "      <td>0.32</td>\n",
              "      <td>144.44%</td>\n",
              "      <td>755.56%</td>\n",
              "      <td>1.0</td>\n",
              "      <td>1.00</td>\n",
              "    </tr>\n",
              "    <tr>\n",
              "      <th>11</th>\n",
              "      <td>11</td>\n",
              "      <td>1/19/2020</td>\n",
              "      <td>ID-JI</td>\n",
              "      <td>Jawa Timur</td>\n",
              "      <td>0</td>\n",
              "      <td>0</td>\n",
              "      <td>0</td>\n",
              "      <td>0</td>\n",
              "      <td>9</td>\n",
              "      <td>13</td>\n",
              "      <td>68</td>\n",
              "      <td>-72</td>\n",
              "      <td>Province</td>\n",
              "      <td>Jawa Timur</td>\n",
              "      <td>Indonesia</td>\n",
              "      <td>Asia</td>\n",
              "      <td>Jawa</td>\n",
              "      <td>UTC+07:00</td>\n",
              "      <td>Daerah Biasa</td>\n",
              "      <td>29</td>\n",
              "      <td>9.0</td>\n",
              "      <td>666</td>\n",
              "      <td>777.0</td>\n",
              "      <td>7724.0</td>\n",
              "      <td>47803</td>\n",
              "      <td>40479023</td>\n",
              "      <td>846.78</td>\n",
              "      <td>112.732941</td>\n",
              "      <td>-7.723346</td>\n",
              "      <td>0.00</td>\n",
              "      <td>0.22</td>\n",
              "      <td>0.00</td>\n",
              "      <td>0.32</td>\n",
              "      <td>144.44%</td>\n",
              "      <td>755.56%</td>\n",
              "      <td>1.0</td>\n",
              "      <td>1.00</td>\n",
              "    </tr>\n",
              "    <tr>\n",
              "      <th>12</th>\n",
              "      <td>12</td>\n",
              "      <td>1/20/2020</td>\n",
              "      <td>ID-JI</td>\n",
              "      <td>Jawa Timur</td>\n",
              "      <td>0</td>\n",
              "      <td>0</td>\n",
              "      <td>0</td>\n",
              "      <td>0</td>\n",
              "      <td>9</td>\n",
              "      <td>13</td>\n",
              "      <td>68</td>\n",
              "      <td>-72</td>\n",
              "      <td>Province</td>\n",
              "      <td>Jawa Timur</td>\n",
              "      <td>Indonesia</td>\n",
              "      <td>Asia</td>\n",
              "      <td>Jawa</td>\n",
              "      <td>UTC+07:00</td>\n",
              "      <td>Daerah Biasa</td>\n",
              "      <td>29</td>\n",
              "      <td>9.0</td>\n",
              "      <td>666</td>\n",
              "      <td>777.0</td>\n",
              "      <td>7724.0</td>\n",
              "      <td>47803</td>\n",
              "      <td>40479023</td>\n",
              "      <td>846.78</td>\n",
              "      <td>112.732941</td>\n",
              "      <td>-7.723346</td>\n",
              "      <td>0.00</td>\n",
              "      <td>0.22</td>\n",
              "      <td>0.00</td>\n",
              "      <td>0.32</td>\n",
              "      <td>144.44%</td>\n",
              "      <td>755.56%</td>\n",
              "      <td>1.0</td>\n",
              "      <td>1.00</td>\n",
              "    </tr>\n",
              "    <tr>\n",
              "      <th>13</th>\n",
              "      <td>13</td>\n",
              "      <td>1/21/2020</td>\n",
              "      <td>ID-JI</td>\n",
              "      <td>Jawa Timur</td>\n",
              "      <td>0</td>\n",
              "      <td>0</td>\n",
              "      <td>0</td>\n",
              "      <td>0</td>\n",
              "      <td>9</td>\n",
              "      <td>13</td>\n",
              "      <td>68</td>\n",
              "      <td>-72</td>\n",
              "      <td>Province</td>\n",
              "      <td>Jawa Timur</td>\n",
              "      <td>Indonesia</td>\n",
              "      <td>Asia</td>\n",
              "      <td>Jawa</td>\n",
              "      <td>UTC+07:00</td>\n",
              "      <td>Daerah Biasa</td>\n",
              "      <td>29</td>\n",
              "      <td>9.0</td>\n",
              "      <td>666</td>\n",
              "      <td>777.0</td>\n",
              "      <td>7724.0</td>\n",
              "      <td>47803</td>\n",
              "      <td>40479023</td>\n",
              "      <td>846.78</td>\n",
              "      <td>112.732941</td>\n",
              "      <td>-7.723346</td>\n",
              "      <td>0.00</td>\n",
              "      <td>0.22</td>\n",
              "      <td>0.00</td>\n",
              "      <td>0.32</td>\n",
              "      <td>144.44%</td>\n",
              "      <td>755.56%</td>\n",
              "      <td>1.0</td>\n",
              "      <td>1.00</td>\n",
              "    </tr>\n",
              "    <tr>\n",
              "      <th>14</th>\n",
              "      <td>14</td>\n",
              "      <td>1/22/2020</td>\n",
              "      <td>ID-JI</td>\n",
              "      <td>Jawa Timur</td>\n",
              "      <td>0</td>\n",
              "      <td>0</td>\n",
              "      <td>0</td>\n",
              "      <td>0</td>\n",
              "      <td>9</td>\n",
              "      <td>13</td>\n",
              "      <td>68</td>\n",
              "      <td>-72</td>\n",
              "      <td>Province</td>\n",
              "      <td>Jawa Timur</td>\n",
              "      <td>Indonesia</td>\n",
              "      <td>Asia</td>\n",
              "      <td>Jawa</td>\n",
              "      <td>UTC+07:00</td>\n",
              "      <td>Daerah Biasa</td>\n",
              "      <td>29</td>\n",
              "      <td>9.0</td>\n",
              "      <td>666</td>\n",
              "      <td>777.0</td>\n",
              "      <td>7724.0</td>\n",
              "      <td>47803</td>\n",
              "      <td>40479023</td>\n",
              "      <td>846.78</td>\n",
              "      <td>112.732941</td>\n",
              "      <td>-7.723346</td>\n",
              "      <td>0.00</td>\n",
              "      <td>0.22</td>\n",
              "      <td>0.00</td>\n",
              "      <td>0.32</td>\n",
              "      <td>144.44%</td>\n",
              "      <td>755.56%</td>\n",
              "      <td>1.0</td>\n",
              "      <td>1.00</td>\n",
              "    </tr>\n",
              "  </tbody>\n",
              "</table>\n",
              "</div>"
            ],
            "text/plain": [
              "    Unnamed: 0  ... Growth Factor of New Deaths\n",
              "0            0  ...                        0.00\n",
              "1            1  ...                        0.33\n",
              "2            2  ...                        1.00\n",
              "3            3  ...                        3.00\n",
              "4            4  ...                        1.00\n",
              "5            5  ...                        0.00\n",
              "6            6  ...                        1.00\n",
              "7            7  ...                        1.00\n",
              "8            8  ...                        1.00\n",
              "9            9  ...                        1.00\n",
              "10          10  ...                        1.00\n",
              "11          11  ...                        1.00\n",
              "12          12  ...                        1.00\n",
              "13          13  ...                        1.00\n",
              "14          14  ...                        1.00\n",
              "\n",
              "[15 rows x 37 columns]"
            ]
          },
          "metadata": {},
          "execution_count": 3
        }
      ]
    },
    {
      "cell_type": "code",
      "metadata": {
        "colab": {
          "base_uri": "https://localhost:8080/"
        },
        "id": "vOT3_ysk1f99",
        "outputId": "92ce3a22-9442-4f24-807e-4551cd2c8fff"
      },
      "source": [
        "data.shape"
      ],
      "execution_count": 4,
      "outputs": [
        {
          "output_type": "execute_result",
          "data": {
            "text/plain": [
              "(16283, 37)"
            ]
          },
          "metadata": {},
          "execution_count": 4
        }
      ]
    },
    {
      "cell_type": "code",
      "metadata": {
        "colab": {
          "base_uri": "https://localhost:8080/"
        },
        "id": "K5Le7CqoJjZe",
        "outputId": "481e20ca-b19d-4c84-a1df-dd85d5ac7760"
      },
      "source": [
        "data.info()"
      ],
      "execution_count": 5,
      "outputs": [
        {
          "output_type": "stream",
          "name": "stdout",
          "text": [
            "<class 'pandas.core.frame.DataFrame'>\n",
            "RangeIndex: 16283 entries, 0 to 16282\n",
            "Data columns (total 37 columns):\n",
            " #   Column                       Non-Null Count  Dtype  \n",
            "---  ------                       --------------  -----  \n",
            " 0   Unnamed: 0                   16283 non-null  int64  \n",
            " 1   Date                         16283 non-null  object \n",
            " 2   Location ISO Code            16283 non-null  object \n",
            " 3   Location                     16283 non-null  object \n",
            " 4   New Cases                    16283 non-null  int64  \n",
            " 5   New Deaths                   16283 non-null  int64  \n",
            " 6   New Recovered                16283 non-null  int64  \n",
            " 7   New Active Cases             16283 non-null  int64  \n",
            " 8   Total Cases                  16283 non-null  int64  \n",
            " 9   Total Deaths                 16283 non-null  int64  \n",
            " 10  Total Recovered              16283 non-null  int64  \n",
            " 11  Total Active Cases           16283 non-null  int64  \n",
            " 12  Location Level               16283 non-null  object \n",
            " 13  Province                     16283 non-null  object \n",
            " 14  Country                      16283 non-null  object \n",
            " 15  Continent                    16283 non-null  object \n",
            " 16  Island                       16283 non-null  object \n",
            " 17  Time Zone                    16283 non-null  object \n",
            " 18  Special Status               16283 non-null  object \n",
            " 19  Total Regencies              16283 non-null  int64  \n",
            " 20  Total Cities                 16283 non-null  float64\n",
            " 21  Total Districts              16283 non-null  int64  \n",
            " 22  Total Urban Villages         16283 non-null  float64\n",
            " 23  Total Rural Villages         16283 non-null  float64\n",
            " 24  Area (km2)                   16283 non-null  int64  \n",
            " 25  Population                   16283 non-null  int64  \n",
            " 26  Population Density           16283 non-null  float64\n",
            " 27  Longitude                    16283 non-null  float64\n",
            " 28  Latitude                     16283 non-null  float64\n",
            " 29  New Cases per Million        16283 non-null  float64\n",
            " 30  Total Cases per Million      16283 non-null  float64\n",
            " 31  New Deaths per Million       16283 non-null  float64\n",
            " 32  Total Deaths per Million     16283 non-null  float64\n",
            " 33  Case Fatality Rate           16283 non-null  object \n",
            " 34  Case Recovered Rate          16283 non-null  object \n",
            " 35  Growth Factor of New Cases   16283 non-null  float64\n",
            " 36  Growth Factor of New Deaths  16283 non-null  float64\n",
            "dtypes: float64(12), int64(13), object(12)\n",
            "memory usage: 4.6+ MB\n"
          ]
        }
      ]
    },
    {
      "cell_type": "code",
      "metadata": {
        "colab": {
          "base_uri": "https://localhost:8080/"
        },
        "id": "rbZVbby42Z2o",
        "outputId": "e1fe101b-4c21-43e8-88d3-6ff17d7e63c3"
      },
      "source": [
        "data.isna().sum()"
      ],
      "execution_count": 6,
      "outputs": [
        {
          "output_type": "execute_result",
          "data": {
            "text/plain": [
              "Unnamed: 0                     0\n",
              "Date                           0\n",
              "Location ISO Code              0\n",
              "Location                       0\n",
              "New Cases                      0\n",
              "New Deaths                     0\n",
              "New Recovered                  0\n",
              "New Active Cases               0\n",
              "Total Cases                    0\n",
              "Total Deaths                   0\n",
              "Total Recovered                0\n",
              "Total Active Cases             0\n",
              "Location Level                 0\n",
              "Province                       0\n",
              "Country                        0\n",
              "Continent                      0\n",
              "Island                         0\n",
              "Time Zone                      0\n",
              "Special Status                 0\n",
              "Total Regencies                0\n",
              "Total Cities                   0\n",
              "Total Districts                0\n",
              "Total Urban Villages           0\n",
              "Total Rural Villages           0\n",
              "Area (km2)                     0\n",
              "Population                     0\n",
              "Population Density             0\n",
              "Longitude                      0\n",
              "Latitude                       0\n",
              "New Cases per Million          0\n",
              "Total Cases per Million        0\n",
              "New Deaths per Million         0\n",
              "Total Deaths per Million       0\n",
              "Case Fatality Rate             0\n",
              "Case Recovered Rate            0\n",
              "Growth Factor of New Cases     0\n",
              "Growth Factor of New Deaths    0\n",
              "dtype: int64"
            ]
          },
          "metadata": {},
          "execution_count": 6
        }
      ]
    },
    {
      "cell_type": "markdown",
      "metadata": {
        "id": "MekQMM6M2eIV"
      },
      "source": [
        "Terlihat jelas bahwa data yang digunakan tidak ada missing values karena sudah melewati proses data cleaning."
      ]
    },
    {
      "cell_type": "markdown",
      "metadata": {
        "id": "cZ15vpNK45kQ"
      },
      "source": [
        "##**PROBLEM 1:**\n",
        "\n",
        "Lakukan hypothesis testing terhadap dataset."
      ]
    },
    {
      "cell_type": "markdown",
      "metadata": {
        "id": "oTlwrvmE5FBw"
      },
      "source": [
        "Pertama  saya ingin menceritakan jika data yang digunakan adalah data berupa informasi seputar virus corona, dan untuk hipotesis testing disini saya ingin melakukan analisis apakah tingkat kematian akibat corona virus angkanya lebih besar atau lebih kecil saat sebelum dan sesudah lebaran idul fitri 2021. Asumsi yang saya berikan sebelum testing adalah bahwa tingkat kematian pasca lebaran lebih besar daripada sebelum lebaran."
      ]
    },
    {
      "cell_type": "markdown",
      "metadata": {
        "id": "qHGub-LG6kNT"
      },
      "source": [
        "Maka untuk pengerjaan hipotesis testing kali ini yang ingin saya ukur adalah tingkat kematian, data dependen yang akan digunakan adalah date(tanggal) dan lokasi, kemudian untuk data independen yang akan digunakan adalah data total kematian.\n",
        "\n",
        "Kolom yang akan dipakai adalah kolom [Date],[Location],[Total Deaths]."
      ]
    },
    {
      "cell_type": "markdown",
      "metadata": {
        "id": "ysInE2Uy7gtR"
      },
      "source": [
        "Pertama setting kolom date menggunakan format datetime agar bisa dibaca."
      ]
    },
    {
      "cell_type": "code",
      "metadata": {
        "id": "oR0dAdZaKB-o"
      },
      "source": [
        "data[\"Date\"] = pd.to_datetime(data[\"Date\"])"
      ],
      "execution_count": 7,
      "outputs": []
    },
    {
      "cell_type": "code",
      "metadata": {
        "colab": {
          "base_uri": "https://localhost:8080/"
        },
        "id": "cUDfPuwYKNx0",
        "outputId": "c033fa45-bcce-43d4-de30-72eecacd57ee"
      },
      "source": [
        "data[data[\"Location\"] == \"DKI Jakarta\"][\"Date\"].max()"
      ],
      "execution_count": 8,
      "outputs": [
        {
          "output_type": "execute_result",
          "data": {
            "text/plain": [
              "Timestamp('2021-07-09 00:00:00')"
            ]
          },
          "metadata": {},
          "execution_count": 8
        }
      ]
    },
    {
      "cell_type": "code",
      "metadata": {
        "colab": {
          "base_uri": "https://localhost:8080/"
        },
        "id": "0US-4YOKPwIF",
        "outputId": "a35fff04-ac77-4bd7-b4a3-d264c1f13ec9"
      },
      "source": [
        "data['Date'].head(10)"
      ],
      "execution_count": 9,
      "outputs": [
        {
          "output_type": "execute_result",
          "data": {
            "text/plain": [
              "0   2020-01-08\n",
              "1   2020-01-09\n",
              "2   2020-01-10\n",
              "3   2020-01-11\n",
              "4   2020-01-12\n",
              "5   2020-01-13\n",
              "6   2020-01-14\n",
              "7   2020-01-15\n",
              "8   2020-01-16\n",
              "9   2020-01-17\n",
              "Name: Date, dtype: datetime64[ns]"
            ]
          },
          "metadata": {},
          "execution_count": 9
        }
      ]
    },
    {
      "cell_type": "code",
      "metadata": {
        "colab": {
          "base_uri": "https://localhost:8080/"
        },
        "id": "vKJAlKxFP0WO",
        "outputId": "1164745e-77bb-4af9-eb4f-52bc6796d69d"
      },
      "source": [
        "data['Date'][5000:5015]"
      ],
      "execution_count": 10,
      "outputs": [
        {
          "output_type": "execute_result",
          "data": {
            "text/plain": [
              "5000   2020-08-12\n",
              "5001   2020-08-12\n",
              "5002   2020-08-12\n",
              "5003   2020-08-12\n",
              "5004   2020-08-12\n",
              "5005   2020-08-12\n",
              "5006   2020-08-12\n",
              "5007   2020-08-12\n",
              "5008   2020-08-12\n",
              "5009   2020-08-12\n",
              "5010   2020-08-12\n",
              "5011   2020-08-12\n",
              "5012   2020-08-12\n",
              "5013   2020-08-12\n",
              "5014   2020-08-12\n",
              "Name: Date, dtype: datetime64[ns]"
            ]
          },
          "metadata": {},
          "execution_count": 10
        }
      ]
    },
    {
      "cell_type": "code",
      "metadata": {
        "colab": {
          "base_uri": "https://localhost:8080/"
        },
        "id": "0AV9vOP63jPv",
        "outputId": "bfe0437d-36c9-444a-c38a-91480f327c57"
      },
      "source": [
        "data['Date'].tail(10)"
      ],
      "execution_count": 11,
      "outputs": [
        {
          "output_type": "execute_result",
          "data": {
            "text/plain": [
              "16273   2021-07-09\n",
              "16274   2021-07-09\n",
              "16275   2021-07-09\n",
              "16276   2021-07-09\n",
              "16277   2021-07-09\n",
              "16278   2021-07-09\n",
              "16279   2021-07-09\n",
              "16280   2021-07-09\n",
              "16281   2021-07-09\n",
              "16282   2021-07-09\n",
              "Name: Date, dtype: datetime64[ns]"
            ]
          },
          "metadata": {},
          "execution_count": 11
        }
      ]
    },
    {
      "cell_type": "markdown",
      "metadata": {
        "id": "iC92YEzQ7s5B"
      },
      "source": [
        "Kemudian ambil data tanggal sebelum lebaran, disertai lokasi dan total kematiannya, seperti perintah dibawah ini."
      ]
    },
    {
      "cell_type": "code",
      "metadata": {
        "id": "aVPCLfJBQnU6"
      },
      "source": [
        "before_ied = data[(data[\"Location\"] == \"DKI Jakarta\") & (data[\"Date\"].isin(pd.date_range(start=\"2021-04-12\",end=\"2021-05-13\")))][[\"Date\", \"Total Deaths\", \"Location\"]]"
      ],
      "execution_count": 12,
      "outputs": []
    },
    {
      "cell_type": "code",
      "metadata": {
        "colab": {
          "base_uri": "https://localhost:8080/",
          "height": 1000
        },
        "id": "vuOfjUOkSFXA",
        "outputId": "77fef974-5ed3-438f-bab7-9f4e7dfc8af1"
      },
      "source": [
        "before_ied"
      ],
      "execution_count": 13,
      "outputs": [
        {
          "output_type": "execute_result",
          "data": {
            "text/html": [
              "<div>\n",
              "<style scoped>\n",
              "    .dataframe tbody tr th:only-of-type {\n",
              "        vertical-align: middle;\n",
              "    }\n",
              "\n",
              "    .dataframe tbody tr th {\n",
              "        vertical-align: top;\n",
              "    }\n",
              "\n",
              "    .dataframe thead th {\n",
              "        text-align: right;\n",
              "    }\n",
              "</style>\n",
              "<table border=\"1\" class=\"dataframe\">\n",
              "  <thead>\n",
              "    <tr style=\"text-align: right;\">\n",
              "      <th></th>\n",
              "      <th>Date</th>\n",
              "      <th>Total Deaths</th>\n",
              "      <th>Location</th>\n",
              "    </tr>\n",
              "  </thead>\n",
              "  <tbody>\n",
              "    <tr>\n",
              "      <th>13261</th>\n",
              "      <td>2021-04-12</td>\n",
              "      <td>6431</td>\n",
              "      <td>DKI Jakarta</td>\n",
              "    </tr>\n",
              "    <tr>\n",
              "      <th>13295</th>\n",
              "      <td>2021-04-13</td>\n",
              "      <td>6437</td>\n",
              "      <td>DKI Jakarta</td>\n",
              "    </tr>\n",
              "    <tr>\n",
              "      <th>13329</th>\n",
              "      <td>2021-04-14</td>\n",
              "      <td>6444</td>\n",
              "      <td>DKI Jakarta</td>\n",
              "    </tr>\n",
              "    <tr>\n",
              "      <th>13363</th>\n",
              "      <td>2021-04-15</td>\n",
              "      <td>6450</td>\n",
              "      <td>DKI Jakarta</td>\n",
              "    </tr>\n",
              "    <tr>\n",
              "      <th>13397</th>\n",
              "      <td>2021-04-16</td>\n",
              "      <td>6468</td>\n",
              "      <td>DKI Jakarta</td>\n",
              "    </tr>\n",
              "    <tr>\n",
              "      <th>13431</th>\n",
              "      <td>2021-04-17</td>\n",
              "      <td>6486</td>\n",
              "      <td>DKI Jakarta</td>\n",
              "    </tr>\n",
              "    <tr>\n",
              "      <th>13465</th>\n",
              "      <td>2021-04-18</td>\n",
              "      <td>6499</td>\n",
              "      <td>DKI Jakarta</td>\n",
              "    </tr>\n",
              "    <tr>\n",
              "      <th>13499</th>\n",
              "      <td>2021-04-19</td>\n",
              "      <td>6513</td>\n",
              "      <td>DKI Jakarta</td>\n",
              "    </tr>\n",
              "    <tr>\n",
              "      <th>13533</th>\n",
              "      <td>2021-04-20</td>\n",
              "      <td>6527</td>\n",
              "      <td>DKI Jakarta</td>\n",
              "    </tr>\n",
              "    <tr>\n",
              "      <th>13567</th>\n",
              "      <td>2021-04-21</td>\n",
              "      <td>6539</td>\n",
              "      <td>DKI Jakarta</td>\n",
              "    </tr>\n",
              "    <tr>\n",
              "      <th>13601</th>\n",
              "      <td>2021-04-22</td>\n",
              "      <td>6550</td>\n",
              "      <td>DKI Jakarta</td>\n",
              "    </tr>\n",
              "    <tr>\n",
              "      <th>13635</th>\n",
              "      <td>2021-04-23</td>\n",
              "      <td>6568</td>\n",
              "      <td>DKI Jakarta</td>\n",
              "    </tr>\n",
              "    <tr>\n",
              "      <th>13669</th>\n",
              "      <td>2021-04-24</td>\n",
              "      <td>6580</td>\n",
              "      <td>DKI Jakarta</td>\n",
              "    </tr>\n",
              "    <tr>\n",
              "      <th>13703</th>\n",
              "      <td>2021-04-25</td>\n",
              "      <td>6594</td>\n",
              "      <td>DKI Jakarta</td>\n",
              "    </tr>\n",
              "    <tr>\n",
              "      <th>13737</th>\n",
              "      <td>2021-04-26</td>\n",
              "      <td>6608</td>\n",
              "      <td>DKI Jakarta</td>\n",
              "    </tr>\n",
              "    <tr>\n",
              "      <th>13771</th>\n",
              "      <td>2021-04-27</td>\n",
              "      <td>6625</td>\n",
              "      <td>DKI Jakarta</td>\n",
              "    </tr>\n",
              "    <tr>\n",
              "      <th>13805</th>\n",
              "      <td>2021-04-28</td>\n",
              "      <td>6639</td>\n",
              "      <td>DKI Jakarta</td>\n",
              "    </tr>\n",
              "    <tr>\n",
              "      <th>13839</th>\n",
              "      <td>2021-04-29</td>\n",
              "      <td>6662</td>\n",
              "      <td>DKI Jakarta</td>\n",
              "    </tr>\n",
              "    <tr>\n",
              "      <th>13873</th>\n",
              "      <td>2021-04-30</td>\n",
              "      <td>6666</td>\n",
              "      <td>DKI Jakarta</td>\n",
              "    </tr>\n",
              "    <tr>\n",
              "      <th>13907</th>\n",
              "      <td>2021-05-01</td>\n",
              "      <td>6681</td>\n",
              "      <td>DKI Jakarta</td>\n",
              "    </tr>\n",
              "    <tr>\n",
              "      <th>13941</th>\n",
              "      <td>2021-05-02</td>\n",
              "      <td>6691</td>\n",
              "      <td>DKI Jakarta</td>\n",
              "    </tr>\n",
              "    <tr>\n",
              "      <th>13975</th>\n",
              "      <td>2021-05-03</td>\n",
              "      <td>6711</td>\n",
              "      <td>DKI Jakarta</td>\n",
              "    </tr>\n",
              "    <tr>\n",
              "      <th>14009</th>\n",
              "      <td>2021-05-04</td>\n",
              "      <td>6729</td>\n",
              "      <td>DKI Jakarta</td>\n",
              "    </tr>\n",
              "    <tr>\n",
              "      <th>14043</th>\n",
              "      <td>2021-05-05</td>\n",
              "      <td>6741</td>\n",
              "      <td>DKI Jakarta</td>\n",
              "    </tr>\n",
              "    <tr>\n",
              "      <th>14077</th>\n",
              "      <td>2021-05-06</td>\n",
              "      <td>6762</td>\n",
              "      <td>DKI Jakarta</td>\n",
              "    </tr>\n",
              "    <tr>\n",
              "      <th>14111</th>\n",
              "      <td>2021-05-07</td>\n",
              "      <td>6782</td>\n",
              "      <td>DKI Jakarta</td>\n",
              "    </tr>\n",
              "    <tr>\n",
              "      <th>14145</th>\n",
              "      <td>2021-05-08</td>\n",
              "      <td>6808</td>\n",
              "      <td>DKI Jakarta</td>\n",
              "    </tr>\n",
              "    <tr>\n",
              "      <th>14179</th>\n",
              "      <td>2021-05-09</td>\n",
              "      <td>6824</td>\n",
              "      <td>DKI Jakarta</td>\n",
              "    </tr>\n",
              "    <tr>\n",
              "      <th>14213</th>\n",
              "      <td>2021-05-10</td>\n",
              "      <td>6846</td>\n",
              "      <td>DKI Jakarta</td>\n",
              "    </tr>\n",
              "    <tr>\n",
              "      <th>14247</th>\n",
              "      <td>2021-05-11</td>\n",
              "      <td>6866</td>\n",
              "      <td>DKI Jakarta</td>\n",
              "    </tr>\n",
              "    <tr>\n",
              "      <th>14281</th>\n",
              "      <td>2021-05-12</td>\n",
              "      <td>6879</td>\n",
              "      <td>DKI Jakarta</td>\n",
              "    </tr>\n",
              "    <tr>\n",
              "      <th>14315</th>\n",
              "      <td>2021-05-13</td>\n",
              "      <td>6894</td>\n",
              "      <td>DKI Jakarta</td>\n",
              "    </tr>\n",
              "  </tbody>\n",
              "</table>\n",
              "</div>"
            ],
            "text/plain": [
              "            Date  Total Deaths     Location\n",
              "13261 2021-04-12          6431  DKI Jakarta\n",
              "13295 2021-04-13          6437  DKI Jakarta\n",
              "13329 2021-04-14          6444  DKI Jakarta\n",
              "13363 2021-04-15          6450  DKI Jakarta\n",
              "13397 2021-04-16          6468  DKI Jakarta\n",
              "13431 2021-04-17          6486  DKI Jakarta\n",
              "13465 2021-04-18          6499  DKI Jakarta\n",
              "13499 2021-04-19          6513  DKI Jakarta\n",
              "13533 2021-04-20          6527  DKI Jakarta\n",
              "13567 2021-04-21          6539  DKI Jakarta\n",
              "13601 2021-04-22          6550  DKI Jakarta\n",
              "13635 2021-04-23          6568  DKI Jakarta\n",
              "13669 2021-04-24          6580  DKI Jakarta\n",
              "13703 2021-04-25          6594  DKI Jakarta\n",
              "13737 2021-04-26          6608  DKI Jakarta\n",
              "13771 2021-04-27          6625  DKI Jakarta\n",
              "13805 2021-04-28          6639  DKI Jakarta\n",
              "13839 2021-04-29          6662  DKI Jakarta\n",
              "13873 2021-04-30          6666  DKI Jakarta\n",
              "13907 2021-05-01          6681  DKI Jakarta\n",
              "13941 2021-05-02          6691  DKI Jakarta\n",
              "13975 2021-05-03          6711  DKI Jakarta\n",
              "14009 2021-05-04          6729  DKI Jakarta\n",
              "14043 2021-05-05          6741  DKI Jakarta\n",
              "14077 2021-05-06          6762  DKI Jakarta\n",
              "14111 2021-05-07          6782  DKI Jakarta\n",
              "14145 2021-05-08          6808  DKI Jakarta\n",
              "14179 2021-05-09          6824  DKI Jakarta\n",
              "14213 2021-05-10          6846  DKI Jakarta\n",
              "14247 2021-05-11          6866  DKI Jakarta\n",
              "14281 2021-05-12          6879  DKI Jakarta\n",
              "14315 2021-05-13          6894  DKI Jakarta"
            ]
          },
          "metadata": {},
          "execution_count": 13
        }
      ]
    },
    {
      "cell_type": "code",
      "metadata": {
        "colab": {
          "base_uri": "https://localhost:8080/"
        },
        "id": "ZW8oYOwFSLS8",
        "outputId": "6c684e40-fa55-4135-f365-4702ee731699"
      },
      "source": [
        "before_ied.shape"
      ],
      "execution_count": 14,
      "outputs": [
        {
          "output_type": "execute_result",
          "data": {
            "text/plain": [
              "(32, 3)"
            ]
          },
          "metadata": {},
          "execution_count": 14
        }
      ]
    },
    {
      "cell_type": "markdown",
      "metadata": {
        "id": "aHYRXt5a7-YG"
      },
      "source": [
        "Jika sudah mendapatkan variabel before, kemudian buat variabel afternya, untuk langkah-langkahnya sama dengan daiatas."
      ]
    },
    {
      "cell_type": "code",
      "metadata": {
        "id": "VJ6xxjoDSW1h"
      },
      "source": [
        "after_ied = data[(data[\"Location\"] == \"DKI Jakarta\") & (data[\"Date\"].isin(pd.date_range(start=\"2021-05-15\",end=\"2021-06-15\")))][[\"Date\", \"Total Deaths\", \"Location\"]]"
      ],
      "execution_count": 15,
      "outputs": []
    },
    {
      "cell_type": "code",
      "metadata": {
        "colab": {
          "base_uri": "https://localhost:8080/",
          "height": 1000
        },
        "id": "izERG2BSSx1K",
        "outputId": "312b0de9-1196-491b-e38c-04282611b21f"
      },
      "source": [
        "after_ied"
      ],
      "execution_count": 16,
      "outputs": [
        {
          "output_type": "execute_result",
          "data": {
            "text/html": [
              "<div>\n",
              "<style scoped>\n",
              "    .dataframe tbody tr th:only-of-type {\n",
              "        vertical-align: middle;\n",
              "    }\n",
              "\n",
              "    .dataframe tbody tr th {\n",
              "        vertical-align: top;\n",
              "    }\n",
              "\n",
              "    .dataframe thead th {\n",
              "        text-align: right;\n",
              "    }\n",
              "</style>\n",
              "<table border=\"1\" class=\"dataframe\">\n",
              "  <thead>\n",
              "    <tr style=\"text-align: right;\">\n",
              "      <th></th>\n",
              "      <th>Date</th>\n",
              "      <th>Total Deaths</th>\n",
              "      <th>Location</th>\n",
              "    </tr>\n",
              "  </thead>\n",
              "  <tbody>\n",
              "    <tr>\n",
              "      <th>14383</th>\n",
              "      <td>2021-05-15</td>\n",
              "      <td>6925</td>\n",
              "      <td>DKI Jakarta</td>\n",
              "    </tr>\n",
              "    <tr>\n",
              "      <th>14417</th>\n",
              "      <td>2021-05-16</td>\n",
              "      <td>6943</td>\n",
              "      <td>DKI Jakarta</td>\n",
              "    </tr>\n",
              "    <tr>\n",
              "      <th>14451</th>\n",
              "      <td>2021-05-17</td>\n",
              "      <td>6968</td>\n",
              "      <td>DKI Jakarta</td>\n",
              "    </tr>\n",
              "    <tr>\n",
              "      <th>14485</th>\n",
              "      <td>2021-05-18</td>\n",
              "      <td>6983</td>\n",
              "      <td>DKI Jakarta</td>\n",
              "    </tr>\n",
              "    <tr>\n",
              "      <th>14519</th>\n",
              "      <td>2021-05-19</td>\n",
              "      <td>7002</td>\n",
              "      <td>DKI Jakarta</td>\n",
              "    </tr>\n",
              "    <tr>\n",
              "      <th>14553</th>\n",
              "      <td>2021-05-20</td>\n",
              "      <td>7022</td>\n",
              "      <td>DKI Jakarta</td>\n",
              "    </tr>\n",
              "    <tr>\n",
              "      <th>14587</th>\n",
              "      <td>2021-05-21</td>\n",
              "      <td>7038</td>\n",
              "      <td>DKI Jakarta</td>\n",
              "    </tr>\n",
              "    <tr>\n",
              "      <th>14621</th>\n",
              "      <td>2021-05-22</td>\n",
              "      <td>7050</td>\n",
              "      <td>DKI Jakarta</td>\n",
              "    </tr>\n",
              "    <tr>\n",
              "      <th>14655</th>\n",
              "      <td>2021-05-23</td>\n",
              "      <td>7062</td>\n",
              "      <td>DKI Jakarta</td>\n",
              "    </tr>\n",
              "    <tr>\n",
              "      <th>14689</th>\n",
              "      <td>2021-05-24</td>\n",
              "      <td>7072</td>\n",
              "      <td>DKI Jakarta</td>\n",
              "    </tr>\n",
              "    <tr>\n",
              "      <th>14723</th>\n",
              "      <td>2021-05-25</td>\n",
              "      <td>7086</td>\n",
              "      <td>DKI Jakarta</td>\n",
              "    </tr>\n",
              "    <tr>\n",
              "      <th>14757</th>\n",
              "      <td>2021-05-26</td>\n",
              "      <td>7097</td>\n",
              "      <td>DKI Jakarta</td>\n",
              "    </tr>\n",
              "    <tr>\n",
              "      <th>14791</th>\n",
              "      <td>2021-05-27</td>\n",
              "      <td>7115</td>\n",
              "      <td>DKI Jakarta</td>\n",
              "    </tr>\n",
              "    <tr>\n",
              "      <th>14825</th>\n",
              "      <td>2021-05-28</td>\n",
              "      <td>7134</td>\n",
              "      <td>DKI Jakarta</td>\n",
              "    </tr>\n",
              "    <tr>\n",
              "      <th>14859</th>\n",
              "      <td>2021-05-29</td>\n",
              "      <td>7146</td>\n",
              "      <td>DKI Jakarta</td>\n",
              "    </tr>\n",
              "    <tr>\n",
              "      <th>14893</th>\n",
              "      <td>2021-05-30</td>\n",
              "      <td>7159</td>\n",
              "      <td>DKI Jakarta</td>\n",
              "    </tr>\n",
              "    <tr>\n",
              "      <th>14927</th>\n",
              "      <td>2021-05-31</td>\n",
              "      <td>7178</td>\n",
              "      <td>DKI Jakarta</td>\n",
              "    </tr>\n",
              "    <tr>\n",
              "      <th>14961</th>\n",
              "      <td>2021-06-01</td>\n",
              "      <td>7189</td>\n",
              "      <td>DKI Jakarta</td>\n",
              "    </tr>\n",
              "    <tr>\n",
              "      <th>14995</th>\n",
              "      <td>2021-06-02</td>\n",
              "      <td>7209</td>\n",
              "      <td>DKI Jakarta</td>\n",
              "    </tr>\n",
              "    <tr>\n",
              "      <th>15029</th>\n",
              "      <td>2021-06-03</td>\n",
              "      <td>7230</td>\n",
              "      <td>DKI Jakarta</td>\n",
              "    </tr>\n",
              "    <tr>\n",
              "      <th>15063</th>\n",
              "      <td>2021-06-04</td>\n",
              "      <td>7250</td>\n",
              "      <td>DKI Jakarta</td>\n",
              "    </tr>\n",
              "    <tr>\n",
              "      <th>15097</th>\n",
              "      <td>2021-06-05</td>\n",
              "      <td>7272</td>\n",
              "      <td>DKI Jakarta</td>\n",
              "    </tr>\n",
              "    <tr>\n",
              "      <th>15131</th>\n",
              "      <td>2021-06-06</td>\n",
              "      <td>7292</td>\n",
              "      <td>DKI Jakarta</td>\n",
              "    </tr>\n",
              "    <tr>\n",
              "      <th>15165</th>\n",
              "      <td>2021-06-07</td>\n",
              "      <td>7312</td>\n",
              "      <td>DKI Jakarta</td>\n",
              "    </tr>\n",
              "    <tr>\n",
              "      <th>15199</th>\n",
              "      <td>2021-06-08</td>\n",
              "      <td>7332</td>\n",
              "      <td>DKI Jakarta</td>\n",
              "    </tr>\n",
              "    <tr>\n",
              "      <th>15233</th>\n",
              "      <td>2021-06-09</td>\n",
              "      <td>7346</td>\n",
              "      <td>DKI Jakarta</td>\n",
              "    </tr>\n",
              "    <tr>\n",
              "      <th>15267</th>\n",
              "      <td>2021-06-10</td>\n",
              "      <td>7371</td>\n",
              "      <td>DKI Jakarta</td>\n",
              "    </tr>\n",
              "    <tr>\n",
              "      <th>15301</th>\n",
              "      <td>2021-06-11</td>\n",
              "      <td>7392</td>\n",
              "      <td>DKI Jakarta</td>\n",
              "    </tr>\n",
              "    <tr>\n",
              "      <th>15335</th>\n",
              "      <td>2021-06-12</td>\n",
              "      <td>7411</td>\n",
              "      <td>DKI Jakarta</td>\n",
              "    </tr>\n",
              "    <tr>\n",
              "      <th>15369</th>\n",
              "      <td>2021-06-13</td>\n",
              "      <td>7430</td>\n",
              "      <td>DKI Jakarta</td>\n",
              "    </tr>\n",
              "    <tr>\n",
              "      <th>15403</th>\n",
              "      <td>2021-06-14</td>\n",
              "      <td>7469</td>\n",
              "      <td>DKI Jakarta</td>\n",
              "    </tr>\n",
              "    <tr>\n",
              "      <th>15437</th>\n",
              "      <td>2021-06-15</td>\n",
              "      <td>7489</td>\n",
              "      <td>DKI Jakarta</td>\n",
              "    </tr>\n",
              "  </tbody>\n",
              "</table>\n",
              "</div>"
            ],
            "text/plain": [
              "            Date  Total Deaths     Location\n",
              "14383 2021-05-15          6925  DKI Jakarta\n",
              "14417 2021-05-16          6943  DKI Jakarta\n",
              "14451 2021-05-17          6968  DKI Jakarta\n",
              "14485 2021-05-18          6983  DKI Jakarta\n",
              "14519 2021-05-19          7002  DKI Jakarta\n",
              "14553 2021-05-20          7022  DKI Jakarta\n",
              "14587 2021-05-21          7038  DKI Jakarta\n",
              "14621 2021-05-22          7050  DKI Jakarta\n",
              "14655 2021-05-23          7062  DKI Jakarta\n",
              "14689 2021-05-24          7072  DKI Jakarta\n",
              "14723 2021-05-25          7086  DKI Jakarta\n",
              "14757 2021-05-26          7097  DKI Jakarta\n",
              "14791 2021-05-27          7115  DKI Jakarta\n",
              "14825 2021-05-28          7134  DKI Jakarta\n",
              "14859 2021-05-29          7146  DKI Jakarta\n",
              "14893 2021-05-30          7159  DKI Jakarta\n",
              "14927 2021-05-31          7178  DKI Jakarta\n",
              "14961 2021-06-01          7189  DKI Jakarta\n",
              "14995 2021-06-02          7209  DKI Jakarta\n",
              "15029 2021-06-03          7230  DKI Jakarta\n",
              "15063 2021-06-04          7250  DKI Jakarta\n",
              "15097 2021-06-05          7272  DKI Jakarta\n",
              "15131 2021-06-06          7292  DKI Jakarta\n",
              "15165 2021-06-07          7312  DKI Jakarta\n",
              "15199 2021-06-08          7332  DKI Jakarta\n",
              "15233 2021-06-09          7346  DKI Jakarta\n",
              "15267 2021-06-10          7371  DKI Jakarta\n",
              "15301 2021-06-11          7392  DKI Jakarta\n",
              "15335 2021-06-12          7411  DKI Jakarta\n",
              "15369 2021-06-13          7430  DKI Jakarta\n",
              "15403 2021-06-14          7469  DKI Jakarta\n",
              "15437 2021-06-15          7489  DKI Jakarta"
            ]
          },
          "metadata": {},
          "execution_count": 16
        }
      ]
    },
    {
      "cell_type": "markdown",
      "metadata": {
        "id": "ppRO5nAC8MaT"
      },
      "source": [
        "Pastikan untuk .shape, before dan after harus memiliki output baris yang sama."
      ]
    },
    {
      "cell_type": "code",
      "metadata": {
        "colab": {
          "base_uri": "https://localhost:8080/"
        },
        "id": "XJ_CmtuOS1gz",
        "outputId": "85b8cf60-6819-419c-daae-808d7166376e"
      },
      "source": [
        "after_ied.shape"
      ],
      "execution_count": 17,
      "outputs": [
        {
          "output_type": "execute_result",
          "data": {
            "text/plain": [
              "(32, 3)"
            ]
          },
          "metadata": {},
          "execution_count": 17
        }
      ]
    },
    {
      "cell_type": "markdown",
      "metadata": {
        "id": "fGGs7D5Z8jvf"
      },
      "source": [
        "Kemudian membuat plotnya."
      ]
    },
    {
      "cell_type": "code",
      "metadata": {
        "colab": {
          "base_uri": "https://localhost:8080/",
          "height": 320
        },
        "id": "TU1I8VQCTEtV",
        "outputId": "bea72eb8-aa62-4229-e6ba-a896c85cf3a4"
      },
      "source": [
        "plt.figure(figsize = (15, 5))\n",
        "plt.plot(\"Date\", \"Total Deaths\", data = pd.concat([before_ied, after_ied]));"
      ],
      "execution_count": 18,
      "outputs": [
        {
          "output_type": "display_data",
          "data": {
            "image/png": "[encoded data removed]",
            "text/plain": [
              "<Figure size 1080x360 with 1 Axes>"
            ]
          },
          "metadata": {
            "needs_background": "light"
          }
        }
      ]
    },
    {
      "cell_type": "markdown",
      "metadata": {
        "id": "S1sVIiB38oS-"
      },
      "source": [
        "Dapat dilihat total angka kematian semakin naik, dan hipotesis tingkat kematian setelah event lebaran angkanya melonjak."
      ]
    },
    {
      "cell_type": "markdown",
      "metadata": {
        "id": "7UQdnxES83PJ"
      },
      "source": [
        "Melakukan T Test total kematian di event before dan after lebaran."
      ]
    },
    {
      "cell_type": "code",
      "metadata": {
        "colab": {
          "base_uri": "https://localhost:8080/"
        },
        "id": "GuhrRYPeUPWi",
        "outputId": "2ddcc82a-251a-4db6-a831-42ca4c75760f"
      },
      "source": [
        "t, p = stats.ttest_rel(after_ied[\"Total Deaths\"],before_ied[\"Total Deaths\"])\n",
        "p1 = p/2\n",
        "print(f\"t-statistic: {t}\")\n",
        "print(f\"t-statistic-pvalue: {p1}\")"
      ],
      "execution_count": 19,
      "outputs": [
        {
          "output_type": "stream",
          "name": "stdout",
          "text": [
            "t-statistic: 141.3452277284443\n",
            "t-statistic-pvalue: 1.9906607242732426e-45\n"
          ]
        }
      ]
    },
    {
      "cell_type": "code",
      "metadata": {
        "id": "QE7-c8k4XgLy"
      },
      "source": [
        "pop = np.random.normal(before_ied[\"Total Deaths\"].mean(), before_ied[\"Total Deaths\"].std(), 100000)\n",
        "\n",
        "ci = stats.norm.interval(0.90, before_ied[\"Total Deaths\"].mean(), before_ied[\"Total Deaths\"].std())"
      ],
      "execution_count": 20,
      "outputs": []
    },
    {
      "cell_type": "code",
      "metadata": {
        "colab": {
          "base_uri": "https://localhost:8080/",
          "height": 265
        },
        "id": "3xpGrdagaigZ",
        "outputId": "d10b4a97-a10e-4ae4-d355-820f3dd0dd07"
      },
      "source": [
        "plt.hist(pop, bins = 100)\n",
        "plt.axvline(pop.mean(), color = \"y\", linestyle = \"--\", linewidth = 2)\n",
        "plt.axvline(ci[1], color = \"r\", linestyle = \"--\", linewidth = 2)\n",
        "plt.axvline(pop.mean() + t*pop.std(), color = \"m\", linestyle = \"--\", linewidth = 2)\n",
        "plt.show()"
      ],
      "execution_count": 21,
      "outputs": [
        {
          "output_type": "display_data",
          "data": {
            "image/png": "[encoded data removed]",
            "text/plain": [
              "<Figure size 432x288 with 1 Axes>"
            ]
          },
          "metadata": {
            "needs_background": "light"
          }
        }
      ]
    },
    {
      "cell_type": "code",
      "metadata": {
        "colab": {
          "base_uri": "https://localhost:8080/"
        },
        "id": "2RfEvsLpcDJP",
        "outputId": "b4039bfc-b263-4aea-d245-99dc244ffb7c"
      },
      "source": [
        "if p1 <= 0.05:\n",
        "  print(\"H0 Diterima\")\n",
        "elif p1 > 0.05:\n",
        "  print(\"H0 & Tidak Dapat menerima H1\")"
      ],
      "execution_count": 22,
      "outputs": [
        {
          "output_type": "stream",
          "name": "stdout",
          "text": [
            "H0 Diterima\n"
          ]
        }
      ]
    },
    {
      "cell_type": "code",
      "metadata": {
        "colab": {
          "base_uri": "https://localhost:8080/"
        },
        "id": "mmqgQNMkd9xT",
        "outputId": "af64e49b-a688-42b0-e745-740b15865036"
      },
      "source": [
        "print(\"Before ied Total Deaths mean: {}\".format(round(before_ied[\"Total Deaths\"].mean(), 3)))\n",
        "print(\"After ied Total Deaths mean: {}\".format(round(after_ied[\"Total Deaths\"].mean(), 3)))"
      ],
      "execution_count": 23,
      "outputs": [
        {
          "output_type": "stream",
          "name": "stdout",
          "text": [
            "Before ied Total Deaths mean: 6640.625\n",
            "After ied Total Deaths mean: 7186.688\n"
          ]
        }
      ]
    },
    {
      "cell_type": "markdown",
      "metadata": {
        "id": "TcvE3J0v9RNB"
      },
      "source": [
        "Kesimpulan, Hasil akhir dari Hipotesis testing kali ini, hipotesa yang saya berikan adalah tingkat kematian sebelum event lebaran memiliki rata-rata kematian 6640.625. Untuk event pasca lebaran memiliki rata-rata 7186.688 total angka kematian. ini menunjukkan ada peningkatan angka kematian setelah lebaran yang mungkin salah satu penyebabnya adalah event mudik, karena banyak orang-orang yang berpergian keluar, menambah pesebaran virus corona dan bertemu kerabat jauh. Tindakan seperti ini dapat memicu penularan dan pesebaran virus hingga menyebabkan peningkatan angka kematian."
      ]
    }
  ]
}