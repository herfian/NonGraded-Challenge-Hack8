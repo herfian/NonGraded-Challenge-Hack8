{
  "nbformat": 4,
  "nbformat_minor": 0,
  "metadata": {
    "colab": {
      "name": "Tugas8.ipynb",
      "provenance": [],
      "collapsed_sections": []
    },
    "kernelspec": {
      "name": "python3",
      "display_name": "Python 3"
    },
    "language_info": {
      "name": "python"
    }
  },
  "cells": [
    {
      "cell_type": "markdown",
      "metadata": {
        "id": "L9s69Qk98Y0R"
      },
      "source": [
        "##**Non Graded Challenge 8**\n",
        "\n",
        "##Nama : Muhammad Rizki Herfian (Batch 004)\n",
        "\n",
        "##Materi : Integral"
      ]
    },
    {
      "cell_type": "markdown",
      "metadata": {
        "id": "PpDjw9Sl9E_2"
      },
      "source": [
        "##**Problems :**\n",
        "\n",
        "![Screenshot_27.png](data:image/png;base64,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)"
      ]
    },
    {
      "cell_type": "markdown",
      "metadata": {
        "id": "zby1jgS4-6qL"
      },
      "source": [
        "##**Solution :**\n",
        "\n",
        "##Pertama mengimport library yang diperlukan yaitu library Sympy"
      ]
    },
    {
      "cell_type": "code",
      "metadata": {
        "id": "ZgSqZRgN0ymF"
      },
      "source": [
        "import sympy as sy"
      ],
      "execution_count": 1,
      "outputs": []
    },
    {
      "cell_type": "markdown",
      "metadata": {
        "id": "klOYNu7w_A9P"
      },
      "source": [
        "##Seperti biasa, sebelum itu inisiasikan x ke dalam symbol, agar tidak ada error jika x tidak terdefinisi"
      ]
    },
    {
      "cell_type": "code",
      "metadata": {
        "id": "hiesG-TZ_IoM"
      },
      "source": [
        "x = sy.Symbol(\"x\",real=True)"
      ],
      "execution_count": 2,
      "outputs": []
    },
    {
      "cell_type": "markdown",
      "metadata": {
        "id": "2uNN4g9vAPs7"
      },
      "source": [
        "##Kemudian tinggal lakukan operasi integral dengan perintah seperti dibawah ini :"
      ]
    },
    {
      "cell_type": "code",
      "metadata": {
        "colab": {
          "base_uri": "https://localhost:8080/",
          "height": 39
        },
        "id": "bpFS9AKM_KpK",
        "outputId": "a718ceed-f071-4dd4-a6cf-eeb5d1cc5ce2"
      },
      "source": [
        "#Operasi integral menggunakan Symbolic\n",
        "I1 = 3*x**2 - 6*x + 3 #3x² - 6x + 3\n",
        "I1.integrate(x)"
      ],
      "execution_count": 3,
      "outputs": [
        {
          "output_type": "execute_result",
          "data": {
            "text/latex": "$\\displaystyle x^{3} - 3 x^{2} + 3 x$",
            "text/plain": [
              "x**3 - 3*x**2 + 3*x"
            ]
          },
          "metadata": {},
          "execution_count": 3
        }
      ]
    },
    {
      "cell_type": "code",
      "metadata": {
        "colab": {
          "base_uri": "https://localhost:8080/"
        },
        "id": "CzfXkf_12aJW",
        "outputId": "61167888-e366-42db-af66-ea592c578d30"
      },
      "source": [
        "#Operasi integral menggunakan Numerical -Function\n",
        "from scipy import integrate\n",
        "\n",
        "def f(x):\n",
        "  return 3*x**2 - 6*x + 3 #3x² - 6x + 3\n",
        "\n",
        "A = integrate.quad(f,2,5)\n",
        "print(A)"
      ],
      "execution_count": null,
      "outputs": [
        {
          "output_type": "stream",
          "name": "stdout",
          "text": [
            "(62.999999999999986, 6.994405055138484e-13)\n"
          ]
        }
      ]
    },
    {
      "cell_type": "markdown",
      "metadata": {
        "id": "2ClBzF1ZCGNz"
      },
      "source": [
        "##Note : Source Code dibawah ini hanya bisa dijalankan di Jupyter atau Visual Studio Code."
      ]
    },
    {
      "cell_type": "code",
      "metadata": {
        "id": "Ez3m4loy3cQ9"
      },
      "source": [
        "# from scipy.integrate import trapezoid\n",
        "# import numpy as np\n",
        "\n",
        "# def f(x):\n",
        "#   return 3*x**2 - 6*x + 3\n",
        "\n",
        "# x = np.linspace(2,5)\n",
        "# y = f(x)\n",
        "# A = integrate.trapezoid(y,x)\n",
        "# print(A)"
      ],
      "execution_count": null,
      "outputs": []
    },
    {
      "cell_type": "code",
      "metadata": {
        "colab": {
          "base_uri": "https://localhost:8080/",
          "height": 54
        },
        "id": "Lw4Gm3l312qf",
        "outputId": "ca6a1257-7cf4-4d8d-ee82-a007f59d9cb4"
      },
      "source": [
        "#Operasi integral menggunakan Symbolic\n",
        "I2 = 8*x**3 - x**2 + 5*x - 1 #8x³ -  x² + 5x -1\n",
        "I2.integrate(x)"
      ],
      "execution_count": null,
      "outputs": [
        {
          "output_type": "execute_result",
          "data": {
            "text/latex": "$\\displaystyle 2 x^{4} - \\frac{x^{3}}{3} + \\frac{5 x^{2}}{2} - x$",
            "text/plain": [
              "2*x**4 - x**3/3 + 5*x**2/2 - x"
            ]
          },
          "metadata": {},
          "execution_count": 22
        }
      ]
    },
    {
      "cell_type": "code",
      "metadata": {
        "colab": {
          "base_uri": "https://localhost:8080/"
        },
        "id": "HbsXmArp5X4f",
        "outputId": "f633c91f-ec6f-473b-90e2-6f4a3b3270b4"
      },
      "source": [
        "#Operasi integral menggunakan Numerical -Function\n",
        "def f(x):\n",
        "  return 8*x**3 - x**2 + 5*x - 1 #8x³ -  x² + 5x -1\n",
        "\n",
        "B = integrate.quad(f,2,5)\n",
        "print(B)"
      ],
      "execution_count": null,
      "outputs": [
        {
          "output_type": "stream",
          "name": "stdout",
          "text": [
            "(1228.4999999999998, 1.3639089857520045e-11)\n"
          ]
        }
      ]
    }
  ]
}