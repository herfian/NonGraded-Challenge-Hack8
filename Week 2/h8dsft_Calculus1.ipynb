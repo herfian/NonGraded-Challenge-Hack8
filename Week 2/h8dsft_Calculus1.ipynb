{
  "nbformat": 4,
  "nbformat_minor": 0,
  "metadata": {
    "colab": {
      "name": "Tugas7.ipynb",
      "provenance": []
    },
    "kernelspec": {
      "name": "python3",
      "display_name": "Python 3"
    },
    "language_info": {
      "name": "python"
    }
  },
  "cells": [
    {
      "cell_type": "markdown",
      "metadata": {
        "id": "BJmuhTnD2pui"
      },
      "source": [
        "##**Non Graded Challenge 7**\n",
        "\n",
        "##Nama : Muhammad Rizki Herfian (Batch 004)\n",
        "\n",
        "##Materi : Turunan"
      ]
    },
    {
      "cell_type": "markdown",
      "metadata": {
        "id": "zNSPELSy4kgF"
      },
      "source": [
        "##**Problems :**\n",
        "\n",
        "![Screenshot_26.png](data:image/png;base64,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)"
      ]
    },
    {
      "cell_type": "markdown",
      "metadata": {
        "id": "mzNwQQoD407c"
      },
      "source": [
        "##**Solution :**\n",
        "\n",
        "##Pertama mengimport library yang diperlukan yaitu library Sympy"
      ]
    },
    {
      "cell_type": "code",
      "metadata": {
        "id": "vv7xiB-pOw15"
      },
      "source": [
        "import sympy as sy"
      ],
      "execution_count": 1,
      "outputs": []
    },
    {
      "cell_type": "markdown",
      "metadata": {
        "id": "9RlXfebb52WZ"
      },
      "source": [
        "##Kemudian inisiasikan x ke dalam symbol, agar tidak ada error jika x tidak terdefinisi"
      ]
    },
    {
      "cell_type": "code",
      "metadata": {
        "colab": {
          "base_uri": "https://localhost:8080/",
          "height": 39
        },
        "id": "LHE_HQJuQicD",
        "outputId": "246bb259-f07e-4194-ea8e-64587b8427a0"
      },
      "source": [
        "x = sy.Symbol(\"x\",real=True) #Inisiasi x menjadi simbol.\n",
        "y1 = x**2+ 2*x +1 #y1 = x² + 2x + 1\n",
        "y1.diff(x) #Perintah untuk diferensial / Turunan"
      ],
      "execution_count": 2,
      "outputs": [
        {
          "output_type": "execute_result",
          "data": {
            "text/latex": "$\\displaystyle 2 x + 2$",
            "text/plain": [
              "2*x + 2"
            ]
          },
          "metadata": {},
          "execution_count": 2
        }
      ]
    },
    {
      "cell_type": "markdown",
      "metadata": {
        "id": "S_8VtXVQ7P0_"
      },
      "source": [
        "##Untuk problem kedua, karena tadi saya sudah menginisiasikan x menjadi simbol jadi tinggal masuk ke step pengerjaan seperti diatas."
      ]
    },
    {
      "cell_type": "code",
      "metadata": {
        "colab": {
          "base_uri": "https://localhost:8080/",
          "height": 39
        },
        "id": "7s6V-nNCRPuk",
        "outputId": "d2f9eda0-8bb2-4c4c-8caf-bf2f1a2b55b8"
      },
      "source": [
        "y2 = 4*x**3 - 3*x**2 + 2*x -1 #4x³ - 3x² + 2x - 1\n",
        "y2.diff(x)"
      ],
      "execution_count": null,
      "outputs": [
        {
          "output_type": "execute_result",
          "data": {
            "text/latex": "$\\displaystyle 12 x^{2} - 6 x + 2$",
            "text/plain": [
              "12*x**2 - 6*x + 2"
            ]
          },
          "metadata": {},
          "execution_count": 11
        }
      ]
    },
    {
      "cell_type": "markdown",
      "metadata": {
        "id": "iPXLk_wC7z6e"
      },
      "source": [
        "##Karena hasilnya 12x² −6x+2, berarti masih bisa diturunkan lagi, berikut caranya :"
      ]
    },
    {
      "cell_type": "code",
      "metadata": {
        "colab": {
          "base_uri": "https://localhost:8080/",
          "height": 39
        },
        "id": "ibWU5I9USHMR",
        "outputId": "a78ad35f-8afd-4032-e1e2-1c1ad46218fc"
      },
      "source": [
        "y3 = y2.diff(x)\n",
        "y3.diff(x)"
      ],
      "execution_count": null,
      "outputs": [
        {
          "output_type": "execute_result",
          "data": {
            "text/latex": "$\\displaystyle 24 x - 6$",
            "text/plain": [
              "24*x - 6"
            ]
          },
          "metadata": {},
          "execution_count": 13
        }
      ]
    }
  ]
}